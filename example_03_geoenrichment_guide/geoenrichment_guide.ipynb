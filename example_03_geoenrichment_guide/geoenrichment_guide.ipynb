{
 "cells": [
  {
   "cell_type": "markdown",
   "id": "01bb7910",
   "metadata": {},
   "source": [
    "# ArcGIS API for Python\n",
    "\n",
    "## GeoEnrichment\n",
    "\n",
    "**GeoEnrichment** provides the ability to get facts about a location or area. Using GeoEnrichment, you can get information about the people and places in a specific area or within a certain distance or drive time from a location. It enables you to query and use information from a large collection of data sets including population, income, housing, consumer behavior, and the natural environment.\n",
    "\n",
    "This module enables you to answer questions about locations that you can't answer with maps alone. For example: What kind of people live here? What do people like to do in this area? What are their habits and lifestyles?\n",
    "\n",
    "The `enrich()` method can be used to retrieve demographics and other relevant characteristics associated with the area surrounding the requested places. You can also use the `arcgis.geoenrichment` **module** to obtain additional geographic context (for example, the **ZIP Code** of a location) and geographic boundaries (for example, the geometry for a drive-time service area).\n",
    "\n",
    "**Site analysis** is a popular application of this type of **data enrichment**. For example, GeoEnrichment can be leveraged to study the population that would be affected by the development of a new community center within their neighborhood. With the `enrich()` method, the proposed site can be submitted, and the demographics and other relevant characteristics associated with the area around the site will be returned.\n",
    "\n",
    "A user must be logged on to a GIS in order to use GeoEnrichment. The geoenrichment functionality is available in the `arcgis.geoenrichment` **module**."
   ]
  },
  {
   "cell_type": "code",
   "execution_count": 1,
   "id": "1fcef39c",
   "metadata": {},
   "outputs": [],
   "source": [
    "from arcgis.gis import GIS\n",
    "from arcgis.geoenrichment import *\n",
    "\n",
    "gis = GIS(api_key=\"AAPK76acad6bd0134c9fb64b9e549a4126c8gKoG7GT1JuRsY7v2xsCzqFY2OYTi9IBgNFdQYnpqcR1UO21spahGxjpY_rS1a7qE\")"
   ]
  },
  {
   "cell_type": "markdown",
   "id": "cc50d24c",
   "metadata": {},
   "source": [
    "### 1. GeoEnrichment coverage"
   ]
  },
  {
   "cell_type": "code",
   "execution_count": 2,
   "id": "c5ccb155",
   "metadata": {},
   "outputs": [
    {
     "name": "stdout",
     "output_type": "stream",
     "text": [
      "Number of countries, for which GeoEnrichment data is available: 154\n"
     ]
    }
   ],
   "source": [
    "# Query the countries for which there is GeoEnrichment data\n",
    "countries = get_countries()\n",
    "print(\"Number of countries, for which GeoEnrichment data is available: \" + str(len(countries)))"
   ]
  },
  {
   "cell_type": "code",
   "execution_count": 3,
   "id": "9e54445f",
   "metadata": {
    "scrolled": true
   },
   "outputs": [
    {
     "data": {
      "text/plain": [
       "[<Country - Albania (GIS @ https://www.arcgis.com version:10.1)>,\n",
       " <Country - Algeria (GIS @ https://www.arcgis.com version:10.1)>,\n",
       " <Country - Andorra (GIS @ https://www.arcgis.com version:10.1)>,\n",
       " <Country - Angola (GIS @ https://www.arcgis.com version:10.1)>,\n",
       " <Country - Anguilla (GIS @ https://www.arcgis.com version:10.1)>,\n",
       " <Country - Argentina (GIS @ https://www.arcgis.com version:10.1)>,\n",
       " <Country - Armenia (GIS @ https://www.arcgis.com version:10.1)>,\n",
       " <Country - Aruba (GIS @ https://www.arcgis.com version:10.1)>,\n",
       " <Country - Australia (GIS @ https://www.arcgis.com version:10.1)>,\n",
       " <Country - Austria (GIS @ https://www.arcgis.com version:10.1)>]"
      ]
     },
     "execution_count": 3,
     "metadata": {},
     "output_type": "execute_result"
    }
   ],
   "source": [
    "# Print a few countries for a sample\n",
    "countries[0:10]"
   ]
  },
  {
   "cell_type": "markdown",
   "id": "cacae69f",
   "metadata": {},
   "source": [
    "### 2. Filtering countries by properties"
   ]
  },
  {
   "cell_type": "code",
   "execution_count": 4,
   "id": "c97edb67",
   "metadata": {},
   "outputs": [
    {
     "data": {
      "text/plain": [
       "['Australia',\n",
       " 'Fiji',\n",
       " 'French Polynesia',\n",
       " 'New Caledonia',\n",
       " 'New Zealand',\n",
       " 'Papua New Guinea']"
      ]
     },
     "execution_count": 4,
     "metadata": {},
     "output_type": "execute_result"
    }
   ],
   "source": [
    "# Gets the countries in Oceania\n",
    "[country.properties.country_name for country in countries if country.properties.continent == 'Oceania']"
   ]
  },
  {
   "cell_type": "markdown",
   "id": "4f8bb267",
   "metadata": {},
   "source": [
    "### 3. Discovering information for a country"
   ]
  },
  {
   "cell_type": "code",
   "execution_count": 5,
   "id": "05f1266c",
   "metadata": {},
   "outputs": [
    {
     "data": {
      "text/plain": [
       "arcgis.geoenrichment.enrichment.Country"
      ]
     },
     "execution_count": 5,
     "metadata": {},
     "output_type": "execute_result"
    }
   ],
   "source": [
    "# Country class can be used to discover the data collections, sub-geographies and available reports for a country\n",
    "usa = Country.get('USA')\n",
    "type(usa)"
   ]
  },
  {
   "cell_type": "code",
   "execution_count": 6,
   "id": "78d1f64a",
   "metadata": {},
   "outputs": [
    {
     "data": {
      "text/plain": [
       "iso2                                                              US\n",
       "iso3                                                             USA\n",
       "country_name                                           United States\n",
       "datasets           [USA_ESRI_2021, USA_ACS_2021, USA_ASR_2021, US...\n",
       "default_dataset                                        USA_ESRI_2021\n",
       "alt_name                                               UNITED STATES\n",
       "continent                                              North America\n",
       "Name: 147, dtype: object"
      ]
     },
     "execution_count": 6,
     "metadata": {},
     "output_type": "execute_result"
    }
   ],
   "source": [
    "# Properties for the country are accessible using Country.properties\n",
    "usa.properties"
   ]
  },
  {
   "cell_type": "code",
   "execution_count": 7,
   "id": "d05c0042",
   "metadata": {},
   "outputs": [
    {
     "data": {
      "text/plain": [
       "'United States'"
      ]
     },
     "execution_count": 7,
     "metadata": {},
     "output_type": "execute_result"
    }
   ],
   "source": [
    "usa.properties.country_name"
   ]
  },
  {
   "cell_type": "code",
   "execution_count": 8,
   "id": "7f247de7",
   "metadata": {},
   "outputs": [
    {
     "data": {
      "text/plain": [
       "['USA_ESRI_2021',\n",
       " 'USA_ACS_2021',\n",
       " 'USA_ASR_2021',\n",
       " 'USA_CRM_2021',\n",
       " 'USA_DATAAXLE_2022',\n",
       " 'USA_RMP_2021',\n",
       " 'USA_SAFEGRAPH_2022',\n",
       " 'USA_TRFCNT_2022',\n",
       " 'USA_PL_2020',\n",
       " 'Landscape']"
      ]
     },
     "execution_count": 8,
     "metadata": {},
     "output_type": "execute_result"
    }
   ],
   "source": [
    "usa.properties.datasets"
   ]
  },
  {
   "cell_type": "markdown",
   "id": "ebb632d7",
   "metadata": {},
   "source": [
    "### 4. Data collections and analysis variables\n",
    "\n",
    "**GeoEnrichment** uses the **concept of a data collection** to define the data attributes returned by the enrichment service.\n",
    "\n",
    "A **data collection** is a preassembled list of attributes that will be used to enrich the input features. Collection attributes can describe various types of information, such as demographic characteristics and geographic context of the locations or areas submitted as input features."
   ]
  },
  {
   "cell_type": "code",
   "execution_count": 9,
   "id": "fc1e2959",
   "metadata": {
    "scrolled": true
   },
   "outputs": [
    {
     "data": {
      "text/html": [
       "<div>\n",
       "<style scoped>\n",
       "    .dataframe tbody tr th:only-of-type {\n",
       "        vertical-align: middle;\n",
       "    }\n",
       "\n",
       "    .dataframe tbody tr th {\n",
       "        vertical-align: top;\n",
       "    }\n",
       "\n",
       "    .dataframe thead th {\n",
       "        text-align: right;\n",
       "    }\n",
       "</style>\n",
       "<table border=\"1\" class=\"dataframe\">\n",
       "  <thead>\n",
       "    <tr style=\"text-align: right;\">\n",
       "      <th></th>\n",
       "      <th>analysisVariable</th>\n",
       "      <th>alias</th>\n",
       "      <th>fieldCategory</th>\n",
       "      <th>vintage</th>\n",
       "    </tr>\n",
       "    <tr>\n",
       "      <th>dataCollectionID</th>\n",
       "      <th></th>\n",
       "      <th></th>\n",
       "      <th></th>\n",
       "      <th></th>\n",
       "    </tr>\n",
       "  </thead>\n",
       "  <tbody>\n",
       "    <tr>\n",
       "      <th>1yearincrements</th>\n",
       "      <td>1yearincrements.AGE0_CY</td>\n",
       "      <td>2021 Population Age &lt;1</td>\n",
       "      <td>2021 Age: 1 Year Increments (Esri)</td>\n",
       "      <td>2021</td>\n",
       "    </tr>\n",
       "    <tr>\n",
       "      <th>1yearincrements</th>\n",
       "      <td>1yearincrements.AGE1_CY</td>\n",
       "      <td>2021 Population Age 1</td>\n",
       "      <td>2021 Age: 1 Year Increments (Esri)</td>\n",
       "      <td>2021</td>\n",
       "    </tr>\n",
       "    <tr>\n",
       "      <th>1yearincrements</th>\n",
       "      <td>1yearincrements.AGE2_CY</td>\n",
       "      <td>2021 Population Age 2</td>\n",
       "      <td>2021 Age: 1 Year Increments (Esri)</td>\n",
       "      <td>2021</td>\n",
       "    </tr>\n",
       "    <tr>\n",
       "      <th>1yearincrements</th>\n",
       "      <td>1yearincrements.AGE3_CY</td>\n",
       "      <td>2021 Population Age 3</td>\n",
       "      <td>2021 Age: 1 Year Increments (Esri)</td>\n",
       "      <td>2021</td>\n",
       "    </tr>\n",
       "    <tr>\n",
       "      <th>1yearincrements</th>\n",
       "      <td>1yearincrements.AGE4_CY</td>\n",
       "      <td>2021 Population Age 4</td>\n",
       "      <td>2021 Age: 1 Year Increments (Esri)</td>\n",
       "      <td>2021</td>\n",
       "    </tr>\n",
       "    <tr>\n",
       "      <th>...</th>\n",
       "      <td>...</td>\n",
       "      <td>...</td>\n",
       "      <td>...</td>\n",
       "      <td>...</td>\n",
       "    </tr>\n",
       "    <tr>\n",
       "      <th>yearmovedin</th>\n",
       "      <td>yearmovedin.MOEMEDYRMV</td>\n",
       "      <td>2019 Median Year Householder Moved In MOE (ACS...</td>\n",
       "      <td>2015-2019 Year Householder Moved In (ACS)</td>\n",
       "      <td>2015-2019</td>\n",
       "    </tr>\n",
       "    <tr>\n",
       "      <th>yearmovedin</th>\n",
       "      <td>yearmovedin.RELMEDYRMV</td>\n",
       "      <td>2019 Median Year Householder Moved In REL (ACS...</td>\n",
       "      <td>2015-2019 Year Householder Moved In (ACS)</td>\n",
       "      <td>2015-2019</td>\n",
       "    </tr>\n",
       "    <tr>\n",
       "      <th>yearmovedin</th>\n",
       "      <td>yearmovedin.ACSOWNER</td>\n",
       "      <td>2019 Owner Households (ACS 5-Yr)</td>\n",
       "      <td>2015-2019 Key Demographic Indicators (ACS)</td>\n",
       "      <td>2015-2019</td>\n",
       "    </tr>\n",
       "    <tr>\n",
       "      <th>yearmovedin</th>\n",
       "      <td>yearmovedin.MOEOWNER</td>\n",
       "      <td>2019 Owner Households MOE (ACS 5-Yr)</td>\n",
       "      <td>2015-2019 Key Demographic Indicators (ACS)</td>\n",
       "      <td>2015-2019</td>\n",
       "    </tr>\n",
       "    <tr>\n",
       "      <th>yearmovedin</th>\n",
       "      <td>yearmovedin.RELOWNER</td>\n",
       "      <td>2019 Owner Households REL (ACS 5-Yr)</td>\n",
       "      <td>2015-2019 Key Demographic Indicators (ACS)</td>\n",
       "      <td>2015-2019</td>\n",
       "    </tr>\n",
       "  </tbody>\n",
       "</table>\n",
       "<p>19153 rows × 4 columns</p>\n",
       "</div>"
      ],
      "text/plain": [
       "                         analysisVariable  \\\n",
       "dataCollectionID                            \n",
       "1yearincrements   1yearincrements.AGE0_CY   \n",
       "1yearincrements   1yearincrements.AGE1_CY   \n",
       "1yearincrements   1yearincrements.AGE2_CY   \n",
       "1yearincrements   1yearincrements.AGE3_CY   \n",
       "1yearincrements   1yearincrements.AGE4_CY   \n",
       "...                                   ...   \n",
       "yearmovedin        yearmovedin.MOEMEDYRMV   \n",
       "yearmovedin        yearmovedin.RELMEDYRMV   \n",
       "yearmovedin          yearmovedin.ACSOWNER   \n",
       "yearmovedin          yearmovedin.MOEOWNER   \n",
       "yearmovedin          yearmovedin.RELOWNER   \n",
       "\n",
       "                                                              alias  \\\n",
       "dataCollectionID                                                      \n",
       "1yearincrements                              2021 Population Age <1   \n",
       "1yearincrements                               2021 Population Age 1   \n",
       "1yearincrements                               2021 Population Age 2   \n",
       "1yearincrements                               2021 Population Age 3   \n",
       "1yearincrements                               2021 Population Age 4   \n",
       "...                                                             ...   \n",
       "yearmovedin       2019 Median Year Householder Moved In MOE (ACS...   \n",
       "yearmovedin       2019 Median Year Householder Moved In REL (ACS...   \n",
       "yearmovedin                        2019 Owner Households (ACS 5-Yr)   \n",
       "yearmovedin                    2019 Owner Households MOE (ACS 5-Yr)   \n",
       "yearmovedin                    2019 Owner Households REL (ACS 5-Yr)   \n",
       "\n",
       "                                               fieldCategory    vintage  \n",
       "dataCollectionID                                                         \n",
       "1yearincrements           2021 Age: 1 Year Increments (Esri)       2021  \n",
       "1yearincrements           2021 Age: 1 Year Increments (Esri)       2021  \n",
       "1yearincrements           2021 Age: 1 Year Increments (Esri)       2021  \n",
       "1yearincrements           2021 Age: 1 Year Increments (Esri)       2021  \n",
       "1yearincrements           2021 Age: 1 Year Increments (Esri)       2021  \n",
       "...                                                      ...        ...  \n",
       "yearmovedin        2015-2019 Year Householder Moved In (ACS)  2015-2019  \n",
       "yearmovedin        2015-2019 Year Householder Moved In (ACS)  2015-2019  \n",
       "yearmovedin       2015-2019 Key Demographic Indicators (ACS)  2015-2019  \n",
       "yearmovedin       2015-2019 Key Demographic Indicators (ACS)  2015-2019  \n",
       "yearmovedin       2015-2019 Key Demographic Indicators (ACS)  2015-2019  \n",
       "\n",
       "[19153 rows x 4 columns]"
      ]
     },
     "execution_count": 9,
     "metadata": {},
     "output_type": "execute_result"
    }
   ],
   "source": [
    "# data_collections property of a Country object lists its available data collections and analysis variables\n",
    "data_frame = usa.data_collections\n",
    "data_frame"
   ]
  },
  {
   "cell_type": "code",
   "execution_count": 10,
   "id": "983f3a99",
   "metadata": {},
   "outputs": [
    {
     "data": {
      "text/html": [
       "<div>\n",
       "<style scoped>\n",
       "    .dataframe tbody tr th:only-of-type {\n",
       "        vertical-align: middle;\n",
       "    }\n",
       "\n",
       "    .dataframe tbody tr th {\n",
       "        vertical-align: top;\n",
       "    }\n",
       "\n",
       "    .dataframe thead th {\n",
       "        text-align: right;\n",
       "    }\n",
       "</style>\n",
       "<table border=\"1\" class=\"dataframe\">\n",
       "  <thead>\n",
       "    <tr style=\"text-align: right;\">\n",
       "      <th></th>\n",
       "      <th>analysisVariable</th>\n",
       "      <th>alias</th>\n",
       "      <th>fieldCategory</th>\n",
       "      <th>vintage</th>\n",
       "    </tr>\n",
       "    <tr>\n",
       "      <th>dataCollectionID</th>\n",
       "      <th></th>\n",
       "      <th></th>\n",
       "      <th></th>\n",
       "      <th></th>\n",
       "    </tr>\n",
       "  </thead>\n",
       "  <tbody>\n",
       "    <tr>\n",
       "      <th>1yearincrements</th>\n",
       "      <td>1yearincrements.AGE0_CY</td>\n",
       "      <td>2021 Population Age &lt;1</td>\n",
       "      <td>2021 Age: 1 Year Increments (Esri)</td>\n",
       "      <td>2021</td>\n",
       "    </tr>\n",
       "    <tr>\n",
       "      <th>1yearincrements</th>\n",
       "      <td>1yearincrements.AGE1_CY</td>\n",
       "      <td>2021 Population Age 1</td>\n",
       "      <td>2021 Age: 1 Year Increments (Esri)</td>\n",
       "      <td>2021</td>\n",
       "    </tr>\n",
       "    <tr>\n",
       "      <th>1yearincrements</th>\n",
       "      <td>1yearincrements.AGE2_CY</td>\n",
       "      <td>2021 Population Age 2</td>\n",
       "      <td>2021 Age: 1 Year Increments (Esri)</td>\n",
       "      <td>2021</td>\n",
       "    </tr>\n",
       "    <tr>\n",
       "      <th>1yearincrements</th>\n",
       "      <td>1yearincrements.AGE3_CY</td>\n",
       "      <td>2021 Population Age 3</td>\n",
       "      <td>2021 Age: 1 Year Increments (Esri)</td>\n",
       "      <td>2021</td>\n",
       "    </tr>\n",
       "    <tr>\n",
       "      <th>1yearincrements</th>\n",
       "      <td>1yearincrements.AGE4_CY</td>\n",
       "      <td>2021 Population Age 4</td>\n",
       "      <td>2021 Age: 1 Year Increments (Esri)</td>\n",
       "      <td>2021</td>\n",
       "    </tr>\n",
       "  </tbody>\n",
       "</table>\n",
       "</div>"
      ],
      "text/plain": [
       "                         analysisVariable                   alias  \\\n",
       "dataCollectionID                                                    \n",
       "1yearincrements   1yearincrements.AGE0_CY  2021 Population Age <1   \n",
       "1yearincrements   1yearincrements.AGE1_CY   2021 Population Age 1   \n",
       "1yearincrements   1yearincrements.AGE2_CY   2021 Population Age 2   \n",
       "1yearincrements   1yearincrements.AGE3_CY   2021 Population Age 3   \n",
       "1yearincrements   1yearincrements.AGE4_CY   2021 Population Age 4   \n",
       "\n",
       "                                       fieldCategory vintage  \n",
       "dataCollectionID                                              \n",
       "1yearincrements   2021 Age: 1 Year Increments (Esri)    2021  \n",
       "1yearincrements   2021 Age: 1 Year Increments (Esri)    2021  \n",
       "1yearincrements   2021 Age: 1 Year Increments (Esri)    2021  \n",
       "1yearincrements   2021 Age: 1 Year Increments (Esri)    2021  \n",
       "1yearincrements   2021 Age: 1 Year Increments (Esri)    2021  "
      ]
     },
     "execution_count": 10,
     "metadata": {},
     "output_type": "execute_result"
    }
   ],
   "source": [
    "# Print a few rows of the DataFrame\n",
    "data_frame.head()"
   ]
  },
  {
   "cell_type": "code",
   "execution_count": 11,
   "id": "b16fa8a6",
   "metadata": {},
   "outputs": [
    {
     "data": {
      "text/plain": [
       "(19153, 4)"
      ]
     },
     "execution_count": 11,
     "metadata": {},
     "output_type": "execute_result"
    }
   ],
   "source": [
    "# Call the shape property to get the total number of rows and columns\n",
    "data_frame.shape"
   ]
  },
  {
   "cell_type": "markdown",
   "id": "66c7c3d1",
   "metadata": {},
   "source": [
    "- Each **data collection** and **analysis variable** has a unique ID\n",
    "- When calling the `enrich()` method (explained later in this guide) these analysis variables can be passed in the `data_collections` and `analysis_variables` parameters\n",
    "- You can filter the `data_collections` and query the collections `analysis_variables` using Pandas expressions"
   ]
  },
  {
   "cell_type": "code",
   "execution_count": 12,
   "id": "e2d9ba40",
   "metadata": {},
   "outputs": [
    {
     "data": {
      "text/plain": [
       "Index(['1yearincrements', '5yearincrements', 'ACS_Housing_Summary_rep',\n",
       "       'ACS_Population_Summary_rep', 'Age', 'AgeDependency',\n",
       "       'Age_50_Profile_rep', 'Age_by_Sex_Profile_rep',\n",
       "       'Age_by_Sex_by_Race_Profile_rep', 'AtRisk',\n",
       "       ...\n",
       "       'transportation', 'travelMPI', 'unitsinstructure',\n",
       "       'urbanizationgroupsNEW', 'vacant', 'vehiclesavailable', 'veterans',\n",
       "       'women', 'yearbuilt', 'yearmovedin'],\n",
       "      dtype='object', name='dataCollectionID', length=161)"
      ]
     },
     "execution_count": 12,
     "metadata": {},
     "output_type": "execute_result"
    }
   ],
   "source": [
    "# Get all the unique data collections available\n",
    "data_frame.index.unique()"
   ]
  },
  {
   "cell_type": "code",
   "execution_count": 13,
   "id": "5ea40a54",
   "metadata": {
    "scrolled": true
   },
   "outputs": [
    {
     "data": {
      "text/html": [
       "<div>\n",
       "<style scoped>\n",
       "    .dataframe tbody tr th:only-of-type {\n",
       "        vertical-align: middle;\n",
       "    }\n",
       "\n",
       "    .dataframe tbody tr th {\n",
       "        vertical-align: top;\n",
       "    }\n",
       "\n",
       "    .dataframe thead th {\n",
       "        text-align: right;\n",
       "    }\n",
       "</style>\n",
       "<table border=\"1\" class=\"dataframe\">\n",
       "  <thead>\n",
       "    <tr style=\"text-align: right;\">\n",
       "      <th></th>\n",
       "      <th>analysisVariable</th>\n",
       "      <th>alias</th>\n",
       "      <th>fieldCategory</th>\n",
       "      <th>vintage</th>\n",
       "    </tr>\n",
       "    <tr>\n",
       "      <th>dataCollectionID</th>\n",
       "      <th></th>\n",
       "      <th></th>\n",
       "      <th></th>\n",
       "      <th></th>\n",
       "    </tr>\n",
       "  </thead>\n",
       "  <tbody>\n",
       "    <tr>\n",
       "      <th>Age</th>\n",
       "      <td>Age.MALE0</td>\n",
       "      <td>2021 Males Age 0-4</td>\n",
       "      <td>2021 Age: 5 Year Increments (Esri)</td>\n",
       "      <td>2021</td>\n",
       "    </tr>\n",
       "    <tr>\n",
       "      <th>Age</th>\n",
       "      <td>Age.MALE5</td>\n",
       "      <td>2021 Males Age 5-9</td>\n",
       "      <td>2021 Age: 5 Year Increments (Esri)</td>\n",
       "      <td>2021</td>\n",
       "    </tr>\n",
       "    <tr>\n",
       "      <th>Age</th>\n",
       "      <td>Age.MALE10</td>\n",
       "      <td>2021 Males Age 10-14</td>\n",
       "      <td>2021 Age: 5 Year Increments (Esri)</td>\n",
       "      <td>2021</td>\n",
       "    </tr>\n",
       "    <tr>\n",
       "      <th>Age</th>\n",
       "      <td>Age.MALE15</td>\n",
       "      <td>2021 Males Age 15-19</td>\n",
       "      <td>2021 Age: 5 Year Increments (Esri)</td>\n",
       "      <td>2021</td>\n",
       "    </tr>\n",
       "    <tr>\n",
       "      <th>Age</th>\n",
       "      <td>Age.MALE20</td>\n",
       "      <td>2021 Males Age 20-24</td>\n",
       "      <td>2021 Age: 5 Year Increments (Esri)</td>\n",
       "      <td>2021</td>\n",
       "    </tr>\n",
       "    <tr>\n",
       "      <th>Age</th>\n",
       "      <td>Age.MALE25</td>\n",
       "      <td>2021 Males Age 25-29</td>\n",
       "      <td>2021 Age: 5 Year Increments (Esri)</td>\n",
       "      <td>2021</td>\n",
       "    </tr>\n",
       "    <tr>\n",
       "      <th>Age</th>\n",
       "      <td>Age.MALE30</td>\n",
       "      <td>2021 Males Age 30-34</td>\n",
       "      <td>2021 Age: 5 Year Increments (Esri)</td>\n",
       "      <td>2021</td>\n",
       "    </tr>\n",
       "    <tr>\n",
       "      <th>Age</th>\n",
       "      <td>Age.MALE35</td>\n",
       "      <td>2021 Males Age 35-39</td>\n",
       "      <td>2021 Age: 5 Year Increments (Esri)</td>\n",
       "      <td>2021</td>\n",
       "    </tr>\n",
       "    <tr>\n",
       "      <th>Age</th>\n",
       "      <td>Age.MALE40</td>\n",
       "      <td>2021 Males Age 40-44</td>\n",
       "      <td>2021 Age: 5 Year Increments (Esri)</td>\n",
       "      <td>2021</td>\n",
       "    </tr>\n",
       "    <tr>\n",
       "      <th>Age</th>\n",
       "      <td>Age.MALE45</td>\n",
       "      <td>2021 Males Age 45-49</td>\n",
       "      <td>2021 Age: 5 Year Increments (Esri)</td>\n",
       "      <td>2021</td>\n",
       "    </tr>\n",
       "    <tr>\n",
       "      <th>Age</th>\n",
       "      <td>Age.MALE50</td>\n",
       "      <td>2021 Males Age 50-54</td>\n",
       "      <td>2021 Age: 5 Year Increments (Esri)</td>\n",
       "      <td>2021</td>\n",
       "    </tr>\n",
       "    <tr>\n",
       "      <th>Age</th>\n",
       "      <td>Age.MALE55</td>\n",
       "      <td>2021 Males Age 55-59</td>\n",
       "      <td>2021 Age: 5 Year Increments (Esri)</td>\n",
       "      <td>2021</td>\n",
       "    </tr>\n",
       "    <tr>\n",
       "      <th>Age</th>\n",
       "      <td>Age.MALE60</td>\n",
       "      <td>2021 Males Age 60-64</td>\n",
       "      <td>2021 Age: 5 Year Increments (Esri)</td>\n",
       "      <td>2021</td>\n",
       "    </tr>\n",
       "    <tr>\n",
       "      <th>Age</th>\n",
       "      <td>Age.MALE65</td>\n",
       "      <td>2021 Males Age 65-69</td>\n",
       "      <td>2021 Age: 5 Year Increments (Esri)</td>\n",
       "      <td>2021</td>\n",
       "    </tr>\n",
       "    <tr>\n",
       "      <th>Age</th>\n",
       "      <td>Age.MALE70</td>\n",
       "      <td>2021 Males Age 70-74</td>\n",
       "      <td>2021 Age: 5 Year Increments (Esri)</td>\n",
       "      <td>2021</td>\n",
       "    </tr>\n",
       "    <tr>\n",
       "      <th>Age</th>\n",
       "      <td>Age.MALE75</td>\n",
       "      <td>2021 Males Age 75-79</td>\n",
       "      <td>2021 Age: 5 Year Increments (Esri)</td>\n",
       "      <td>2021</td>\n",
       "    </tr>\n",
       "    <tr>\n",
       "      <th>Age</th>\n",
       "      <td>Age.MALE80</td>\n",
       "      <td>2021 Males Age 80-84</td>\n",
       "      <td>2021 Age: 5 Year Increments (Esri)</td>\n",
       "      <td>2021</td>\n",
       "    </tr>\n",
       "    <tr>\n",
       "      <th>Age</th>\n",
       "      <td>Age.MALE85</td>\n",
       "      <td>2021 Males Age 85+</td>\n",
       "      <td>2021 Age: 5 Year Increments (Esri)</td>\n",
       "      <td>2021</td>\n",
       "    </tr>\n",
       "    <tr>\n",
       "      <th>Age</th>\n",
       "      <td>Age.FEM0</td>\n",
       "      <td>2021 Females Age 0-4</td>\n",
       "      <td>2021 Age: 5 Year Increments (Esri)</td>\n",
       "      <td>2021</td>\n",
       "    </tr>\n",
       "    <tr>\n",
       "      <th>Age</th>\n",
       "      <td>Age.FEM5</td>\n",
       "      <td>2021 Females Age 5-9</td>\n",
       "      <td>2021 Age: 5 Year Increments (Esri)</td>\n",
       "      <td>2021</td>\n",
       "    </tr>\n",
       "    <tr>\n",
       "      <th>Age</th>\n",
       "      <td>Age.FEM10</td>\n",
       "      <td>2021 Females Age 10-14</td>\n",
       "      <td>2021 Age: 5 Year Increments (Esri)</td>\n",
       "      <td>2021</td>\n",
       "    </tr>\n",
       "    <tr>\n",
       "      <th>Age</th>\n",
       "      <td>Age.FEM15</td>\n",
       "      <td>2021 Females Age 15-19</td>\n",
       "      <td>2021 Age: 5 Year Increments (Esri)</td>\n",
       "      <td>2021</td>\n",
       "    </tr>\n",
       "    <tr>\n",
       "      <th>Age</th>\n",
       "      <td>Age.FEM20</td>\n",
       "      <td>2021 Females Age 20-24</td>\n",
       "      <td>2021 Age: 5 Year Increments (Esri)</td>\n",
       "      <td>2021</td>\n",
       "    </tr>\n",
       "    <tr>\n",
       "      <th>Age</th>\n",
       "      <td>Age.FEM25</td>\n",
       "      <td>2021 Females Age 25-29</td>\n",
       "      <td>2021 Age: 5 Year Increments (Esri)</td>\n",
       "      <td>2021</td>\n",
       "    </tr>\n",
       "    <tr>\n",
       "      <th>Age</th>\n",
       "      <td>Age.FEM30</td>\n",
       "      <td>2021 Females Age 30-34</td>\n",
       "      <td>2021 Age: 5 Year Increments (Esri)</td>\n",
       "      <td>2021</td>\n",
       "    </tr>\n",
       "    <tr>\n",
       "      <th>Age</th>\n",
       "      <td>Age.FEM35</td>\n",
       "      <td>2021 Females Age 35-39</td>\n",
       "      <td>2021 Age: 5 Year Increments (Esri)</td>\n",
       "      <td>2021</td>\n",
       "    </tr>\n",
       "    <tr>\n",
       "      <th>Age</th>\n",
       "      <td>Age.FEM40</td>\n",
       "      <td>2021 Females Age 40-44</td>\n",
       "      <td>2021 Age: 5 Year Increments (Esri)</td>\n",
       "      <td>2021</td>\n",
       "    </tr>\n",
       "    <tr>\n",
       "      <th>Age</th>\n",
       "      <td>Age.FEM45</td>\n",
       "      <td>2021 Females Age 45-49</td>\n",
       "      <td>2021 Age: 5 Year Increments (Esri)</td>\n",
       "      <td>2021</td>\n",
       "    </tr>\n",
       "    <tr>\n",
       "      <th>Age</th>\n",
       "      <td>Age.FEM50</td>\n",
       "      <td>2021 Females Age 50-54</td>\n",
       "      <td>2021 Age: 5 Year Increments (Esri)</td>\n",
       "      <td>2021</td>\n",
       "    </tr>\n",
       "    <tr>\n",
       "      <th>Age</th>\n",
       "      <td>Age.FEM55</td>\n",
       "      <td>2021 Females Age 55-59</td>\n",
       "      <td>2021 Age: 5 Year Increments (Esri)</td>\n",
       "      <td>2021</td>\n",
       "    </tr>\n",
       "    <tr>\n",
       "      <th>Age</th>\n",
       "      <td>Age.FEM60</td>\n",
       "      <td>2021 Females Age 60-64</td>\n",
       "      <td>2021 Age: 5 Year Increments (Esri)</td>\n",
       "      <td>2021</td>\n",
       "    </tr>\n",
       "    <tr>\n",
       "      <th>Age</th>\n",
       "      <td>Age.FEM65</td>\n",
       "      <td>2021 Females Age 65-69</td>\n",
       "      <td>2021 Age: 5 Year Increments (Esri)</td>\n",
       "      <td>2021</td>\n",
       "    </tr>\n",
       "    <tr>\n",
       "      <th>Age</th>\n",
       "      <td>Age.FEM70</td>\n",
       "      <td>2021 Females Age 70-74</td>\n",
       "      <td>2021 Age: 5 Year Increments (Esri)</td>\n",
       "      <td>2021</td>\n",
       "    </tr>\n",
       "    <tr>\n",
       "      <th>Age</th>\n",
       "      <td>Age.FEM75</td>\n",
       "      <td>2021 Females Age 75-79</td>\n",
       "      <td>2021 Age: 5 Year Increments (Esri)</td>\n",
       "      <td>2021</td>\n",
       "    </tr>\n",
       "    <tr>\n",
       "      <th>Age</th>\n",
       "      <td>Age.FEM80</td>\n",
       "      <td>2021 Females Age 80-84</td>\n",
       "      <td>2021 Age: 5 Year Increments (Esri)</td>\n",
       "      <td>2021</td>\n",
       "    </tr>\n",
       "    <tr>\n",
       "      <th>Age</th>\n",
       "      <td>Age.FEM85</td>\n",
       "      <td>2021 Females Age 85+</td>\n",
       "      <td>2021 Age: 5 Year Increments (Esri)</td>\n",
       "      <td>2021</td>\n",
       "    </tr>\n",
       "  </tbody>\n",
       "</table>\n",
       "</div>"
      ],
      "text/plain": [
       "                 analysisVariable                   alias  \\\n",
       "dataCollectionID                                            \n",
       "Age                     Age.MALE0      2021 Males Age 0-4   \n",
       "Age                     Age.MALE5      2021 Males Age 5-9   \n",
       "Age                    Age.MALE10    2021 Males Age 10-14   \n",
       "Age                    Age.MALE15    2021 Males Age 15-19   \n",
       "Age                    Age.MALE20    2021 Males Age 20-24   \n",
       "Age                    Age.MALE25    2021 Males Age 25-29   \n",
       "Age                    Age.MALE30    2021 Males Age 30-34   \n",
       "Age                    Age.MALE35    2021 Males Age 35-39   \n",
       "Age                    Age.MALE40    2021 Males Age 40-44   \n",
       "Age                    Age.MALE45    2021 Males Age 45-49   \n",
       "Age                    Age.MALE50    2021 Males Age 50-54   \n",
       "Age                    Age.MALE55    2021 Males Age 55-59   \n",
       "Age                    Age.MALE60    2021 Males Age 60-64   \n",
       "Age                    Age.MALE65    2021 Males Age 65-69   \n",
       "Age                    Age.MALE70    2021 Males Age 70-74   \n",
       "Age                    Age.MALE75    2021 Males Age 75-79   \n",
       "Age                    Age.MALE80    2021 Males Age 80-84   \n",
       "Age                    Age.MALE85      2021 Males Age 85+   \n",
       "Age                      Age.FEM0    2021 Females Age 0-4   \n",
       "Age                      Age.FEM5    2021 Females Age 5-9   \n",
       "Age                     Age.FEM10  2021 Females Age 10-14   \n",
       "Age                     Age.FEM15  2021 Females Age 15-19   \n",
       "Age                     Age.FEM20  2021 Females Age 20-24   \n",
       "Age                     Age.FEM25  2021 Females Age 25-29   \n",
       "Age                     Age.FEM30  2021 Females Age 30-34   \n",
       "Age                     Age.FEM35  2021 Females Age 35-39   \n",
       "Age                     Age.FEM40  2021 Females Age 40-44   \n",
       "Age                     Age.FEM45  2021 Females Age 45-49   \n",
       "Age                     Age.FEM50  2021 Females Age 50-54   \n",
       "Age                     Age.FEM55  2021 Females Age 55-59   \n",
       "Age                     Age.FEM60  2021 Females Age 60-64   \n",
       "Age                     Age.FEM65  2021 Females Age 65-69   \n",
       "Age                     Age.FEM70  2021 Females Age 70-74   \n",
       "Age                     Age.FEM75  2021 Females Age 75-79   \n",
       "Age                     Age.FEM80  2021 Females Age 80-84   \n",
       "Age                     Age.FEM85    2021 Females Age 85+   \n",
       "\n",
       "                                       fieldCategory vintage  \n",
       "dataCollectionID                                              \n",
       "Age               2021 Age: 5 Year Increments (Esri)    2021  \n",
       "Age               2021 Age: 5 Year Increments (Esri)    2021  \n",
       "Age               2021 Age: 5 Year Increments (Esri)    2021  \n",
       "Age               2021 Age: 5 Year Increments (Esri)    2021  \n",
       "Age               2021 Age: 5 Year Increments (Esri)    2021  \n",
       "Age               2021 Age: 5 Year Increments (Esri)    2021  \n",
       "Age               2021 Age: 5 Year Increments (Esri)    2021  \n",
       "Age               2021 Age: 5 Year Increments (Esri)    2021  \n",
       "Age               2021 Age: 5 Year Increments (Esri)    2021  \n",
       "Age               2021 Age: 5 Year Increments (Esri)    2021  \n",
       "Age               2021 Age: 5 Year Increments (Esri)    2021  \n",
       "Age               2021 Age: 5 Year Increments (Esri)    2021  \n",
       "Age               2021 Age: 5 Year Increments (Esri)    2021  \n",
       "Age               2021 Age: 5 Year Increments (Esri)    2021  \n",
       "Age               2021 Age: 5 Year Increments (Esri)    2021  \n",
       "Age               2021 Age: 5 Year Increments (Esri)    2021  \n",
       "Age               2021 Age: 5 Year Increments (Esri)    2021  \n",
       "Age               2021 Age: 5 Year Increments (Esri)    2021  \n",
       "Age               2021 Age: 5 Year Increments (Esri)    2021  \n",
       "Age               2021 Age: 5 Year Increments (Esri)    2021  \n",
       "Age               2021 Age: 5 Year Increments (Esri)    2021  \n",
       "Age               2021 Age: 5 Year Increments (Esri)    2021  \n",
       "Age               2021 Age: 5 Year Increments (Esri)    2021  \n",
       "Age               2021 Age: 5 Year Increments (Esri)    2021  \n",
       "Age               2021 Age: 5 Year Increments (Esri)    2021  \n",
       "Age               2021 Age: 5 Year Increments (Esri)    2021  \n",
       "Age               2021 Age: 5 Year Increments (Esri)    2021  \n",
       "Age               2021 Age: 5 Year Increments (Esri)    2021  \n",
       "Age               2021 Age: 5 Year Increments (Esri)    2021  \n",
       "Age               2021 Age: 5 Year Increments (Esri)    2021  \n",
       "Age               2021 Age: 5 Year Increments (Esri)    2021  \n",
       "Age               2021 Age: 5 Year Increments (Esri)    2021  \n",
       "Age               2021 Age: 5 Year Increments (Esri)    2021  \n",
       "Age               2021 Age: 5 Year Increments (Esri)    2021  \n",
       "Age               2021 Age: 5 Year Increments (Esri)    2021  \n",
       "Age               2021 Age: 5 Year Increments (Esri)    2021  "
      ]
     },
     "execution_count": 13,
     "metadata": {},
     "output_type": "execute_result"
    }
   ],
   "source": [
    "# Query the Age data collection\n",
    "age_dc = data_frame.loc['Age']\n",
    "age_dc"
   ]
  },
  {
   "cell_type": "code",
   "execution_count": 14,
   "id": "61108d0c",
   "metadata": {},
   "outputs": [
    {
     "data": {
      "text/plain": [
       "array(['Age.MALE0', 'Age.MALE5', 'Age.MALE10', 'Age.MALE15', 'Age.MALE20',\n",
       "       'Age.MALE25', 'Age.MALE30', 'Age.MALE35', 'Age.MALE40',\n",
       "       'Age.MALE45', 'Age.MALE50', 'Age.MALE55', 'Age.MALE60',\n",
       "       'Age.MALE65', 'Age.MALE70', 'Age.MALE75', 'Age.MALE80',\n",
       "       'Age.MALE85', 'Age.FEM0', 'Age.FEM5', 'Age.FEM10', 'Age.FEM15',\n",
       "       'Age.FEM20', 'Age.FEM25', 'Age.FEM30', 'Age.FEM35', 'Age.FEM40',\n",
       "       'Age.FEM45', 'Age.FEM50', 'Age.FEM55', 'Age.FEM60', 'Age.FEM65',\n",
       "       'Age.FEM70', 'Age.FEM75', 'Age.FEM80', 'Age.FEM85'], dtype=object)"
      ]
     },
     "execution_count": 14,
     "metadata": {},
     "output_type": "execute_result"
    }
   ],
   "source": [
    "# Get all the unique analysisVariables under collection\n",
    "age_dc['analysisVariable'].unique()"
   ]
  },
  {
   "cell_type": "markdown",
   "id": "0c5d645d",
   "metadata": {},
   "source": [
    "### 5. Available reports\n",
    "\n",
    "**GeoEnrichment** also enables you to create many types of high quality **reports** for a variety of use cases describing the **input area**.\n",
    "\n",
    "The `reports` property of a `Country` object lists its available reports as a Pandas DataFrame. The report `id` is used as an input in the `create_report()` method to create reports."
   ]
  },
  {
   "cell_type": "code",
   "execution_count": 15,
   "id": "76f6ad15",
   "metadata": {},
   "outputs": [
    {
     "data": {
      "text/html": [
       "<div>\n",
       "<style scoped>\n",
       "    .dataframe tbody tr th:only-of-type {\n",
       "        vertical-align: middle;\n",
       "    }\n",
       "\n",
       "    .dataframe tbody tr th {\n",
       "        vertical-align: top;\n",
       "    }\n",
       "\n",
       "    .dataframe thead th {\n",
       "        text-align: right;\n",
       "    }\n",
       "</style>\n",
       "<table border=\"1\" class=\"dataframe\">\n",
       "  <thead>\n",
       "    <tr style=\"text-align: right;\">\n",
       "      <th></th>\n",
       "      <th>id</th>\n",
       "      <th>title</th>\n",
       "      <th>categories</th>\n",
       "      <th>formats</th>\n",
       "    </tr>\n",
       "  </thead>\n",
       "  <tbody>\n",
       "    <tr>\n",
       "      <th>0</th>\n",
       "      <td>census2010_profile</td>\n",
       "      <td>2010 Census Profile</td>\n",
       "      <td>[Demographics]</td>\n",
       "      <td>[pdf, xlsx]</td>\n",
       "    </tr>\n",
       "    <tr>\n",
       "      <th>1</th>\n",
       "      <td>acs_housing</td>\n",
       "      <td>ACS Housing Summary</td>\n",
       "      <td>[Demographics]</td>\n",
       "      <td>[pdf, xlsx]</td>\n",
       "    </tr>\n",
       "    <tr>\n",
       "      <th>2</th>\n",
       "      <td>acs_keyfacts</td>\n",
       "      <td>ACS Key Population &amp; Household Facts</td>\n",
       "      <td>[Demographics]</td>\n",
       "      <td>[pdf, xlsx]</td>\n",
       "    </tr>\n",
       "    <tr>\n",
       "      <th>3</th>\n",
       "      <td>acs_population</td>\n",
       "      <td>ACS Population Summary</td>\n",
       "      <td>[Demographics]</td>\n",
       "      <td>[pdf, xlsx]</td>\n",
       "    </tr>\n",
       "    <tr>\n",
       "      <th>4</th>\n",
       "      <td>55plus</td>\n",
       "      <td>Age 50+ Profile</td>\n",
       "      <td>[Demographics]</td>\n",
       "      <td>[pdf, xlsx]</td>\n",
       "    </tr>\n",
       "  </tbody>\n",
       "</table>\n",
       "</div>"
      ],
      "text/plain": [
       "                   id                                 title      categories  \\\n",
       "0  census2010_profile                   2010 Census Profile  [Demographics]   \n",
       "1         acs_housing                   ACS Housing Summary  [Demographics]   \n",
       "2        acs_keyfacts  ACS Key Population & Household Facts  [Demographics]   \n",
       "3      acs_population                ACS Population Summary  [Demographics]   \n",
       "4              55plus                       Age 50+ Profile  [Demographics]   \n",
       "\n",
       "       formats  \n",
       "0  [pdf, xlsx]  \n",
       "1  [pdf, xlsx]  \n",
       "2  [pdf, xlsx]  \n",
       "3  [pdf, xlsx]  \n",
       "4  [pdf, xlsx]  "
      ]
     },
     "execution_count": 15,
     "metadata": {},
     "output_type": "execute_result"
    }
   ],
   "source": [
    "# Print a sample of the reports, available for USA\n",
    "usa.reports.head(5)"
   ]
  },
  {
   "cell_type": "code",
   "execution_count": 16,
   "id": "f04074fa",
   "metadata": {},
   "outputs": [
    {
     "data": {
      "text/plain": [
       "(53, 4)"
      ]
     },
     "execution_count": 16,
     "metadata": {},
     "output_type": "execute_result"
    }
   ],
   "source": [
    "# Total number of reports available\n",
    "usa.reports.shape"
   ]
  },
  {
   "cell_type": "markdown",
   "id": "5e4ed742",
   "metadata": {},
   "source": [
    "### 6. Finding named statistical areas\n",
    "\n",
    "Each country has several **named statistical areas** in a hierarchy of geography levels (such as **states**, **counties**, **zip-codes**, etc).\n",
    "\n",
    "The `subgeographies` property of a country can be used to discover these standard geographic/statistical areas within that country.\n",
    "\n",
    "This information is available through a heirarchy of dynamic properties (like states, counties, tracts, zip-codes,...). Each such dynamic property reflects the geographical levels within that country, with subgeographies grouped logically under the higher levels of geographies. The properties are dictionaries containing the names of the standard geographic places and their values are instances of `NamedArea` class. The `NamedArea` objects can be used as **study areas** in the `enrich()` method."
   ]
  },
  {
   "cell_type": "markdown",
   "id": "b119257d",
   "metadata": {},
   "source": [
    "Note: Setting the `IPCompleter.greedy=True` configuration option in **Jupyter notebook** enables you to dynamically discover the various levels of subgeographies using intellisense, as in the example below."
   ]
  },
  {
   "cell_type": "code",
   "execution_count": 17,
   "id": "88044da1",
   "metadata": {},
   "outputs": [],
   "source": [
    "%config IPCompleter.greedy=True"
   ]
  },
  {
   "cell_type": "code",
   "execution_count": 18,
   "id": "eccdf6a1",
   "metadata": {
    "scrolled": true
   },
   "outputs": [
    {
     "name": "stdout",
     "output_type": "stream",
     "text": [
      "IPCompleter(Completer) options\n",
      "----------------------------\n",
      "IPCompleter.backslash_combining_completions=<Bool>\n",
      "    Enable unicode completions, e.g. \\alpha<tab> . Includes completion of latex\n",
      "    commands, unicode names, and expanding unicode characters back to latex\n",
      "    commands.\n",
      "    Current: True\n",
      "IPCompleter.debug=<Bool>\n",
      "    Enable debug for the Completer. Mostly print extra information for\n",
      "    experimental jedi integration.\n",
      "    Current: False\n",
      "IPCompleter.greedy=<Bool>\n",
      "    Activate greedy completion\n",
      "            PENDING DEPRECATION. this is now mostly taken care of with Jedi.\n",
      "            This will enable completion on elements of lists, results of function calls, etc.,\n",
      "            but can be unsafe because the code is actually evaluated on TAB.\n",
      "    Current: True\n",
      "IPCompleter.jedi_compute_type_timeout=<Int>\n",
      "    Experimental: restrict time (in milliseconds) during which Jedi can compute types.\n",
      "            Set to 0 to stop computing types. Non-zero value lower than 100ms may hurt\n",
      "            performance by preventing jedi to build its cache.\n",
      "    Current: 400\n",
      "IPCompleter.limit_to__all__=<Bool>\n",
      "    DEPRECATED as of version 5.0.\n",
      "    Instruct the completer to use __all__ for the completion\n",
      "    Specifically, when completing on ``object.<tab>``.\n",
      "    When True: only those names in obj.__all__ will be included.\n",
      "    When False [default]: the __all__ attribute is ignored\n",
      "    Current: False\n",
      "IPCompleter.merge_completions=<Bool>\n",
      "    Whether to merge completion results into a single list\n",
      "            If False, only the completion results from the first non-empty\n",
      "            completer will be returned.\n",
      "    Current: True\n",
      "IPCompleter.omit__names=<Enum>\n",
      "    Instruct the completer to omit private method names\n",
      "            Specifically, when completing on ``object.<tab>``.\n",
      "            When 2 [default]: all names that start with '_' will be excluded.\n",
      "            When 1: all 'magic' names (``__foo__``) will be excluded.\n",
      "            When 0: nothing will be excluded.\n",
      "    Choices: any of [0, 1, 2]\n",
      "    Current: 2\n",
      "IPCompleter.profile_completions=<Bool>\n",
      "    If True, emit profiling data for completion subsystem using cProfile.\n",
      "    Current: False\n",
      "IPCompleter.profiler_output_dir=<Unicode>\n",
      "    Template for path at which to output profile data for completions.\n",
      "    Current: '.completion_profiles'\n",
      "IPCompleter.use_jedi=<Bool>\n",
      "    Experimental: Use Jedi to generate autocompletions. Default to True if jedi\n",
      "    is installed.\n",
      "    Current: True\n"
     ]
    }
   ],
   "source": [
    "%config IPCompleter"
   ]
  },
  {
   "cell_type": "code",
   "execution_count": 19,
   "id": "2463e3c6",
   "metadata": {},
   "outputs": [
    {
     "data": {
      "text/plain": [
       "True"
      ]
     },
     "execution_count": 19,
     "metadata": {},
     "output_type": "execute_result"
    }
   ],
   "source": [
    "%config IPCompleter.greedy"
   ]
  },
  {
   "cell_type": "code",
   "execution_count": 20,
   "id": "509f4f26",
   "metadata": {},
   "outputs": [
    {
     "data": {
      "text/plain": [
       "<NamedArea name:\"147\" area_id=\"01\", level=\"US.WholeUSA\", country=\"147\">"
      ]
     },
     "execution_count": 20,
     "metadata": {},
     "output_type": "execute_result"
    }
   ],
   "source": [
    "named_area_usa = usa.subgeographies\n",
    "named_area_usa"
   ]
  },
  {
   "cell_type": "code",
   "execution_count": 21,
   "id": "a025ae40",
   "metadata": {
    "scrolled": true
   },
   "outputs": [
    {
     "data": {
      "text/plain": [
       "<NamedArea name:\"California\" area_id=\"06\", level=\"US.States\", country=\"147\">"
      ]
     },
     "execution_count": 21,
     "metadata": {},
     "output_type": "execute_result"
    }
   ],
   "source": [
    "named_area_usa.states['California']"
   ]
  },
  {
   "cell_type": "code",
   "execution_count": 22,
   "id": "383d6932",
   "metadata": {
    "scrolled": true
   },
   "outputs": [
    {
     "data": {
      "text/plain": [
       "<NamedArea name:\"San Bernardino County\" area_id=\"06071\", level=\"US.Counties\", country=\"147\">"
      ]
     },
     "execution_count": 22,
     "metadata": {},
     "output_type": "execute_result"
    }
   ],
   "source": [
    "named_area_usa.states['California'].counties['San_Bernardino_County']"
   ]
  },
  {
   "cell_type": "code",
   "execution_count": 23,
   "id": "fa8450b7",
   "metadata": {},
   "outputs": [
    {
     "data": {
      "text/plain": [
       "<NamedArea name:\"060710001.03\" area_id=\"06071000103\", level=\"US.Tracts\", country=\"147\">"
      ]
     },
     "execution_count": 23,
     "metadata": {},
     "output_type": "execute_result"
    }
   ],
   "source": [
    "named_area_usa.states['California'].counties['San_Bernardino_County'].tracts['060710001.03']"
   ]
  },
  {
   "cell_type": "code",
   "execution_count": 24,
   "id": "26f768f3",
   "metadata": {},
   "outputs": [
    {
     "data": {
      "text/plain": [
       "<NamedArea name:\"Redlands\" area_id=\"92373\", level=\"US.ZIP5\", country=\"147\">"
      ]
     },
     "execution_count": 24,
     "metadata": {},
     "output_type": "execute_result"
    }
   ],
   "source": [
    "usa.subgeographies.states['California'].zip5['92373']"
   ]
  },
  {
   "cell_type": "markdown",
   "id": "eb802585",
   "metadata": {},
   "source": [
    "**The named areas can also be drawn on a map, as they include a `geometry` property:**"
   ]
  },
  {
   "cell_type": "code",
   "execution_count": 31,
   "id": "33c4bafe",
   "metadata": {
    "scrolled": false
   },
   "outputs": [
    {
     "data": {
      "application/vnd.jupyter.widget-view+json": {
       "model_id": "64f02a3bf3764d7fb1dadf11449ff654",
       "version_major": 2,
       "version_minor": 0
      },
      "text/plain": [
       "MapView(layout=Layout(height='400px', width='100%'))"
      ]
     },
     "metadata": {},
     "output_type": "display_data"
    },
    {
     "data": {
      "text/html": [
       "<div class=\"map-static-img-preview-65c11a35-84f9-4b1d-ac43-c6bdbb945a69\"><img src=\"\"></img></div>"
      ],
      "text/plain": [
       "<IPython.core.display.HTML object>"
      ]
     },
     "metadata": {},
     "output_type": "display_data"
    },
    {
     "data": {
      "text/html": [
       "<div class=\"map-html-embed-preview-65c11a35-84f9-4b1d-ac43-c6bdbb945a69\"></div>"
      ],
      "text/plain": [
       "<IPython.core.display.HTML object>"
      ]
     },
     "metadata": {},
     "output_type": "display_data"
    }
   ],
   "source": [
    "redlands = gis.map('Redlands, CA', zoomlevel=11)\n",
    "redlands"
   ]
  },
  {
   "cell_type": "code",
   "execution_count": 32,
   "id": "f7f4301d",
   "metadata": {},
   "outputs": [],
   "source": [
    "# Draw a subgeography on the map above\n",
    "redlands.draw(usa.subgeographies.states['California'].zip5['92373'].geometry)"
   ]
  },
  {
   "cell_type": "code",
   "execution_count": 37,
   "id": "b79fe2d9",
   "metadata": {
    "scrolled": false
   },
   "outputs": [
    {
     "data": {
      "application/vnd.jupyter.widget-view+json": {
       "model_id": "b79dee5dcb6447d49cbfbb2d40d4631d",
       "version_major": 2,
       "version_minor": 0
      },
      "text/plain": [
       "MapView(layout=Layout(height='400px', width='100%'))"
      ]
     },
     "metadata": {},
     "output_type": "display_data"
    },
    {
     "data": {
      "text/html": [
       "<div class=\"map-static-img-preview-2e8f97a3-4d89-42d5-90a9-aba388258987\"><img src=\"\"></img></div>"
      ],
      "text/plain": [
       "<IPython.core.display.HTML object>"
      ]
     },
     "metadata": {},
     "output_type": "display_data"
    },
    {
     "data": {
      "text/html": [
       "<div class=\"map-html-embed-preview-2e8f97a3-4d89-42d5-90a9-aba388258987\"></div>"
      ],
      "text/plain": [
       "<IPython.core.display.HTML object>"
      ]
     },
     "metadata": {},
     "output_type": "display_data"
    }
   ],
   "source": [
    "india_map = gis.map('India', zoomlevel=5)\n",
    "india_map"
   ]
  },
  {
   "cell_type": "code",
   "execution_count": 38,
   "id": "ac47755c",
   "metadata": {},
   "outputs": [],
   "source": [
    "india = Country.get('India')"
   ]
  },
  {
   "cell_type": "code",
   "execution_count": 39,
   "id": "ee7c5c07",
   "metadata": {},
   "outputs": [
    {
     "data": {
      "text/plain": [
       "['IND_MBR_2020']"
      ]
     },
     "execution_count": 39,
     "metadata": {},
     "output_type": "execute_result"
    }
   ],
   "source": [
    "# Print the available datasets\n",
    "india.properties.datasets"
   ]
  },
  {
   "cell_type": "code",
   "execution_count": 40,
   "id": "29b0a33a",
   "metadata": {},
   "outputs": [
    {
     "data": {
      "text/plain": [
       "'IND_MBR_2020'"
      ]
     },
     "execution_count": 40,
     "metadata": {},
     "output_type": "execute_result"
    }
   ],
   "source": [
    "# View the current dataset of the country\n",
    "india.dataset"
   ]
  },
  {
   "cell_type": "code",
   "execution_count": 41,
   "id": "9b0df8cb",
   "metadata": {},
   "outputs": [
    {
     "data": {
      "text/plain": [
       "<NamedArea name:\"Baraut\" area_id=\"0913900735\", level=\"IN.Subdistricts\", country=\"63\">"
      ]
     },
     "execution_count": 41,
     "metadata": {},
     "output_type": "execute_result"
    }
   ],
   "source": [
    "# Inspect the various subgeographies\n",
    "india.subgeographies.states['Uttar_Pradesh'].districts['Baghpat'].subdistricts['Baraut']"
   ]
  },
  {
   "cell_type": "markdown",
   "id": "d20c3898",
   "metadata": {},
   "source": [
    "### 7. Searching for named areas within a country"
   ]
  },
  {
   "cell_type": "code",
   "execution_count": 42,
   "id": "ad5940ef",
   "metadata": {},
   "outputs": [
    {
     "name": "stdout",
     "output_type": "stream",
     "text": [
      "Number of riversides in USA: 147\n"
     ]
    }
   ],
   "source": [
    "riversides_in_usa = usa.search('Riverside')\n",
    "print(\"Number of riversides in USA: \" + str(len(riversides_in_usa)))"
   ]
  },
  {
   "cell_type": "code",
   "execution_count": 43,
   "id": "7557cdae",
   "metadata": {},
   "outputs": [
    {
     "data": {
      "text/plain": [
       "[<NamedArea name:\"Riverside\" area_id=\"147435\", level=\"Cities\", country=\"147\">,\n",
       " <NamedArea name:\"Riverside\" area_id=\"147436\", level=\"Cities\", country=\"147\">,\n",
       " <NamedArea name:\"Riverside\" area_id=\"147437\", level=\"Cities\", country=\"147\">,\n",
       " <NamedArea name:\"Riverside\" area_id=\"147438\", level=\"Cities\", country=\"147\">,\n",
       " <NamedArea name:\"Riverside\" area_id=\"147439\", level=\"Cities\", country=\"147\">]"
      ]
     },
     "execution_count": 43,
     "metadata": {},
     "output_type": "execute_result"
    }
   ],
   "source": [
    "# List a few of them\n",
    "riversides_in_usa[:5]"
   ]
  },
  {
   "cell_type": "markdown",
   "id": "4a05aa9d",
   "metadata": {},
   "source": [
    "**You can make a map of all the riversides in the US:**"
   ]
  },
  {
   "cell_type": "code",
   "execution_count": 44,
   "id": "aa23460a",
   "metadata": {
    "scrolled": false
   },
   "outputs": [
    {
     "data": {
      "application/vnd.jupyter.widget-view+json": {
       "model_id": "3c9b0b8bcc9e4597ae698d09abdaf715",
       "version_major": 2,
       "version_minor": 0
      },
      "text/plain": [
       "MapView(layout=Layout(height='400px', width='100%'))"
      ]
     },
     "metadata": {},
     "output_type": "display_data"
    },
    {
     "data": {
      "text/html": [
       "<div class=\"map-static-img-preview-391bbed0-2507-49a4-acb1-1dddb20d3af5\"><img src=\"\"></img></div>"
      ],
      "text/plain": [
       "<IPython.core.display.HTML object>"
      ]
     },
     "metadata": {},
     "output_type": "display_data"
    },
    {
     "data": {
      "text/html": [
       "<div class=\"map-html-embed-preview-391bbed0-2507-49a4-acb1-1dddb20d3af5\"></div>"
      ],
      "text/plain": [
       "<IPython.core.display.HTML object>"
      ]
     },
     "metadata": {},
     "output_type": "display_data"
    }
   ],
   "source": [
    "usa_map = gis.map('United States', zoomlevel=4)\n",
    "usa_map"
   ]
  },
  {
   "cell_type": "code",
   "execution_count": 45,
   "id": "d10f9b04",
   "metadata": {},
   "outputs": [],
   "source": [
    "# Draw on the map above\n",
    "for riverside in riversides_in_usa:\n",
    "    usa_map.draw(riverside.geometry)"
   ]
  },
  {
   "cell_type": "markdown",
   "id": "8cd652f7",
   "metadata": {},
   "source": [
    "**Filtering named areas by geography level:**"
   ]
  },
  {
   "cell_type": "code",
   "execution_count": 46,
   "id": "85b180d8",
   "metadata": {
    "scrolled": true
   },
   "outputs": [
    {
     "data": {
      "text/plain": [
       "[{'id': 'US.WholeUSA',\n",
       "  'name': 'Entire Country',\n",
       "  'isWholeCountry': True,\n",
       "  'adminLevel': 'Admin1',\n",
       "  'singularName': 'United States of America',\n",
       "  'pluralName': 'United States of America',\n",
       "  'defaultGeneralizationLevel': 6},\n",
       " {'id': 'US.States',\n",
       "  'name': 'States',\n",
       "  'isWholeCountry': False,\n",
       "  'adminLevel': 'Admin2',\n",
       "  'singularName': 'State',\n",
       "  'pluralName': 'States',\n",
       "  'defaultGeneralizationLevel': 5},\n",
       " {'id': 'US.DMA',\n",
       "  'name': 'DMAs',\n",
       "  'isWholeCountry': False,\n",
       "  'adminLevel': '',\n",
       "  'singularName': 'DMA',\n",
       "  'pluralName': 'DMAs',\n",
       "  'description': 'A Designated Market Area (DMA), also referred to as a media market, is a region of the United States that is used to define television and radio markets. DMAs are determined by the Nielsen Company and are usually defined based on metropolitan areas, with suburbs often being combined within. Esri creates these boundaries by dissolving the TIGER 2019 Block Groups with Esri modified Shoreline.',\n",
       "  'defaultGeneralizationLevel': 2},\n",
       " {'id': 'US.CD',\n",
       "  'name': 'Congressional Districts',\n",
       "  'isWholeCountry': False,\n",
       "  'adminLevel': '',\n",
       "  'singularName': 'Congressional District',\n",
       "  'pluralName': 'Congressional Districts',\n",
       "  'defaultGeneralizationLevel': 2},\n",
       " {'id': 'US.CBSA',\n",
       "  'name': 'CBSAs',\n",
       "  'isWholeCountry': False,\n",
       "  'adminLevel': '',\n",
       "  'singularName': 'CBSA',\n",
       "  'pluralName': 'CBSAs',\n",
       "  'description': 'Core-Based Statistical Areas (CBSAs) are comprised of Metropolitan and Micropolitan Statistical Areas. Metropolitan statistical areas have at least one urbanized area of 50,000 or more population and Micropolitan statistical areas have at least one urban cluster of at least 10,000 but less than 50,000 population. CBSAs are defined by the Office of Management and Budget (OMB) and are comprised of whole counties and Esri created these boundaries by dissolving the TIGER 2019 County Boundaries with Esri modified shoreline.',\n",
       "  'defaultGeneralizationLevel': 2},\n",
       " {'id': 'US.Counties',\n",
       "  'name': 'Counties',\n",
       "  'isWholeCountry': False,\n",
       "  'adminLevel': 'Admin3',\n",
       "  'singularName': 'County',\n",
       "  'pluralName': 'Counties',\n",
       "  'defaultGeneralizationLevel': 0},\n",
       " {'id': 'US.CSD',\n",
       "  'name': 'County Subdivisions',\n",
       "  'isWholeCountry': False,\n",
       "  'adminLevel': '',\n",
       "  'singularName': 'County Subdivision',\n",
       "  'pluralName': 'County Subdivisions',\n",
       "  'minScale': 1155581,\n",
       "  'defaultGeneralizationLevel': 0},\n",
       " {'id': 'US.ZIP5',\n",
       "  'name': 'ZIP Codes',\n",
       "  'isWholeCountry': False,\n",
       "  'adminLevel': 'Admin4',\n",
       "  'singularName': 'ZIP Code',\n",
       "  'pluralName': 'ZIP Codes',\n",
       "  'minScale': 1155581,\n",
       "  'defaultGeneralizationLevel': 0},\n",
       " {'id': 'US.Places',\n",
       "  'name': 'Cities and Towns (Places)',\n",
       "  'isWholeCountry': False,\n",
       "  'adminLevel': '',\n",
       "  'singularName': 'Place',\n",
       "  'pluralName': 'Places',\n",
       "  'minScale': 2311162,\n",
       "  'defaultGeneralizationLevel': 0},\n",
       " {'id': 'US.Tracts',\n",
       "  'name': 'Census Tracts',\n",
       "  'isWholeCountry': False,\n",
       "  'adminLevel': '',\n",
       "  'singularName': 'Census Tract',\n",
       "  'pluralName': 'Census Tracts',\n",
       "  'minScale': 1155581,\n",
       "  'defaultGeneralizationLevel': 0},\n",
       " {'id': 'US.BlockGroups',\n",
       "  'name': 'Block Groups',\n",
       "  'isWholeCountry': False,\n",
       "  'adminLevel': '',\n",
       "  'singularName': 'Block Group',\n",
       "  'pluralName': 'Block Groups',\n",
       "  'minScale': 288895,\n",
       "  'defaultGeneralizationLevel': 0}]"
      ]
     },
     "execution_count": 46,
     "metadata": {},
     "output_type": "execute_result"
    }
   ],
   "source": [
    "usa_levels = [level for level in usa.levels]\n",
    "usa_levels"
   ]
  },
  {
   "cell_type": "code",
   "execution_count": 47,
   "id": "32b745ec",
   "metadata": {},
   "outputs": [
    {
     "data": {
      "text/plain": [
       "['US.WholeUSA',\n",
       " 'US.States',\n",
       " 'US.DMA',\n",
       " 'US.CD',\n",
       " 'US.CBSA',\n",
       " 'US.Counties',\n",
       " 'US.CSD',\n",
       " 'US.ZIP5',\n",
       " 'US.Places',\n",
       " 'US.Tracts',\n",
       " 'US.BlockGroups']"
      ]
     },
     "execution_count": 47,
     "metadata": {},
     "output_type": "execute_result"
    }
   ],
   "source": [
    "usa_levels_ids = [level['id'] for level in usa.levels]\n",
    "usa_levels_ids"
   ]
  },
  {
   "cell_type": "code",
   "execution_count": 48,
   "id": "168f8b58",
   "metadata": {},
   "outputs": [
    {
     "data": {
      "text/plain": [
       "[<NamedArea name:\"Riverside County\" area_id=\"06065\", level=\"US.Counties\", country=\"147\">]"
      ]
     },
     "execution_count": 48,
     "metadata": {},
     "output_type": "execute_result"
    }
   ],
   "source": [
    "usa.search(query='Riverside', layers=['US.Counties'])"
   ]
  },
  {
   "cell_type": "markdown",
   "id": "4002e021",
   "metadata": {},
   "source": [
    "### 8. Working with study Areas\n",
    "\n",
    "**GeoEnrichment** uses the concept of a **study area** to define the location of the point or area that you want to enrich with additional information or create reports about.\n",
    "\n",
    "Accepted forms of **study areas**:\n",
    "- **Street address locations**: `\"380 New York St, Redlands, CA\"`\n",
    "- **Multiple field input addresses** (using dictionaries): `{\"Address\" : \"380 New York Street\", \"City\" : \"Redlands\", \"Region\" : \"CA\", \"Postal\" : 92373}`\n",
    "- **Point and line locations, using `arcgis.geometry` instances**: `arcgis.geometry.Geometry({\"x\":-122.435,\"y\":37.785})`\n",
    "- **Buffered study areas**: `BufferStudyArea` instances to change the ring buffer size or create drive-time service areas around points specified using one of the above methods. BufferStudyArea allows you to buffer point and street address study areas. *They can be created using the following parameters*:\n",
    "  - *area*: the point geometry or street address (string) study area to be buffered\n",
    "  - *radii*: list of distances by which to buffer the study area, eg. [1, 2, 3]\n",
    "  - *units*: distance unit, eg. Miles, Kilometers, Minutes (when using drive times/travel_mode)\n",
    "  - *overlap*: boolean, uses overlapping rings/network service areas when True, or non-overlapping disks when False\n",
    "  - *travel_mode*: None or string, one of the supported travel modes when using network service areas\n",
    "\n",
    "- **Network service areas** - `BufferStudyArea` also allows you to define drive time service areas around points as well as other advanced service areas such as walking and trucking.\n",
    "- **Named statistical areas** - In all previous examples of different **study area** types, locations were defined as either points or polygons. Study area locations can also be passed as one or many named statistical areas. This form of study area lets you define an area as a standard geographic statistical feature, such as a census or postal area, for example, to obtain enrichment information for a U.S. state, county, or ZIP Code or a Canadian province or postal code. When the `NamedArea` instances should be combined together (union), a list of such `NamedArea` instances should constitute a study area in the list of requested study areas.\n",
    "- **Polygon geometries** - Locations can given as polygon geometries."
   ]
  },
  {
   "cell_type": "code",
   "execution_count": 49,
   "id": "b06f2ecf",
   "metadata": {},
   "outputs": [],
   "source": [
    "from arcgis.geometry import Geometry"
   ]
  },
  {
   "cell_type": "code",
   "execution_count": 50,
   "id": "6ad841a6",
   "metadata": {},
   "outputs": [
    {
     "data": {
      "text/plain": [
       "BufferStudyArea(area={'x': -122.435, 'y': 37.785}, radii=[1, 2, 3], units='Miles', overlap=False, travel_mode=None)"
      ]
     },
     "execution_count": 50,
     "metadata": {},
     "output_type": "execute_result"
    }
   ],
   "source": [
    "# Buffered study areas. Example:\n",
    "geometry1 = Geometry({\"x\":-122.435,\"y\":37.785})\n",
    "buffered_area1 = BufferStudyArea(area=geometry1, radii=[1,2,3], units=\"Miles\", overlap=False)\n",
    "buffered_area1"
   ]
  },
  {
   "cell_type": "code",
   "execution_count": 51,
   "id": "d1bce154",
   "metadata": {},
   "outputs": [
    {
     "data": {
      "text/plain": [
       "BufferStudyArea(area={'x': -122.435, 'y': 37.785}, radii=[1, 4, 7], units='Minutes', overlap=True, travel_mode='Driving')"
      ]
     },
     "execution_count": 51,
     "metadata": {},
     "output_type": "execute_result"
    }
   ],
   "source": [
    "# Network service areas. Example:\n",
    "geometry2 = Geometry({\"x\":-122.435,\"y\":37.785})\n",
    "buffered_area2 = BufferStudyArea(area=geometry2, radii=[1,4,7], units=\"Minutes\", travel_mode=\"Driving\")\n",
    "buffered_area2"
   ]
  },
  {
   "cell_type": "code",
   "execution_count": 52,
   "id": "878a092b",
   "metadata": {},
   "outputs": [
    {
     "data": {
      "text/plain": [
       "<NamedArea name:\"Redlands\" area_id=\"92373\", level=\"US.ZIP5\", country=\"147\">"
      ]
     },
     "execution_count": 52,
     "metadata": {},
     "output_type": "execute_result"
    }
   ],
   "source": [
    "# Named statistical areas. Example:\n",
    "usa.subgeographies.states['California'].zip5['92373']"
   ]
  },
  {
   "cell_type": "markdown",
   "id": "6f4b6fed",
   "metadata": {},
   "source": [
    "### 9. Creating Reports\n",
    "\n",
    "The `create_report` method allows you to create many types of high quality reports for a variety of use cases describing the input area.\n",
    "\n",
    "If a point is used as a study area, the service will create a **1 mile ring buffer** around the point to collect and append **enrichment data**. Optionally, you can create a buffer ring or drive time service area around points of interest to generate **PDF** or **Excel** reports containing relevant information for the area on demographics, consumer spending, tapestry market, etc."
   ]
  },
  {
   "cell_type": "code",
   "execution_count": 53,
   "id": "d573800b",
   "metadata": {},
   "outputs": [
    {
     "data": {
      "text/plain": [
       "'.\\\\reports\\\\esri_tapestry_profile.pdf'"
      ]
     },
     "execution_count": 53,
     "metadata": {},
     "output_type": "execute_result"
    }
   ],
   "source": [
    "report = create_report(\n",
    "    study_areas=[\"380 New York Street, Redlands, CA\"],\n",
    "    report=\"tapestry_profileNEW\",\n",
    "    export_format=\"PDF\",\n",
    "    out_folder=r\".\\reports\",\n",
    "    out_name=\"esri_tapestry_profile.pdf\"\n",
    ")\n",
    "\n",
    "report"
   ]
  },
  {
   "cell_type": "markdown",
   "id": "1c39dd73",
   "metadata": {},
   "source": [
    "### 10. Enriching study areas\n",
    "\n",
    "The `enrich()` method returns a `SpatialDataFrame` that can either be used for mapping via the `gis.content.import_data()` method or for further analysis. If `return_geometry` is set to `False`, a Pandas DataFrame is returned instead.\n",
    "\n",
    "**Enriching an existing feature layer**: The examples to be shown below return you a new `SpatialDataFrame` that you can save as a new `Item` in your GIS, use for analysis or visualize on a map. However, if you would like to enrich an existing `FeatureLayer` by adding new data, then use the `enrich_layer()` method from the `features` module."
   ]
  },
  {
   "cell_type": "markdown",
   "id": "b643f576",
   "metadata": {},
   "source": [
    "**Example: Enriching a named statistical area**  \n",
    "Enriching *zip code 92373* in California using the *'Age'* data collection:"
   ]
  },
  {
   "cell_type": "code",
   "execution_count": 54,
   "id": "f99210cd",
   "metadata": {},
   "outputs": [
    {
     "data": {
      "text/plain": [
       "<NamedArea name:\"Redlands\" area_id=\"92373\", level=\"US.ZIP5\", country=\"147\">"
      ]
     },
     "execution_count": 54,
     "metadata": {},
     "output_type": "execute_result"
    }
   ],
   "source": [
    "redlands = usa.subgeographies.states['California'].zip5['92373']\n",
    "redlands"
   ]
  },
  {
   "cell_type": "code",
   "execution_count": 55,
   "id": "54c0ca9e",
   "metadata": {},
   "outputs": [
    {
     "data": {
      "text/html": [
       "<div>\n",
       "<style scoped>\n",
       "    .dataframe tbody tr th:only-of-type {\n",
       "        vertical-align: middle;\n",
       "    }\n",
       "\n",
       "    .dataframe tbody tr th {\n",
       "        vertical-align: top;\n",
       "    }\n",
       "\n",
       "    .dataframe thead th {\n",
       "        text-align: right;\n",
       "    }\n",
       "</style>\n",
       "<table border=\"1\" class=\"dataframe\">\n",
       "  <thead>\n",
       "    <tr style=\"text-align: right;\">\n",
       "      <th></th>\n",
       "      <th>ID</th>\n",
       "      <th>OBJECTID</th>\n",
       "      <th>StdGeographyLevel</th>\n",
       "      <th>StdGeographyName</th>\n",
       "      <th>StdGeographyID</th>\n",
       "      <th>sourceCountry</th>\n",
       "      <th>aggregationMethod</th>\n",
       "      <th>populationToPolygonSizeRating</th>\n",
       "      <th>apportionmentConfidence</th>\n",
       "      <th>HasData</th>\n",
       "      <th>...</th>\n",
       "      <th>FEM45</th>\n",
       "      <th>FEM50</th>\n",
       "      <th>FEM55</th>\n",
       "      <th>FEM60</th>\n",
       "      <th>FEM65</th>\n",
       "      <th>FEM70</th>\n",
       "      <th>FEM75</th>\n",
       "      <th>FEM80</th>\n",
       "      <th>FEM85</th>\n",
       "      <th>SHAPE</th>\n",
       "    </tr>\n",
       "  </thead>\n",
       "  <tbody>\n",
       "    <tr>\n",
       "      <th>0</th>\n",
       "      <td>0</td>\n",
       "      <td>1</td>\n",
       "      <td>US.ZIP5</td>\n",
       "      <td>Redlands</td>\n",
       "      <td>92373</td>\n",
       "      <td>US</td>\n",
       "      <td>Query:US.ZIP5</td>\n",
       "      <td>2.191</td>\n",
       "      <td>2.576</td>\n",
       "      <td>1</td>\n",
       "      <td>...</td>\n",
       "      <td>1056</td>\n",
       "      <td>1106</td>\n",
       "      <td>1158</td>\n",
       "      <td>1234</td>\n",
       "      <td>1127</td>\n",
       "      <td>982</td>\n",
       "      <td>673</td>\n",
       "      <td>471</td>\n",
       "      <td>699</td>\n",
       "      <td>{\"rings\": [[[-117.23452000005528, 34.065769999...</td>\n",
       "    </tr>\n",
       "  </tbody>\n",
       "</table>\n",
       "<p>1 rows × 47 columns</p>\n",
       "</div>"
      ],
      "text/plain": [
       "  ID  OBJECTID StdGeographyLevel StdGeographyName StdGeographyID  \\\n",
       "0  0         1           US.ZIP5         Redlands          92373   \n",
       "\n",
       "  sourceCountry aggregationMethod  populationToPolygonSizeRating  \\\n",
       "0            US     Query:US.ZIP5                          2.191   \n",
       "\n",
       "   apportionmentConfidence  HasData  ...  FEM45  FEM50  FEM55  FEM60  FEM65  \\\n",
       "0                    2.576        1  ...   1056   1106   1158   1234   1127   \n",
       "\n",
       "   FEM70  FEM75  FEM80  FEM85  \\\n",
       "0    982    673    471    699   \n",
       "\n",
       "                                               SHAPE  \n",
       "0  {\"rings\": [[[-117.23452000005528, 34.065769999...  \n",
       "\n",
       "[1 rows x 47 columns]"
      ]
     },
     "execution_count": 55,
     "metadata": {},
     "output_type": "execute_result"
    }
   ],
   "source": [
    "enriched_redlands = enrich(study_areas=[redlands], data_collections=['Age'])\n",
    "enriched_redlands"
   ]
  },
  {
   "cell_type": "markdown",
   "id": "91badfde",
   "metadata": {},
   "source": [
    "**Example: Enrich all counties in a state**"
   ]
  },
  {
   "cell_type": "code",
   "execution_count": 56,
   "id": "91d5b647",
   "metadata": {},
   "outputs": [],
   "source": [
    "ca_counties = usa.subgeographies.states['California'].counties"
   ]
  },
  {
   "cell_type": "code",
   "execution_count": 61,
   "id": "2f03bc2d",
   "metadata": {
    "scrolled": true
   },
   "outputs": [
    {
     "data": {
      "text/html": [
       "<div>\n",
       "<style scoped>\n",
       "    .dataframe tbody tr th:only-of-type {\n",
       "        vertical-align: middle;\n",
       "    }\n",
       "\n",
       "    .dataframe tbody tr th {\n",
       "        vertical-align: top;\n",
       "    }\n",
       "\n",
       "    .dataframe thead th {\n",
       "        text-align: right;\n",
       "    }\n",
       "</style>\n",
       "<table border=\"1\" class=\"dataframe\">\n",
       "  <thead>\n",
       "    <tr style=\"text-align: right;\">\n",
       "      <th></th>\n",
       "      <th>ID</th>\n",
       "      <th>OBJECTID</th>\n",
       "      <th>StdGeographyLevel</th>\n",
       "      <th>StdGeographyName</th>\n",
       "      <th>StdGeographyID</th>\n",
       "      <th>sourceCountry</th>\n",
       "      <th>aggregationMethod</th>\n",
       "      <th>populationToPolygonSizeRating</th>\n",
       "      <th>apportionmentConfidence</th>\n",
       "      <th>HasData</th>\n",
       "      <th>...</th>\n",
       "      <th>FEM45</th>\n",
       "      <th>FEM50</th>\n",
       "      <th>FEM55</th>\n",
       "      <th>FEM60</th>\n",
       "      <th>FEM65</th>\n",
       "      <th>FEM70</th>\n",
       "      <th>FEM75</th>\n",
       "      <th>FEM80</th>\n",
       "      <th>FEM85</th>\n",
       "      <th>SHAPE</th>\n",
       "    </tr>\n",
       "  </thead>\n",
       "  <tbody>\n",
       "    <tr>\n",
       "      <th>0</th>\n",
       "      <td>0</td>\n",
       "      <td>1</td>\n",
       "      <td>US.Counties</td>\n",
       "      <td>Alameda County</td>\n",
       "      <td>06001</td>\n",
       "      <td>US</td>\n",
       "      <td>Query:US.Counties</td>\n",
       "      <td>2.191</td>\n",
       "      <td>2.576</td>\n",
       "      <td>1</td>\n",
       "      <td>...</td>\n",
       "      <td>54137</td>\n",
       "      <td>52917</td>\n",
       "      <td>54513</td>\n",
       "      <td>51522</td>\n",
       "      <td>44475</td>\n",
       "      <td>36609</td>\n",
       "      <td>24113</td>\n",
       "      <td>15817</td>\n",
       "      <td>18673</td>\n",
       "      <td>{\"rings\": [[[-122.2716789998329, 37.9047240001...</td>\n",
       "    </tr>\n",
       "    <tr>\n",
       "      <th>1</th>\n",
       "      <td>1</td>\n",
       "      <td>2</td>\n",
       "      <td>US.Counties</td>\n",
       "      <td>Alpine County</td>\n",
       "      <td>06003</td>\n",
       "      <td>US</td>\n",
       "      <td>Query:US.Counties</td>\n",
       "      <td>2.191</td>\n",
       "      <td>2.576</td>\n",
       "      <td>1</td>\n",
       "      <td>...</td>\n",
       "      <td>28</td>\n",
       "      <td>38</td>\n",
       "      <td>48</td>\n",
       "      <td>41</td>\n",
       "      <td>65</td>\n",
       "      <td>28</td>\n",
       "      <td>21</td>\n",
       "      <td>13</td>\n",
       "      <td>6</td>\n",
       "      <td>{\"rings\": [[[-119.90059599883206, 38.930759999...</td>\n",
       "    </tr>\n",
       "    <tr>\n",
       "      <th>2</th>\n",
       "      <td>2</td>\n",
       "      <td>3</td>\n",
       "      <td>US.Counties</td>\n",
       "      <td>Amador County</td>\n",
       "      <td>06005</td>\n",
       "      <td>US</td>\n",
       "      <td>Query:US.Counties</td>\n",
       "      <td>2.191</td>\n",
       "      <td>2.576</td>\n",
       "      <td>1</td>\n",
       "      <td>...</td>\n",
       "      <td>990</td>\n",
       "      <td>1146</td>\n",
       "      <td>1548</td>\n",
       "      <td>1848</td>\n",
       "      <td>1721</td>\n",
       "      <td>1582</td>\n",
       "      <td>998</td>\n",
       "      <td>693</td>\n",
       "      <td>718</td>\n",
       "      <td>{\"rings\": [[[-120.07763899965389, 38.708886999...</td>\n",
       "    </tr>\n",
       "    <tr>\n",
       "      <th>3</th>\n",
       "      <td>3</td>\n",
       "      <td>4</td>\n",
       "      <td>US.Counties</td>\n",
       "      <td>Butte County</td>\n",
       "      <td>06007</td>\n",
       "      <td>US</td>\n",
       "      <td>Query:US.Counties</td>\n",
       "      <td>2.191</td>\n",
       "      <td>2.576</td>\n",
       "      <td>1</td>\n",
       "      <td>...</td>\n",
       "      <td>5120</td>\n",
       "      <td>5507</td>\n",
       "      <td>6507</td>\n",
       "      <td>6933</td>\n",
       "      <td>6625</td>\n",
       "      <td>5496</td>\n",
       "      <td>3751</td>\n",
       "      <td>2502</td>\n",
       "      <td>3350</td>\n",
       "      <td>{\"rings\": [[[-121.4046210002662, 40.1466409995...</td>\n",
       "    </tr>\n",
       "    <tr>\n",
       "      <th>4</th>\n",
       "      <td>4</td>\n",
       "      <td>5</td>\n",
       "      <td>US.Counties</td>\n",
       "      <td>Calaveras County</td>\n",
       "      <td>06009</td>\n",
       "      <td>US</td>\n",
       "      <td>Query:US.Counties</td>\n",
       "      <td>2.191</td>\n",
       "      <td>2.576</td>\n",
       "      <td>1</td>\n",
       "      <td>...</td>\n",
       "      <td>1309</td>\n",
       "      <td>1644</td>\n",
       "      <td>2130</td>\n",
       "      <td>2387</td>\n",
       "      <td>2428</td>\n",
       "      <td>2078</td>\n",
       "      <td>1191</td>\n",
       "      <td>686</td>\n",
       "      <td>685</td>\n",
       "      <td>{\"rings\": [[[-120.07246000003855, 38.509156000...</td>\n",
       "    </tr>\n",
       "    <tr>\n",
       "      <th>5</th>\n",
       "      <td>5</td>\n",
       "      <td>6</td>\n",
       "      <td>US.Counties</td>\n",
       "      <td>Colusa County</td>\n",
       "      <td>06011</td>\n",
       "      <td>US</td>\n",
       "      <td>Query:US.Counties</td>\n",
       "      <td>2.191</td>\n",
       "      <td>2.576</td>\n",
       "      <td>1</td>\n",
       "      <td>...</td>\n",
       "      <td>608</td>\n",
       "      <td>605</td>\n",
       "      <td>628</td>\n",
       "      <td>615</td>\n",
       "      <td>576</td>\n",
       "      <td>486</td>\n",
       "      <td>300</td>\n",
       "      <td>182</td>\n",
       "      <td>237</td>\n",
       "      <td>{\"rings\": [[[-122.12562700045578, 39.414592999...</td>\n",
       "    </tr>\n",
       "    <tr>\n",
       "      <th>6</th>\n",
       "      <td>6</td>\n",
       "      <td>7</td>\n",
       "      <td>US.Counties</td>\n",
       "      <td>Contra Costa County</td>\n",
       "      <td>06013</td>\n",
       "      <td>US</td>\n",
       "      <td>Query:US.Counties</td>\n",
       "      <td>2.191</td>\n",
       "      <td>2.576</td>\n",
       "      <td>1</td>\n",
       "      <td>...</td>\n",
       "      <td>35884</td>\n",
       "      <td>37362</td>\n",
       "      <td>39584</td>\n",
       "      <td>38547</td>\n",
       "      <td>33758</td>\n",
       "      <td>27941</td>\n",
       "      <td>18389</td>\n",
       "      <td>12186</td>\n",
       "      <td>14533</td>\n",
       "      <td>{\"rings\": [[[-121.58224999909734, 38.094889999...</td>\n",
       "    </tr>\n",
       "    <tr>\n",
       "      <th>7</th>\n",
       "      <td>7</td>\n",
       "      <td>8</td>\n",
       "      <td>US.Counties</td>\n",
       "      <td>Del Norte County</td>\n",
       "      <td>06015</td>\n",
       "      <td>US</td>\n",
       "      <td>Query:US.Counties</td>\n",
       "      <td>2.191</td>\n",
       "      <td>2.576</td>\n",
       "      <td>1</td>\n",
       "      <td>...</td>\n",
       "      <td>673</td>\n",
       "      <td>845</td>\n",
       "      <td>982</td>\n",
       "      <td>1053</td>\n",
       "      <td>911</td>\n",
       "      <td>779</td>\n",
       "      <td>518</td>\n",
       "      <td>320</td>\n",
       "      <td>314</td>\n",
       "      <td>{\"rings\": [[[-123.5179109993812, 42.0007559996...</td>\n",
       "    </tr>\n",
       "    <tr>\n",
       "      <th>8</th>\n",
       "      <td>8</td>\n",
       "      <td>9</td>\n",
       "      <td>US.Counties</td>\n",
       "      <td>El Dorado County</td>\n",
       "      <td>06017</td>\n",
       "      <td>US</td>\n",
       "      <td>Query:US.Counties</td>\n",
       "      <td>2.191</td>\n",
       "      <td>2.576</td>\n",
       "      <td>1</td>\n",
       "      <td>...</td>\n",
       "      <td>6113</td>\n",
       "      <td>6969</td>\n",
       "      <td>8220</td>\n",
       "      <td>8406</td>\n",
       "      <td>7355</td>\n",
       "      <td>5803</td>\n",
       "      <td>3684</td>\n",
       "      <td>2254</td>\n",
       "      <td>2387</td>\n",
       "      <td>{\"rings\": [[[-120.00241734223947, 39.067488696...</td>\n",
       "    </tr>\n",
       "    <tr>\n",
       "      <th>9</th>\n",
       "      <td>9</td>\n",
       "      <td>10</td>\n",
       "      <td>US.Counties</td>\n",
       "      <td>Fresno County</td>\n",
       "      <td>06019</td>\n",
       "      <td>US</td>\n",
       "      <td>Query:US.Counties</td>\n",
       "      <td>2.191</td>\n",
       "      <td>2.576</td>\n",
       "      <td>1</td>\n",
       "      <td>...</td>\n",
       "      <td>26304</td>\n",
       "      <td>25685</td>\n",
       "      <td>27071</td>\n",
       "      <td>25989</td>\n",
       "      <td>22720</td>\n",
       "      <td>18332</td>\n",
       "      <td>12482</td>\n",
       "      <td>8170</td>\n",
       "      <td>9644</td>\n",
       "      <td>{\"rings\": [[[-119.00146499951879, 37.570897000...</td>\n",
       "    </tr>\n",
       "  </tbody>\n",
       "</table>\n",
       "<p>10 rows × 47 columns</p>\n",
       "</div>"
      ],
      "text/plain": [
       "  ID  OBJECTID StdGeographyLevel     StdGeographyName StdGeographyID  \\\n",
       "0  0         1       US.Counties       Alameda County          06001   \n",
       "1  1         2       US.Counties        Alpine County          06003   \n",
       "2  2         3       US.Counties        Amador County          06005   \n",
       "3  3         4       US.Counties         Butte County          06007   \n",
       "4  4         5       US.Counties     Calaveras County          06009   \n",
       "5  5         6       US.Counties        Colusa County          06011   \n",
       "6  6         7       US.Counties  Contra Costa County          06013   \n",
       "7  7         8       US.Counties     Del Norte County          06015   \n",
       "8  8         9       US.Counties     El Dorado County          06017   \n",
       "9  9        10       US.Counties        Fresno County          06019   \n",
       "\n",
       "  sourceCountry  aggregationMethod  populationToPolygonSizeRating  \\\n",
       "0            US  Query:US.Counties                          2.191   \n",
       "1            US  Query:US.Counties                          2.191   \n",
       "2            US  Query:US.Counties                          2.191   \n",
       "3            US  Query:US.Counties                          2.191   \n",
       "4            US  Query:US.Counties                          2.191   \n",
       "5            US  Query:US.Counties                          2.191   \n",
       "6            US  Query:US.Counties                          2.191   \n",
       "7            US  Query:US.Counties                          2.191   \n",
       "8            US  Query:US.Counties                          2.191   \n",
       "9            US  Query:US.Counties                          2.191   \n",
       "\n",
       "   apportionmentConfidence  HasData  ...  FEM45  FEM50  FEM55  FEM60  FEM65  \\\n",
       "0                    2.576        1  ...  54137  52917  54513  51522  44475   \n",
       "1                    2.576        1  ...     28     38     48     41     65   \n",
       "2                    2.576        1  ...    990   1146   1548   1848   1721   \n",
       "3                    2.576        1  ...   5120   5507   6507   6933   6625   \n",
       "4                    2.576        1  ...   1309   1644   2130   2387   2428   \n",
       "5                    2.576        1  ...    608    605    628    615    576   \n",
       "6                    2.576        1  ...  35884  37362  39584  38547  33758   \n",
       "7                    2.576        1  ...    673    845    982   1053    911   \n",
       "8                    2.576        1  ...   6113   6969   8220   8406   7355   \n",
       "9                    2.576        1  ...  26304  25685  27071  25989  22720   \n",
       "\n",
       "   FEM70  FEM75  FEM80  FEM85  \\\n",
       "0  36609  24113  15817  18673   \n",
       "1     28     21     13      6   \n",
       "2   1582    998    693    718   \n",
       "3   5496   3751   2502   3350   \n",
       "4   2078   1191    686    685   \n",
       "5    486    300    182    237   \n",
       "6  27941  18389  12186  14533   \n",
       "7    779    518    320    314   \n",
       "8   5803   3684   2254   2387   \n",
       "9  18332  12482   8170   9644   \n",
       "\n",
       "                                               SHAPE  \n",
       "0  {\"rings\": [[[-122.2716789998329, 37.9047240001...  \n",
       "1  {\"rings\": [[[-119.90059599883206, 38.930759999...  \n",
       "2  {\"rings\": [[[-120.07763899965389, 38.708886999...  \n",
       "3  {\"rings\": [[[-121.4046210002662, 40.1466409995...  \n",
       "4  {\"rings\": [[[-120.07246000003855, 38.509156000...  \n",
       "5  {\"rings\": [[[-122.12562700045578, 39.414592999...  \n",
       "6  {\"rings\": [[[-121.58224999909734, 38.094889999...  \n",
       "7  {\"rings\": [[[-123.5179109993812, 42.0007559996...  \n",
       "8  {\"rings\": [[[-120.00241734223947, 39.067488696...  \n",
       "9  {\"rings\": [[[-119.00146499951879, 37.570897000...  \n",
       "\n",
       "[10 rows x 47 columns]"
      ]
     },
     "execution_count": 61,
     "metadata": {},
     "output_type": "execute_result"
    }
   ],
   "source": [
    "counties_df = enrich(study_areas=ca_counties, data_collections=['Age'])\n",
    "counties_df.head(10)"
   ]
  },
  {
   "cell_type": "code",
   "execution_count": 86,
   "id": "78103310",
   "metadata": {},
   "outputs": [
    {
     "data": {
      "application/vnd.jupyter.widget-view+json": {
       "model_id": "e5b0556a25d84a02ac9ab73122ea8d21",
       "version_major": 2,
       "version_minor": 0
      },
      "text/plain": [
       "MapView(layout=Layout(height='400px', width='100%'))"
      ]
     },
     "metadata": {},
     "output_type": "display_data"
    },
    {
     "data": {
      "text/html": [
       "<div class=\"map-static-img-preview-20c011c1-3166-4722-9914-be64f04e45ed\"><img src=\"\"></img></div>"
      ],
      "text/plain": [
       "<IPython.core.display.HTML object>"
      ]
     },
     "metadata": {},
     "output_type": "display_data"
    },
    {
     "data": {
      "text/html": [
       "<div class=\"map-html-embed-preview-20c011c1-3166-4722-9914-be64f04e45ed\"></div>"
      ],
      "text/plain": [
       "<IPython.core.display.HTML object>"
      ]
     },
     "metadata": {},
     "output_type": "display_data"
    }
   ],
   "source": [
    "m = gis.map('California')\n",
    "m"
   ]
  },
  {
   "cell_type": "code",
   "execution_count": 89,
   "id": "1495fec3",
   "metadata": {},
   "outputs": [],
   "source": [
    "#lyr = gis.content.import_data(df=counties_df, title=\"CA county population\")  # do not work!"
   ]
  },
  {
   "cell_type": "code",
   "execution_count": 92,
   "id": "12ce7868",
   "metadata": {},
   "outputs": [],
   "source": [
    "#m.add_layer(lyr.layers[0], {'renderer': 'ClassedColorRenderer', 'field_name':'FEM0'})  # do not work!"
   ]
  },
  {
   "cell_type": "markdown",
   "id": "6a4ac48b",
   "metadata": {},
   "source": [
    "**Example: Using comparison levels**\n",
    "\n",
    "The information for the study areas can also be compared with standard geography areas in other levels. In the example below, the `92373 zip code` intersects with both `Riverside` and `San Bernardino` counties in California, and hence both these counties as well as the state of California are returned along with the results for the named zip code, as the comparison levels includes both States and Counties."
   ]
  },
  {
   "cell_type": "code",
   "execution_count": 65,
   "id": "d837f71c",
   "metadata": {},
   "outputs": [
    {
     "data": {
      "text/html": [
       "<div>\n",
       "<style scoped>\n",
       "    .dataframe tbody tr th:only-of-type {\n",
       "        vertical-align: middle;\n",
       "    }\n",
       "\n",
       "    .dataframe tbody tr th {\n",
       "        vertical-align: top;\n",
       "    }\n",
       "\n",
       "    .dataframe thead th {\n",
       "        text-align: right;\n",
       "    }\n",
       "</style>\n",
       "<table border=\"1\" class=\"dataframe\">\n",
       "  <thead>\n",
       "    <tr style=\"text-align: right;\">\n",
       "      <th></th>\n",
       "      <th>ID</th>\n",
       "      <th>OBJECTID</th>\n",
       "      <th>StdGeographyLevel</th>\n",
       "      <th>StdGeographyName</th>\n",
       "      <th>StdGeographyID</th>\n",
       "      <th>sourceCountry</th>\n",
       "      <th>aggregationMethod</th>\n",
       "      <th>populationToPolygonSizeRating</th>\n",
       "      <th>apportionmentConfidence</th>\n",
       "      <th>HasData</th>\n",
       "      <th>...</th>\n",
       "      <th>FEM45</th>\n",
       "      <th>FEM50</th>\n",
       "      <th>FEM55</th>\n",
       "      <th>FEM60</th>\n",
       "      <th>FEM65</th>\n",
       "      <th>FEM70</th>\n",
       "      <th>FEM75</th>\n",
       "      <th>FEM80</th>\n",
       "      <th>FEM85</th>\n",
       "      <th>SHAPE</th>\n",
       "    </tr>\n",
       "  </thead>\n",
       "  <tbody>\n",
       "    <tr>\n",
       "      <th>0</th>\n",
       "      <td>0</td>\n",
       "      <td>1</td>\n",
       "      <td>US.ZIP5</td>\n",
       "      <td>Redlands</td>\n",
       "      <td>92373</td>\n",
       "      <td>US</td>\n",
       "      <td>Query:US.ZIP5</td>\n",
       "      <td>2.191</td>\n",
       "      <td>2.576</td>\n",
       "      <td>1</td>\n",
       "      <td>...</td>\n",
       "      <td>1056</td>\n",
       "      <td>1106</td>\n",
       "      <td>1158</td>\n",
       "      <td>1234</td>\n",
       "      <td>1127</td>\n",
       "      <td>982</td>\n",
       "      <td>673</td>\n",
       "      <td>471</td>\n",
       "      <td>699</td>\n",
       "      <td>{\"rings\": [[[-117.23452000005528, 34.065769999...</td>\n",
       "    </tr>\n",
       "    <tr>\n",
       "      <th>1</th>\n",
       "      <td>0</td>\n",
       "      <td>2</td>\n",
       "      <td>US.Counties</td>\n",
       "      <td>Riverside County</td>\n",
       "      <td>06065</td>\n",
       "      <td>US</td>\n",
       "      <td>Query:US.Counties</td>\n",
       "      <td>2.191</td>\n",
       "      <td>2.576</td>\n",
       "      <td>1</td>\n",
       "      <td>...</td>\n",
       "      <td>69773</td>\n",
       "      <td>69228</td>\n",
       "      <td>71626</td>\n",
       "      <td>69388</td>\n",
       "      <td>61325</td>\n",
       "      <td>52276</td>\n",
       "      <td>37158</td>\n",
       "      <td>24805</td>\n",
       "      <td>25568</td>\n",
       "      <td>NaN</td>\n",
       "    </tr>\n",
       "    <tr>\n",
       "      <th>2</th>\n",
       "      <td>0</td>\n",
       "      <td>3</td>\n",
       "      <td>US.Counties</td>\n",
       "      <td>San Bernardino County</td>\n",
       "      <td>06071</td>\n",
       "      <td>US</td>\n",
       "      <td>Query:US.Counties</td>\n",
       "      <td>2.191</td>\n",
       "      <td>2.576</td>\n",
       "      <td>1</td>\n",
       "      <td>...</td>\n",
       "      <td>63503</td>\n",
       "      <td>62699</td>\n",
       "      <td>64570</td>\n",
       "      <td>60968</td>\n",
       "      <td>50621</td>\n",
       "      <td>38877</td>\n",
       "      <td>25284</td>\n",
       "      <td>16071</td>\n",
       "      <td>16304</td>\n",
       "      <td>NaN</td>\n",
       "    </tr>\n",
       "    <tr>\n",
       "      <th>3</th>\n",
       "      <td>0</td>\n",
       "      <td>4</td>\n",
       "      <td>US.States</td>\n",
       "      <td>California</td>\n",
       "      <td>06</td>\n",
       "      <td>US</td>\n",
       "      <td>Query:US.States</td>\n",
       "      <td>2.191</td>\n",
       "      <td>2.576</td>\n",
       "      <td>1</td>\n",
       "      <td>...</td>\n",
       "      <td>1183234</td>\n",
       "      <td>1188505</td>\n",
       "      <td>1232694</td>\n",
       "      <td>1193385</td>\n",
       "      <td>1032496</td>\n",
       "      <td>849680</td>\n",
       "      <td>579334</td>\n",
       "      <td>385741</td>\n",
       "      <td>444788</td>\n",
       "      <td>NaN</td>\n",
       "    </tr>\n",
       "  </tbody>\n",
       "</table>\n",
       "<p>4 rows × 47 columns</p>\n",
       "</div>"
      ],
      "text/plain": [
       "  ID  OBJECTID StdGeographyLevel       StdGeographyName StdGeographyID  \\\n",
       "0  0         1           US.ZIP5               Redlands          92373   \n",
       "1  0         2       US.Counties       Riverside County          06065   \n",
       "2  0         3       US.Counties  San Bernardino County          06071   \n",
       "3  0         4         US.States             California             06   \n",
       "\n",
       "  sourceCountry  aggregationMethod  populationToPolygonSizeRating  \\\n",
       "0            US      Query:US.ZIP5                          2.191   \n",
       "1            US  Query:US.Counties                          2.191   \n",
       "2            US  Query:US.Counties                          2.191   \n",
       "3            US    Query:US.States                          2.191   \n",
       "\n",
       "   apportionmentConfidence  HasData  ...    FEM45    FEM50    FEM55    FEM60  \\\n",
       "0                    2.576        1  ...     1056     1106     1158     1234   \n",
       "1                    2.576        1  ...    69773    69228    71626    69388   \n",
       "2                    2.576        1  ...    63503    62699    64570    60968   \n",
       "3                    2.576        1  ...  1183234  1188505  1232694  1193385   \n",
       "\n",
       "     FEM65   FEM70   FEM75   FEM80   FEM85  \\\n",
       "0     1127     982     673     471     699   \n",
       "1    61325   52276   37158   24805   25568   \n",
       "2    50621   38877   25284   16071   16304   \n",
       "3  1032496  849680  579334  385741  444788   \n",
       "\n",
       "                                               SHAPE  \n",
       "0  {\"rings\": [[[-117.23452000005528, 34.065769999...  \n",
       "1                                                NaN  \n",
       "2                                                NaN  \n",
       "3                                                NaN  \n",
       "\n",
       "[4 rows x 47 columns]"
      ]
     },
     "execution_count": 65,
     "metadata": {},
     "output_type": "execute_result"
    }
   ],
   "source": [
    "enrich(\n",
    "    study_areas=[redlands], \n",
    "    data_collections=['Age'], \n",
    "    comparison_levels=['US.Counties', 'US.States']\n",
    ")"
   ]
  },
  {
   "cell_type": "markdown",
   "id": "3d4f63d3",
   "metadata": {},
   "source": [
    "**Example: Enriching street address**\n",
    "\n",
    "The example below uses a street address as a study area instead."
   ]
  },
  {
   "cell_type": "code",
   "execution_count": 66,
   "id": "2ef1d088",
   "metadata": {},
   "outputs": [
    {
     "data": {
      "text/html": [
       "<div>\n",
       "<style scoped>\n",
       "    .dataframe tbody tr th:only-of-type {\n",
       "        vertical-align: middle;\n",
       "    }\n",
       "\n",
       "    .dataframe tbody tr th {\n",
       "        vertical-align: top;\n",
       "    }\n",
       "\n",
       "    .dataframe thead th {\n",
       "        text-align: right;\n",
       "    }\n",
       "</style>\n",
       "<table border=\"1\" class=\"dataframe\">\n",
       "  <thead>\n",
       "    <tr style=\"text-align: right;\">\n",
       "      <th></th>\n",
       "      <th>ID</th>\n",
       "      <th>OBJECTID</th>\n",
       "      <th>sourceCountry</th>\n",
       "      <th>X</th>\n",
       "      <th>Y</th>\n",
       "      <th>areaType</th>\n",
       "      <th>bufferUnits</th>\n",
       "      <th>bufferUnitsAlias</th>\n",
       "      <th>bufferRadii</th>\n",
       "      <th>aggregationMethod</th>\n",
       "      <th>...</th>\n",
       "      <th>FEM45</th>\n",
       "      <th>FEM50</th>\n",
       "      <th>FEM55</th>\n",
       "      <th>FEM60</th>\n",
       "      <th>FEM65</th>\n",
       "      <th>FEM70</th>\n",
       "      <th>FEM75</th>\n",
       "      <th>FEM80</th>\n",
       "      <th>FEM85</th>\n",
       "      <th>SHAPE</th>\n",
       "    </tr>\n",
       "  </thead>\n",
       "  <tbody>\n",
       "    <tr>\n",
       "      <th>0</th>\n",
       "      <td>0</td>\n",
       "      <td>1</td>\n",
       "      <td>US</td>\n",
       "      <td>-117.19479</td>\n",
       "      <td>34.057265</td>\n",
       "      <td>RingBuffer</td>\n",
       "      <td>esriMiles</td>\n",
       "      <td>Miles</td>\n",
       "      <td>1.0</td>\n",
       "      <td>BlockApportionment:US.BlockGroups;PointsLayer:...</td>\n",
       "      <td>...</td>\n",
       "      <td>366</td>\n",
       "      <td>382</td>\n",
       "      <td>369</td>\n",
       "      <td>342</td>\n",
       "      <td>315</td>\n",
       "      <td>264</td>\n",
       "      <td>162</td>\n",
       "      <td>100</td>\n",
       "      <td>125</td>\n",
       "      <td>{\"rings\": [[[-117.19479001927878, 34.071773611...</td>\n",
       "    </tr>\n",
       "    <tr>\n",
       "      <th>1</th>\n",
       "      <td>0</td>\n",
       "      <td>2</td>\n",
       "      <td>US</td>\n",
       "      <td>-117.19479</td>\n",
       "      <td>34.057265</td>\n",
       "      <td>NaN</td>\n",
       "      <td>NaN</td>\n",
       "      <td>NaN</td>\n",
       "      <td>NaN</td>\n",
       "      <td>Query:US.Counties</td>\n",
       "      <td>...</td>\n",
       "      <td>63503</td>\n",
       "      <td>62699</td>\n",
       "      <td>64570</td>\n",
       "      <td>60968</td>\n",
       "      <td>50621</td>\n",
       "      <td>38877</td>\n",
       "      <td>25284</td>\n",
       "      <td>16071</td>\n",
       "      <td>16304</td>\n",
       "      <td>NaN</td>\n",
       "    </tr>\n",
       "    <tr>\n",
       "      <th>2</th>\n",
       "      <td>0</td>\n",
       "      <td>3</td>\n",
       "      <td>US</td>\n",
       "      <td>-117.19479</td>\n",
       "      <td>34.057265</td>\n",
       "      <td>NaN</td>\n",
       "      <td>NaN</td>\n",
       "      <td>NaN</td>\n",
       "      <td>NaN</td>\n",
       "      <td>Query:US.States</td>\n",
       "      <td>...</td>\n",
       "      <td>1183234</td>\n",
       "      <td>1188505</td>\n",
       "      <td>1232694</td>\n",
       "      <td>1193385</td>\n",
       "      <td>1032496</td>\n",
       "      <td>849680</td>\n",
       "      <td>579334</td>\n",
       "      <td>385741</td>\n",
       "      <td>444788</td>\n",
       "      <td>NaN</td>\n",
       "    </tr>\n",
       "  </tbody>\n",
       "</table>\n",
       "<p>3 rows × 50 columns</p>\n",
       "</div>"
      ],
      "text/plain": [
       "  ID  OBJECTID sourceCountry          X          Y    areaType bufferUnits  \\\n",
       "0  0         1            US -117.19479  34.057265  RingBuffer   esriMiles   \n",
       "1  0         2            US -117.19479  34.057265         NaN         NaN   \n",
       "2  0         3            US -117.19479  34.057265         NaN         NaN   \n",
       "\n",
       "  bufferUnitsAlias  bufferRadii  \\\n",
       "0            Miles          1.0   \n",
       "1              NaN          NaN   \n",
       "2              NaN          NaN   \n",
       "\n",
       "                                   aggregationMethod  ...    FEM45    FEM50  \\\n",
       "0  BlockApportionment:US.BlockGroups;PointsLayer:...  ...      366      382   \n",
       "1                                  Query:US.Counties  ...    63503    62699   \n",
       "2                                    Query:US.States  ...  1183234  1188505   \n",
       "\n",
       "     FEM55    FEM60    FEM65   FEM70   FEM75   FEM80   FEM85  \\\n",
       "0      369      342      315     264     162     100     125   \n",
       "1    64570    60968    50621   38877   25284   16071   16304   \n",
       "2  1232694  1193385  1032496  849680  579334  385741  444788   \n",
       "\n",
       "                                               SHAPE  \n",
       "0  {\"rings\": [[[-117.19479001927878, 34.071773611...  \n",
       "1                                                NaN  \n",
       "2                                                NaN  \n",
       "\n",
       "[3 rows x 50 columns]"
      ]
     },
     "execution_count": 66,
     "metadata": {},
     "output_type": "execute_result"
    }
   ],
   "source": [
    "enrich(\n",
    "    study_areas=[\"380 New York St Redlands CA 92373\"],       \n",
    "    data_collections=['Age'], \n",
    "    comparison_levels=['US.Counties', 'US.States']\n",
    ")"
   ]
  },
  {
   "cell_type": "markdown",
   "id": "fd38e4ed",
   "metadata": {},
   "source": [
    "**Example: Buffering locations using non overlapping disks (неперекрывающиеся диски)**\n",
    "\n",
    "The example below creates non-overlapping disks of radii 1, 3 and 5 Miles respectively from a street address and enriches these using the 'Age' data collection."
   ]
  },
  {
   "cell_type": "code",
   "execution_count": 67,
   "id": "e14655f0",
   "metadata": {},
   "outputs": [
    {
     "data": {
      "text/html": [
       "<div>\n",
       "<style scoped>\n",
       "    .dataframe tbody tr th:only-of-type {\n",
       "        vertical-align: middle;\n",
       "    }\n",
       "\n",
       "    .dataframe tbody tr th {\n",
       "        vertical-align: top;\n",
       "    }\n",
       "\n",
       "    .dataframe thead th {\n",
       "        text-align: right;\n",
       "    }\n",
       "</style>\n",
       "<table border=\"1\" class=\"dataframe\">\n",
       "  <thead>\n",
       "    <tr style=\"text-align: right;\">\n",
       "      <th></th>\n",
       "      <th>ID</th>\n",
       "      <th>OBJECTID</th>\n",
       "      <th>sourceCountry</th>\n",
       "      <th>X</th>\n",
       "      <th>Y</th>\n",
       "      <th>areaType</th>\n",
       "      <th>bufferUnits</th>\n",
       "      <th>bufferUnitsAlias</th>\n",
       "      <th>bufferRadii</th>\n",
       "      <th>aggregationMethod</th>\n",
       "      <th>...</th>\n",
       "      <th>FEM45</th>\n",
       "      <th>FEM50</th>\n",
       "      <th>FEM55</th>\n",
       "      <th>FEM60</th>\n",
       "      <th>FEM65</th>\n",
       "      <th>FEM70</th>\n",
       "      <th>FEM75</th>\n",
       "      <th>FEM80</th>\n",
       "      <th>FEM85</th>\n",
       "      <th>SHAPE</th>\n",
       "    </tr>\n",
       "  </thead>\n",
       "  <tbody>\n",
       "    <tr>\n",
       "      <th>0</th>\n",
       "      <td>0</td>\n",
       "      <td>1</td>\n",
       "      <td>US</td>\n",
       "      <td>-117.19479</td>\n",
       "      <td>34.057265</td>\n",
       "      <td>RingBufferBands</td>\n",
       "      <td>Miles</td>\n",
       "      <td>Miles</td>\n",
       "      <td>1</td>\n",
       "      <td>BlockApportionment:US.BlockGroups;PointsLayer:...</td>\n",
       "      <td>...</td>\n",
       "      <td>366</td>\n",
       "      <td>382</td>\n",
       "      <td>369</td>\n",
       "      <td>342</td>\n",
       "      <td>315</td>\n",
       "      <td>264</td>\n",
       "      <td>162</td>\n",
       "      <td>100</td>\n",
       "      <td>125</td>\n",
       "      <td>{\"rings\": [[[-117.19479001927878, 34.071773611...</td>\n",
       "    </tr>\n",
       "    <tr>\n",
       "      <th>1</th>\n",
       "      <td>0</td>\n",
       "      <td>2</td>\n",
       "      <td>US</td>\n",
       "      <td>-117.19479</td>\n",
       "      <td>34.057265</td>\n",
       "      <td>RingBufferBands</td>\n",
       "      <td>Miles</td>\n",
       "      <td>Miles</td>\n",
       "      <td>3</td>\n",
       "      <td>BlockApportionment:US.BlockGroups;PointsLayer:...</td>\n",
       "      <td>...</td>\n",
       "      <td>1925</td>\n",
       "      <td>1918</td>\n",
       "      <td>2015</td>\n",
       "      <td>2119</td>\n",
       "      <td>1821</td>\n",
       "      <td>1473</td>\n",
       "      <td>1014</td>\n",
       "      <td>721</td>\n",
       "      <td>947</td>\n",
       "      <td>{\"rings\": [[[-117.19479001927878, 34.100790740...</td>\n",
       "    </tr>\n",
       "    <tr>\n",
       "      <th>2</th>\n",
       "      <td>0</td>\n",
       "      <td>3</td>\n",
       "      <td>US</td>\n",
       "      <td>-117.19479</td>\n",
       "      <td>34.057265</td>\n",
       "      <td>RingBufferBands</td>\n",
       "      <td>Miles</td>\n",
       "      <td>Miles</td>\n",
       "      <td>5</td>\n",
       "      <td>BlockApportionment:US.BlockGroups;PointsLayer:...</td>\n",
       "      <td>...</td>\n",
       "      <td>2312</td>\n",
       "      <td>2391</td>\n",
       "      <td>2534</td>\n",
       "      <td>2448</td>\n",
       "      <td>2048</td>\n",
       "      <td>1604</td>\n",
       "      <td>1102</td>\n",
       "      <td>799</td>\n",
       "      <td>1061</td>\n",
       "      <td>{\"rings\": [[[-117.19479001927878, 34.129807732...</td>\n",
       "    </tr>\n",
       "  </tbody>\n",
       "</table>\n",
       "<p>3 rows × 50 columns</p>\n",
       "</div>"
      ],
      "text/plain": [
       "  ID  OBJECTID sourceCountry          X          Y         areaType  \\\n",
       "0  0         1            US -117.19479  34.057265  RingBufferBands   \n",
       "1  0         2            US -117.19479  34.057265  RingBufferBands   \n",
       "2  0         3            US -117.19479  34.057265  RingBufferBands   \n",
       "\n",
       "  bufferUnits bufferUnitsAlias  bufferRadii  \\\n",
       "0       Miles            Miles            1   \n",
       "1       Miles            Miles            3   \n",
       "2       Miles            Miles            5   \n",
       "\n",
       "                                   aggregationMethod  ...  FEM45  FEM50  \\\n",
       "0  BlockApportionment:US.BlockGroups;PointsLayer:...  ...    366    382   \n",
       "1  BlockApportionment:US.BlockGroups;PointsLayer:...  ...   1925   1918   \n",
       "2  BlockApportionment:US.BlockGroups;PointsLayer:...  ...   2312   2391   \n",
       "\n",
       "   FEM55  FEM60  FEM65  FEM70  FEM75  FEM80  FEM85  \\\n",
       "0    369    342    315    264    162    100    125   \n",
       "1   2015   2119   1821   1473   1014    721    947   \n",
       "2   2534   2448   2048   1604   1102    799   1061   \n",
       "\n",
       "                                               SHAPE  \n",
       "0  {\"rings\": [[[-117.19479001927878, 34.071773611...  \n",
       "1  {\"rings\": [[[-117.19479001927878, 34.100790740...  \n",
       "2  {\"rings\": [[[-117.19479001927878, 34.129807732...  \n",
       "\n",
       "[3 rows x 50 columns]"
      ]
     },
     "execution_count": 67,
     "metadata": {},
     "output_type": "execute_result"
    }
   ],
   "source": [
    "buffered = BufferStudyArea(\n",
    "    area='380 New York St Redlands CA 92373',\n",
    "    radii=[1,3,5], \n",
    "    units='Miles', \n",
    "    overlap=False\n",
    ")\n",
    "\n",
    "enrich(\n",
    "    study_areas=[buffered], \n",
    "    data_collections=['Age']\n",
    ")"
   ]
  },
  {
   "cell_type": "markdown",
   "id": "fc4ecb54",
   "metadata": {},
   "source": [
    "**Example: Using drive times as study areas**\n",
    "\n",
    "The example below creates 5 and 10 minute drive times from a street address and enriches these using the 'Age' data collection."
   ]
  },
  {
   "cell_type": "code",
   "execution_count": 68,
   "id": "11b4f100",
   "metadata": {},
   "outputs": [],
   "source": [
    "buffered = BufferStudyArea(\n",
    "    area='380 New York St Redlands CA 92373', \n",
    "    radii=[5, 10], \n",
    "    units='Minutes',\n",
    "    travel_mode='Driving'\n",
    ")\n",
    "\n",
    "drive_time_df = enrich(\n",
    "    study_areas=[buffered], \n",
    "    data_collections=['Age']\n",
    ")"
   ]
  },
  {
   "cell_type": "code",
   "execution_count": 69,
   "id": "c3c4935f",
   "metadata": {},
   "outputs": [
    {
     "data": {
      "text/html": [
       "<div>\n",
       "<style scoped>\n",
       "    .dataframe tbody tr th:only-of-type {\n",
       "        vertical-align: middle;\n",
       "    }\n",
       "\n",
       "    .dataframe tbody tr th {\n",
       "        vertical-align: top;\n",
       "    }\n",
       "\n",
       "    .dataframe thead th {\n",
       "        text-align: right;\n",
       "    }\n",
       "</style>\n",
       "<table border=\"1\" class=\"dataframe\">\n",
       "  <thead>\n",
       "    <tr style=\"text-align: right;\">\n",
       "      <th></th>\n",
       "      <th>ID</th>\n",
       "      <th>OBJECTID</th>\n",
       "      <th>sourceCountry</th>\n",
       "      <th>X</th>\n",
       "      <th>Y</th>\n",
       "      <th>areaType</th>\n",
       "      <th>bufferUnits</th>\n",
       "      <th>bufferUnitsAlias</th>\n",
       "      <th>bufferRadii</th>\n",
       "      <th>aggregationMethod</th>\n",
       "      <th>...</th>\n",
       "      <th>FEM45</th>\n",
       "      <th>FEM50</th>\n",
       "      <th>FEM55</th>\n",
       "      <th>FEM60</th>\n",
       "      <th>FEM65</th>\n",
       "      <th>FEM70</th>\n",
       "      <th>FEM75</th>\n",
       "      <th>FEM80</th>\n",
       "      <th>FEM85</th>\n",
       "      <th>SHAPE</th>\n",
       "    </tr>\n",
       "  </thead>\n",
       "  <tbody>\n",
       "    <tr>\n",
       "      <th>0</th>\n",
       "      <td>0</td>\n",
       "      <td>1</td>\n",
       "      <td>US</td>\n",
       "      <td>-117.19479</td>\n",
       "      <td>34.057265</td>\n",
       "      <td>NetworkServiceArea</td>\n",
       "      <td>Minutes</td>\n",
       "      <td>Drive Time Minutes</td>\n",
       "      <td>5</td>\n",
       "      <td>BlockApportionment:US.BlockGroups;PointsLayer:...</td>\n",
       "      <td>...</td>\n",
       "      <td>475</td>\n",
       "      <td>489</td>\n",
       "      <td>489</td>\n",
       "      <td>456</td>\n",
       "      <td>418</td>\n",
       "      <td>345</td>\n",
       "      <td>222</td>\n",
       "      <td>144</td>\n",
       "      <td>188</td>\n",
       "      <td>{\"rings\": [[[-117.19996384486102, 34.076283040...</td>\n",
       "    </tr>\n",
       "    <tr>\n",
       "      <th>1</th>\n",
       "      <td>0</td>\n",
       "      <td>2</td>\n",
       "      <td>US</td>\n",
       "      <td>-117.19479</td>\n",
       "      <td>34.057265</td>\n",
       "      <td>NetworkServiceArea</td>\n",
       "      <td>Minutes</td>\n",
       "      <td>Drive Time Minutes</td>\n",
       "      <td>10</td>\n",
       "      <td>BlockApportionment:US.BlockGroups;PointsLayer:...</td>\n",
       "      <td>...</td>\n",
       "      <td>2795</td>\n",
       "      <td>2794</td>\n",
       "      <td>2921</td>\n",
       "      <td>2979</td>\n",
       "      <td>2564</td>\n",
       "      <td>2095</td>\n",
       "      <td>1422</td>\n",
       "      <td>1027</td>\n",
       "      <td>1496</td>\n",
       "      <td>{\"rings\": [[[-117.19345108869554, 34.134673265...</td>\n",
       "    </tr>\n",
       "  </tbody>\n",
       "</table>\n",
       "<p>2 rows × 50 columns</p>\n",
       "</div>"
      ],
      "text/plain": [
       "  ID  OBJECTID sourceCountry          X          Y            areaType  \\\n",
       "0  0         1            US -117.19479  34.057265  NetworkServiceArea   \n",
       "1  0         2            US -117.19479  34.057265  NetworkServiceArea   \n",
       "\n",
       "  bufferUnits    bufferUnitsAlias  bufferRadii  \\\n",
       "0     Minutes  Drive Time Minutes            5   \n",
       "1     Minutes  Drive Time Minutes           10   \n",
       "\n",
       "                                   aggregationMethod  ...  FEM45  FEM50  \\\n",
       "0  BlockApportionment:US.BlockGroups;PointsLayer:...  ...    475    489   \n",
       "1  BlockApportionment:US.BlockGroups;PointsLayer:...  ...   2795   2794   \n",
       "\n",
       "   FEM55  FEM60  FEM65  FEM70  FEM75  FEM80  FEM85  \\\n",
       "0    489    456    418    345    222    144    188   \n",
       "1   2921   2979   2564   2095   1422   1027   1496   \n",
       "\n",
       "                                               SHAPE  \n",
       "0  {\"rings\": [[[-117.19996384486102, 34.076283040...  \n",
       "1  {\"rings\": [[[-117.19345108869554, 34.134673265...  \n",
       "\n",
       "[2 rows x 50 columns]"
      ]
     },
     "execution_count": 69,
     "metadata": {},
     "output_type": "execute_result"
    }
   ],
   "source": [
    "drive_time_df"
   ]
  },
  {
   "cell_type": "markdown",
   "id": "e524c2af",
   "metadata": {},
   "source": [
    "**Visualize results on a map**\n",
    "\n",
    "The returned spatial (пространственный) dataframe can be visualized on a map as shown below:"
   ]
  },
  {
   "cell_type": "code",
   "execution_count": 74,
   "id": "80b464db",
   "metadata": {},
   "outputs": [
    {
     "data": {
      "application/vnd.jupyter.widget-view+json": {
       "model_id": "2cb8a2e05a814e288850680a4331cf28",
       "version_major": 2,
       "version_minor": 0
      },
      "text/plain": [
       "MapView(layout=Layout(height='400px', width='100%'))"
      ]
     },
     "metadata": {},
     "output_type": "display_data"
    },
    {
     "data": {
      "text/html": [
       "<div class=\"map-static-img-preview-dd8fa497-bb64-4719-b650-8762df4c80e1\"><img src=\"\"></img></div>"
      ],
      "text/plain": [
       "<IPython.core.display.HTML object>"
      ]
     },
     "metadata": {},
     "output_type": "display_data"
    },
    {
     "data": {
      "text/html": [
       "<div class=\"map-html-embed-preview-dd8fa497-bb64-4719-b650-8762df4c80e1\"></div>"
      ],
      "text/plain": [
       "<IPython.core.display.HTML object>"
      ]
     },
     "metadata": {},
     "output_type": "display_data"
    }
   ],
   "source": [
    "redlands_map = gis.map('Redlands, CA')\n",
    "redlands_map.basemap = 'dark-gray-vector'\n",
    "redlands_map"
   ]
  },
  {
   "cell_type": "code",
   "execution_count": 93,
   "id": "2453eb0a",
   "metadata": {},
   "outputs": [
    {
     "data": {
      "text/html": [
       "<div>\n",
       "<style scoped>\n",
       "    .dataframe tbody tr th:only-of-type {\n",
       "        vertical-align: middle;\n",
       "    }\n",
       "\n",
       "    .dataframe tbody tr th {\n",
       "        vertical-align: top;\n",
       "    }\n",
       "\n",
       "    .dataframe thead th {\n",
       "        text-align: right;\n",
       "    }\n",
       "</style>\n",
       "<table border=\"1\" class=\"dataframe\">\n",
       "  <thead>\n",
       "    <tr style=\"text-align: right;\">\n",
       "      <th></th>\n",
       "      <th>id</th>\n",
       "      <th>objectid</th>\n",
       "      <th>source_country</th>\n",
       "      <th>x</th>\n",
       "      <th>y</th>\n",
       "      <th>area_type</th>\n",
       "      <th>buffer_units</th>\n",
       "      <th>buffer_units_alias</th>\n",
       "      <th>buffer_radii</th>\n",
       "      <th>aggregation_method</th>\n",
       "      <th>...</th>\n",
       "      <th>fem45</th>\n",
       "      <th>fem50</th>\n",
       "      <th>fem55</th>\n",
       "      <th>fem60</th>\n",
       "      <th>fem65</th>\n",
       "      <th>fem70</th>\n",
       "      <th>fem75</th>\n",
       "      <th>fem80</th>\n",
       "      <th>fem85</th>\n",
       "      <th>SHAPE</th>\n",
       "    </tr>\n",
       "  </thead>\n",
       "  <tbody>\n",
       "    <tr>\n",
       "      <th>0</th>\n",
       "      <td>0</td>\n",
       "      <td>1</td>\n",
       "      <td>US</td>\n",
       "      <td>-117.19479</td>\n",
       "      <td>34.057265</td>\n",
       "      <td>NetworkServiceArea</td>\n",
       "      <td>Minutes</td>\n",
       "      <td>Drive Time Minutes</td>\n",
       "      <td>5</td>\n",
       "      <td>BlockApportionment:US.BlockGroups;PointsLayer:...</td>\n",
       "      <td>...</td>\n",
       "      <td>475</td>\n",
       "      <td>489</td>\n",
       "      <td>489</td>\n",
       "      <td>456</td>\n",
       "      <td>418</td>\n",
       "      <td>345</td>\n",
       "      <td>222</td>\n",
       "      <td>144</td>\n",
       "      <td>188</td>\n",
       "      <td>{\"rings\": [[[-117.19996384486102, 34.076283040...</td>\n",
       "    </tr>\n",
       "    <tr>\n",
       "      <th>1</th>\n",
       "      <td>0</td>\n",
       "      <td>2</td>\n",
       "      <td>US</td>\n",
       "      <td>-117.19479</td>\n",
       "      <td>34.057265</td>\n",
       "      <td>NetworkServiceArea</td>\n",
       "      <td>Minutes</td>\n",
       "      <td>Drive Time Minutes</td>\n",
       "      <td>10</td>\n",
       "      <td>BlockApportionment:US.BlockGroups;PointsLayer:...</td>\n",
       "      <td>...</td>\n",
       "      <td>2795</td>\n",
       "      <td>2794</td>\n",
       "      <td>2921</td>\n",
       "      <td>2979</td>\n",
       "      <td>2564</td>\n",
       "      <td>2095</td>\n",
       "      <td>1422</td>\n",
       "      <td>1027</td>\n",
       "      <td>1496</td>\n",
       "      <td>{\"rings\": [[[-117.19345108869554, 34.134673265...</td>\n",
       "    </tr>\n",
       "  </tbody>\n",
       "</table>\n",
       "<p>2 rows × 50 columns</p>\n",
       "</div>"
      ],
      "text/plain": [
       "  id  objectid source_country          x          y           area_type  \\\n",
       "0  0         1             US -117.19479  34.057265  NetworkServiceArea   \n",
       "1  0         2             US -117.19479  34.057265  NetworkServiceArea   \n",
       "\n",
       "  buffer_units  buffer_units_alias  buffer_radii  \\\n",
       "0      Minutes  Drive Time Minutes             5   \n",
       "1      Minutes  Drive Time Minutes            10   \n",
       "\n",
       "                                  aggregation_method  ...  fem45  fem50  \\\n",
       "0  BlockApportionment:US.BlockGroups;PointsLayer:...  ...    475    489   \n",
       "1  BlockApportionment:US.BlockGroups;PointsLayer:...  ...   2795   2794   \n",
       "\n",
       "   fem55  fem60  fem65  fem70  fem75  fem80  fem85  \\\n",
       "0    489    456    418    345    222    144    188   \n",
       "1   2921   2979   2564   2095   1422   1027   1496   \n",
       "\n",
       "                                               SHAPE  \n",
       "0  {\"rings\": [[[-117.19996384486102, 34.076283040...  \n",
       "1  {\"rings\": [[[-117.19345108869554, 34.134673265...  \n",
       "\n",
       "[2 rows x 50 columns]"
      ]
     },
     "execution_count": 93,
     "metadata": {},
     "output_type": "execute_result"
    }
   ],
   "source": [
    "drive_time_df"
   ]
  },
  {
   "cell_type": "code",
   "execution_count": 96,
   "id": "b38e052e",
   "metadata": {},
   "outputs": [],
   "source": [
    "#redlands_map.draw(drive_time_df.to_featureset())  # do not work!"
   ]
  },
  {
   "cell_type": "markdown",
   "id": "f6f4e956",
   "metadata": {},
   "source": [
    "### 11. Saving GeoEnrichment Results\n",
    "\n",
    "The results can be saved back to a GIS as a feature layer."
   ]
  },
  {
   "cell_type": "code",
   "execution_count": 99,
   "id": "1b14fc3a",
   "metadata": {},
   "outputs": [],
   "source": [
    "# Example: Save Data to a Feature Layer\n",
    "#gis.content.import_data(df=drive_time_df, title=\"Age statistics within 5,10 minutes of drive time from Esri\")  # do not work!"
   ]
  },
  {
   "cell_type": "code",
   "execution_count": null,
   "id": "d4444b52",
   "metadata": {},
   "outputs": [],
   "source": []
  }
 ],
 "metadata": {
  "kernelspec": {
   "display_name": "Python 3 (ipykernel)",
   "language": "python",
   "name": "python3"
  },
  "language_info": {
   "codemirror_mode": {
    "name": "ipython",
    "version": 3
   },
   "file_extension": ".py",
   "mimetype": "text/x-python",
   "name": "python",
   "nbconvert_exporter": "python",
   "pygments_lexer": "ipython3",
   "version": "3.8.10"
  }
 },
 "nbformat": 4,
 "nbformat_minor": 5
}
