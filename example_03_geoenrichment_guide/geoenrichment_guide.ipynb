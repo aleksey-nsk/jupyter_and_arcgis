{
 "cells": [
  {
   "cell_type": "markdown",
   "id": "01bb7910",
   "metadata": {},
   "source": [
    "# ArcGIS API for Python\n",
    "\n",
    "## GeoEnrichment\n",
    "\n",
    "**GeoEnrichment** provides the ability to get facts about a location or area. Using GeoEnrichment, you can get information about the people and places in a specific area or within a certain distance or drive time from a location. It enables you to query and use information from a large collection of data sets including population, income, housing, consumer behavior, and the natural environment.\n",
    "\n",
    "This module enables you to answer questions about locations that you can't answer with maps alone. For example: What kind of people live here? What do people like to do in this area? What are their habits and lifestyles?\n",
    "\n",
    "The `enrich()` method can be used to retrieve demographics and other relevant characteristics associated with the area surrounding the requested places. You can also use the `arcgis.geoenrichment` **module** to obtain additional geographic context (for example, the **ZIP Code** of a location) and geographic boundaries (for example, the geometry for a drive-time service area).\n",
    "\n",
    "**Site analysis** is a popular application of this type of **data enrichment**. For example, GeoEnrichment can be leveraged to study the population that would be affected by the development of a new community center within their neighborhood. With the `enrich()` method, the proposed site can be submitted, and the demographics and other relevant characteristics associated with the area around the site will be returned.\n",
    "\n",
    "A user must be logged on to a GIS in order to use GeoEnrichment. The geoenrichment functionality is available in the `arcgis.geoenrichment` **module**."
   ]
  },
  {
   "cell_type": "code",
   "execution_count": 84,
   "id": "1fcef39c",
   "metadata": {},
   "outputs": [],
   "source": [
    "from arcgis.gis import GIS\n",
    "from arcgis.geoenrichment import *\n",
    "\n",
    "gis = GIS(api_key=\"AAPK6ee8947e8f9549d0ada59f3e054f57e2fs3A0lQeIqocbpFkvx1hDM0cgFXyKXef3hmZNzOEwh79qVXTWqLFIbVAUjpGlPQ7\")"
   ]
  },
  {
   "cell_type": "markdown",
   "id": "cc50d24c",
   "metadata": {},
   "source": [
    "### 1. GeoEnrichment coverage"
   ]
  },
  {
   "cell_type": "code",
   "execution_count": 2,
   "id": "c5ccb155",
   "metadata": {},
   "outputs": [
    {
     "name": "stdout",
     "output_type": "stream",
     "text": [
      "Number of countries, for which GeoEnrichment data is available: 154\n"
     ]
    }
   ],
   "source": [
    "# Query the countries for which there is GeoEnrichment data\n",
    "countries = get_countries()\n",
    "print(\"Number of countries, for which GeoEnrichment data is available: \" + str(len(countries)))"
   ]
  },
  {
   "cell_type": "code",
   "execution_count": 3,
   "id": "9e54445f",
   "metadata": {
    "scrolled": true
   },
   "outputs": [
    {
     "data": {
      "text/plain": [
       "[<Country - Albania (GIS @ https://www.arcgis.com version:10.1)>,\n",
       " <Country - Algeria (GIS @ https://www.arcgis.com version:10.1)>,\n",
       " <Country - Andorra (GIS @ https://www.arcgis.com version:10.1)>,\n",
       " <Country - Angola (GIS @ https://www.arcgis.com version:10.1)>,\n",
       " <Country - Anguilla (GIS @ https://www.arcgis.com version:10.1)>,\n",
       " <Country - Argentina (GIS @ https://www.arcgis.com version:10.1)>,\n",
       " <Country - Armenia (GIS @ https://www.arcgis.com version:10.1)>,\n",
       " <Country - Aruba (GIS @ https://www.arcgis.com version:10.1)>,\n",
       " <Country - Australia (GIS @ https://www.arcgis.com version:10.1)>,\n",
       " <Country - Austria (GIS @ https://www.arcgis.com version:10.1)>]"
      ]
     },
     "execution_count": 3,
     "metadata": {},
     "output_type": "execute_result"
    }
   ],
   "source": [
    "# Print a few countries for a sample\n",
    "countries[0:10]"
   ]
  },
  {
   "cell_type": "markdown",
   "id": "cacae69f",
   "metadata": {},
   "source": [
    "### 2. Filtering countries by properties"
   ]
  },
  {
   "cell_type": "code",
   "execution_count": 4,
   "id": "c97edb67",
   "metadata": {},
   "outputs": [
    {
     "data": {
      "text/plain": [
       "['Australia',\n",
       " 'Fiji',\n",
       " 'French Polynesia',\n",
       " 'New Caledonia',\n",
       " 'New Zealand',\n",
       " 'Papua New Guinea']"
      ]
     },
     "execution_count": 4,
     "metadata": {},
     "output_type": "execute_result"
    }
   ],
   "source": [
    "# Gets the countries in Oceania\n",
    "[country.properties.country_name for country in countries if country.properties.continent == 'Oceania']"
   ]
  },
  {
   "cell_type": "markdown",
   "id": "4f8bb267",
   "metadata": {},
   "source": [
    "### 3. Discovering information for a country"
   ]
  },
  {
   "cell_type": "code",
   "execution_count": 85,
   "id": "05f1266c",
   "metadata": {},
   "outputs": [
    {
     "data": {
      "text/plain": [
       "arcgis.geoenrichment.enrichment.Country"
      ]
     },
     "execution_count": 85,
     "metadata": {},
     "output_type": "execute_result"
    }
   ],
   "source": [
    "# Country class can be used to discover the data collections, sub-geographies and available reports for a country\n",
    "usa = Country.get('USA')\n",
    "type(usa)"
   ]
  },
  {
   "cell_type": "code",
   "execution_count": 6,
   "id": "78d1f64a",
   "metadata": {},
   "outputs": [
    {
     "data": {
      "text/plain": [
       "iso2                                                              US\n",
       "iso3                                                             USA\n",
       "country_name                                           United States\n",
       "datasets           [USA_ESRI_2021, USA_ACS_2021, USA_ASR_2021, US...\n",
       "default_dataset                                        USA_ESRI_2021\n",
       "alt_name                                               UNITED STATES\n",
       "continent                                              North America\n",
       "Name: 147, dtype: object"
      ]
     },
     "execution_count": 6,
     "metadata": {},
     "output_type": "execute_result"
    }
   ],
   "source": [
    "# Properties for the country are accessible using Country.properties\n",
    "usa.properties"
   ]
  },
  {
   "cell_type": "code",
   "execution_count": 7,
   "id": "d05c0042",
   "metadata": {},
   "outputs": [
    {
     "data": {
      "text/plain": [
       "'United States'"
      ]
     },
     "execution_count": 7,
     "metadata": {},
     "output_type": "execute_result"
    }
   ],
   "source": [
    "usa.properties.country_name"
   ]
  },
  {
   "cell_type": "code",
   "execution_count": 8,
   "id": "7f247de7",
   "metadata": {},
   "outputs": [
    {
     "data": {
      "text/plain": [
       "['USA_ESRI_2021',\n",
       " 'USA_ACS_2021',\n",
       " 'USA_ASR_2021',\n",
       " 'USA_CRM_2021',\n",
       " 'USA_DATAAXLE_2022',\n",
       " 'USA_RMP_2021',\n",
       " 'USA_SAFEGRAPH_2022',\n",
       " 'USA_TRFCNT_2022',\n",
       " 'USA_PL_2020',\n",
       " 'Landscape']"
      ]
     },
     "execution_count": 8,
     "metadata": {},
     "output_type": "execute_result"
    }
   ],
   "source": [
    "usa.properties.datasets"
   ]
  },
  {
   "cell_type": "markdown",
   "id": "ebb632d7",
   "metadata": {},
   "source": [
    "### 4. Data collections and analysis variables\n",
    "\n",
    "**GeoEnrichment** uses the **concept of a data collection** to define the data attributes returned by the enrichment service.\n",
    "\n",
    "A **data collection** is a preassembled list of attributes that will be used to enrich the input features. Collection attributes can describe various types of information, such as demographic characteristics and geographic context of the locations or areas submitted as input features."
   ]
  },
  {
   "cell_type": "code",
   "execution_count": 9,
   "id": "fc1e2959",
   "metadata": {
    "scrolled": true
   },
   "outputs": [
    {
     "data": {
      "text/html": [
       "<div>\n",
       "<style scoped>\n",
       "    .dataframe tbody tr th:only-of-type {\n",
       "        vertical-align: middle;\n",
       "    }\n",
       "\n",
       "    .dataframe tbody tr th {\n",
       "        vertical-align: top;\n",
       "    }\n",
       "\n",
       "    .dataframe thead th {\n",
       "        text-align: right;\n",
       "    }\n",
       "</style>\n",
       "<table border=\"1\" class=\"dataframe\">\n",
       "  <thead>\n",
       "    <tr style=\"text-align: right;\">\n",
       "      <th></th>\n",
       "      <th>analysisVariable</th>\n",
       "      <th>alias</th>\n",
       "      <th>fieldCategory</th>\n",
       "      <th>vintage</th>\n",
       "    </tr>\n",
       "    <tr>\n",
       "      <th>dataCollectionID</th>\n",
       "      <th></th>\n",
       "      <th></th>\n",
       "      <th></th>\n",
       "      <th></th>\n",
       "    </tr>\n",
       "  </thead>\n",
       "  <tbody>\n",
       "    <tr>\n",
       "      <th>1yearincrements</th>\n",
       "      <td>1yearincrements.AGE0_CY</td>\n",
       "      <td>2021 Population Age &lt;1</td>\n",
       "      <td>2021 Age: 1 Year Increments (Esri)</td>\n",
       "      <td>2021</td>\n",
       "    </tr>\n",
       "    <tr>\n",
       "      <th>1yearincrements</th>\n",
       "      <td>1yearincrements.AGE1_CY</td>\n",
       "      <td>2021 Population Age 1</td>\n",
       "      <td>2021 Age: 1 Year Increments (Esri)</td>\n",
       "      <td>2021</td>\n",
       "    </tr>\n",
       "    <tr>\n",
       "      <th>1yearincrements</th>\n",
       "      <td>1yearincrements.AGE2_CY</td>\n",
       "      <td>2021 Population Age 2</td>\n",
       "      <td>2021 Age: 1 Year Increments (Esri)</td>\n",
       "      <td>2021</td>\n",
       "    </tr>\n",
       "    <tr>\n",
       "      <th>1yearincrements</th>\n",
       "      <td>1yearincrements.AGE3_CY</td>\n",
       "      <td>2021 Population Age 3</td>\n",
       "      <td>2021 Age: 1 Year Increments (Esri)</td>\n",
       "      <td>2021</td>\n",
       "    </tr>\n",
       "    <tr>\n",
       "      <th>1yearincrements</th>\n",
       "      <td>1yearincrements.AGE4_CY</td>\n",
       "      <td>2021 Population Age 4</td>\n",
       "      <td>2021 Age: 1 Year Increments (Esri)</td>\n",
       "      <td>2021</td>\n",
       "    </tr>\n",
       "    <tr>\n",
       "      <th>...</th>\n",
       "      <td>...</td>\n",
       "      <td>...</td>\n",
       "      <td>...</td>\n",
       "      <td>...</td>\n",
       "    </tr>\n",
       "    <tr>\n",
       "      <th>yearmovedin</th>\n",
       "      <td>yearmovedin.MOEMEDYRMV</td>\n",
       "      <td>2019 Median Year Householder Moved In MOE (ACS...</td>\n",
       "      <td>2015-2019 Year Householder Moved In (ACS)</td>\n",
       "      <td>2015-2019</td>\n",
       "    </tr>\n",
       "    <tr>\n",
       "      <th>yearmovedin</th>\n",
       "      <td>yearmovedin.RELMEDYRMV</td>\n",
       "      <td>2019 Median Year Householder Moved In REL (ACS...</td>\n",
       "      <td>2015-2019 Year Householder Moved In (ACS)</td>\n",
       "      <td>2015-2019</td>\n",
       "    </tr>\n",
       "    <tr>\n",
       "      <th>yearmovedin</th>\n",
       "      <td>yearmovedin.ACSOWNER</td>\n",
       "      <td>2019 Owner Households (ACS 5-Yr)</td>\n",
       "      <td>2015-2019 Key Demographic Indicators (ACS)</td>\n",
       "      <td>2015-2019</td>\n",
       "    </tr>\n",
       "    <tr>\n",
       "      <th>yearmovedin</th>\n",
       "      <td>yearmovedin.MOEOWNER</td>\n",
       "      <td>2019 Owner Households MOE (ACS 5-Yr)</td>\n",
       "      <td>2015-2019 Key Demographic Indicators (ACS)</td>\n",
       "      <td>2015-2019</td>\n",
       "    </tr>\n",
       "    <tr>\n",
       "      <th>yearmovedin</th>\n",
       "      <td>yearmovedin.RELOWNER</td>\n",
       "      <td>2019 Owner Households REL (ACS 5-Yr)</td>\n",
       "      <td>2015-2019 Key Demographic Indicators (ACS)</td>\n",
       "      <td>2015-2019</td>\n",
       "    </tr>\n",
       "  </tbody>\n",
       "</table>\n",
       "<p>19153 rows × 4 columns</p>\n",
       "</div>"
      ],
      "text/plain": [
       "                         analysisVariable  \\\n",
       "dataCollectionID                            \n",
       "1yearincrements   1yearincrements.AGE0_CY   \n",
       "1yearincrements   1yearincrements.AGE1_CY   \n",
       "1yearincrements   1yearincrements.AGE2_CY   \n",
       "1yearincrements   1yearincrements.AGE3_CY   \n",
       "1yearincrements   1yearincrements.AGE4_CY   \n",
       "...                                   ...   \n",
       "yearmovedin        yearmovedin.MOEMEDYRMV   \n",
       "yearmovedin        yearmovedin.RELMEDYRMV   \n",
       "yearmovedin          yearmovedin.ACSOWNER   \n",
       "yearmovedin          yearmovedin.MOEOWNER   \n",
       "yearmovedin          yearmovedin.RELOWNER   \n",
       "\n",
       "                                                              alias  \\\n",
       "dataCollectionID                                                      \n",
       "1yearincrements                              2021 Population Age <1   \n",
       "1yearincrements                               2021 Population Age 1   \n",
       "1yearincrements                               2021 Population Age 2   \n",
       "1yearincrements                               2021 Population Age 3   \n",
       "1yearincrements                               2021 Population Age 4   \n",
       "...                                                             ...   \n",
       "yearmovedin       2019 Median Year Householder Moved In MOE (ACS...   \n",
       "yearmovedin       2019 Median Year Householder Moved In REL (ACS...   \n",
       "yearmovedin                        2019 Owner Households (ACS 5-Yr)   \n",
       "yearmovedin                    2019 Owner Households MOE (ACS 5-Yr)   \n",
       "yearmovedin                    2019 Owner Households REL (ACS 5-Yr)   \n",
       "\n",
       "                                               fieldCategory    vintage  \n",
       "dataCollectionID                                                         \n",
       "1yearincrements           2021 Age: 1 Year Increments (Esri)       2021  \n",
       "1yearincrements           2021 Age: 1 Year Increments (Esri)       2021  \n",
       "1yearincrements           2021 Age: 1 Year Increments (Esri)       2021  \n",
       "1yearincrements           2021 Age: 1 Year Increments (Esri)       2021  \n",
       "1yearincrements           2021 Age: 1 Year Increments (Esri)       2021  \n",
       "...                                                      ...        ...  \n",
       "yearmovedin        2015-2019 Year Householder Moved In (ACS)  2015-2019  \n",
       "yearmovedin        2015-2019 Year Householder Moved In (ACS)  2015-2019  \n",
       "yearmovedin       2015-2019 Key Demographic Indicators (ACS)  2015-2019  \n",
       "yearmovedin       2015-2019 Key Demographic Indicators (ACS)  2015-2019  \n",
       "yearmovedin       2015-2019 Key Demographic Indicators (ACS)  2015-2019  \n",
       "\n",
       "[19153 rows x 4 columns]"
      ]
     },
     "execution_count": 9,
     "metadata": {},
     "output_type": "execute_result"
    }
   ],
   "source": [
    "# data_collections property of a Country object lists its available data collections and analysis variables\n",
    "data_frame = usa.data_collections\n",
    "data_frame"
   ]
  },
  {
   "cell_type": "code",
   "execution_count": 10,
   "id": "983f3a99",
   "metadata": {},
   "outputs": [
    {
     "data": {
      "text/html": [
       "<div>\n",
       "<style scoped>\n",
       "    .dataframe tbody tr th:only-of-type {\n",
       "        vertical-align: middle;\n",
       "    }\n",
       "\n",
       "    .dataframe tbody tr th {\n",
       "        vertical-align: top;\n",
       "    }\n",
       "\n",
       "    .dataframe thead th {\n",
       "        text-align: right;\n",
       "    }\n",
       "</style>\n",
       "<table border=\"1\" class=\"dataframe\">\n",
       "  <thead>\n",
       "    <tr style=\"text-align: right;\">\n",
       "      <th></th>\n",
       "      <th>analysisVariable</th>\n",
       "      <th>alias</th>\n",
       "      <th>fieldCategory</th>\n",
       "      <th>vintage</th>\n",
       "    </tr>\n",
       "    <tr>\n",
       "      <th>dataCollectionID</th>\n",
       "      <th></th>\n",
       "      <th></th>\n",
       "      <th></th>\n",
       "      <th></th>\n",
       "    </tr>\n",
       "  </thead>\n",
       "  <tbody>\n",
       "    <tr>\n",
       "      <th>1yearincrements</th>\n",
       "      <td>1yearincrements.AGE0_CY</td>\n",
       "      <td>2021 Population Age &lt;1</td>\n",
       "      <td>2021 Age: 1 Year Increments (Esri)</td>\n",
       "      <td>2021</td>\n",
       "    </tr>\n",
       "    <tr>\n",
       "      <th>1yearincrements</th>\n",
       "      <td>1yearincrements.AGE1_CY</td>\n",
       "      <td>2021 Population Age 1</td>\n",
       "      <td>2021 Age: 1 Year Increments (Esri)</td>\n",
       "      <td>2021</td>\n",
       "    </tr>\n",
       "    <tr>\n",
       "      <th>1yearincrements</th>\n",
       "      <td>1yearincrements.AGE2_CY</td>\n",
       "      <td>2021 Population Age 2</td>\n",
       "      <td>2021 Age: 1 Year Increments (Esri)</td>\n",
       "      <td>2021</td>\n",
       "    </tr>\n",
       "    <tr>\n",
       "      <th>1yearincrements</th>\n",
       "      <td>1yearincrements.AGE3_CY</td>\n",
       "      <td>2021 Population Age 3</td>\n",
       "      <td>2021 Age: 1 Year Increments (Esri)</td>\n",
       "      <td>2021</td>\n",
       "    </tr>\n",
       "    <tr>\n",
       "      <th>1yearincrements</th>\n",
       "      <td>1yearincrements.AGE4_CY</td>\n",
       "      <td>2021 Population Age 4</td>\n",
       "      <td>2021 Age: 1 Year Increments (Esri)</td>\n",
       "      <td>2021</td>\n",
       "    </tr>\n",
       "  </tbody>\n",
       "</table>\n",
       "</div>"
      ],
      "text/plain": [
       "                         analysisVariable                   alias  \\\n",
       "dataCollectionID                                                    \n",
       "1yearincrements   1yearincrements.AGE0_CY  2021 Population Age <1   \n",
       "1yearincrements   1yearincrements.AGE1_CY   2021 Population Age 1   \n",
       "1yearincrements   1yearincrements.AGE2_CY   2021 Population Age 2   \n",
       "1yearincrements   1yearincrements.AGE3_CY   2021 Population Age 3   \n",
       "1yearincrements   1yearincrements.AGE4_CY   2021 Population Age 4   \n",
       "\n",
       "                                       fieldCategory vintage  \n",
       "dataCollectionID                                              \n",
       "1yearincrements   2021 Age: 1 Year Increments (Esri)    2021  \n",
       "1yearincrements   2021 Age: 1 Year Increments (Esri)    2021  \n",
       "1yearincrements   2021 Age: 1 Year Increments (Esri)    2021  \n",
       "1yearincrements   2021 Age: 1 Year Increments (Esri)    2021  \n",
       "1yearincrements   2021 Age: 1 Year Increments (Esri)    2021  "
      ]
     },
     "execution_count": 10,
     "metadata": {},
     "output_type": "execute_result"
    }
   ],
   "source": [
    "# Print a few rows of the DataFrame\n",
    "data_frame.head()"
   ]
  },
  {
   "cell_type": "code",
   "execution_count": 11,
   "id": "b16fa8a6",
   "metadata": {},
   "outputs": [
    {
     "data": {
      "text/plain": [
       "(19153, 4)"
      ]
     },
     "execution_count": 11,
     "metadata": {},
     "output_type": "execute_result"
    }
   ],
   "source": [
    "# Call the shape property to get the total number of rows and columns\n",
    "data_frame.shape"
   ]
  },
  {
   "cell_type": "markdown",
   "id": "66c7c3d1",
   "metadata": {},
   "source": [
    "- Each **data collection** and **analysis variable** has a unique ID\n",
    "- When calling the `enrich()` method (explained later in this guide) these analysis variables can be passed in the `data_collections` and `analysis_variables` parameters\n",
    "- You can filter the `data_collections` and query the collections `analysis_variables` using Pandas expressions"
   ]
  },
  {
   "cell_type": "code",
   "execution_count": 12,
   "id": "e2d9ba40",
   "metadata": {},
   "outputs": [
    {
     "data": {
      "text/plain": [
       "Index(['1yearincrements', '5yearincrements', 'ACS_Housing_Summary_rep',\n",
       "       'ACS_Population_Summary_rep', 'Age', 'AgeDependency',\n",
       "       'Age_50_Profile_rep', 'Age_by_Sex_Profile_rep',\n",
       "       'Age_by_Sex_by_Race_Profile_rep', 'AtRisk',\n",
       "       ...\n",
       "       'transportation', 'travelMPI', 'unitsinstructure',\n",
       "       'urbanizationgroupsNEW', 'vacant', 'vehiclesavailable', 'veterans',\n",
       "       'women', 'yearbuilt', 'yearmovedin'],\n",
       "      dtype='object', name='dataCollectionID', length=161)"
      ]
     },
     "execution_count": 12,
     "metadata": {},
     "output_type": "execute_result"
    }
   ],
   "source": [
    "# Get all the unique data collections available\n",
    "data_frame.index.unique()"
   ]
  },
  {
   "cell_type": "code",
   "execution_count": 13,
   "id": "5ea40a54",
   "metadata": {
    "scrolled": true
   },
   "outputs": [
    {
     "data": {
      "text/html": [
       "<div>\n",
       "<style scoped>\n",
       "    .dataframe tbody tr th:only-of-type {\n",
       "        vertical-align: middle;\n",
       "    }\n",
       "\n",
       "    .dataframe tbody tr th {\n",
       "        vertical-align: top;\n",
       "    }\n",
       "\n",
       "    .dataframe thead th {\n",
       "        text-align: right;\n",
       "    }\n",
       "</style>\n",
       "<table border=\"1\" class=\"dataframe\">\n",
       "  <thead>\n",
       "    <tr style=\"text-align: right;\">\n",
       "      <th></th>\n",
       "      <th>analysisVariable</th>\n",
       "      <th>alias</th>\n",
       "      <th>fieldCategory</th>\n",
       "      <th>vintage</th>\n",
       "    </tr>\n",
       "    <tr>\n",
       "      <th>dataCollectionID</th>\n",
       "      <th></th>\n",
       "      <th></th>\n",
       "      <th></th>\n",
       "      <th></th>\n",
       "    </tr>\n",
       "  </thead>\n",
       "  <tbody>\n",
       "    <tr>\n",
       "      <th>Age</th>\n",
       "      <td>Age.MALE0</td>\n",
       "      <td>2021 Males Age 0-4</td>\n",
       "      <td>2021 Age: 5 Year Increments (Esri)</td>\n",
       "      <td>2021</td>\n",
       "    </tr>\n",
       "    <tr>\n",
       "      <th>Age</th>\n",
       "      <td>Age.MALE5</td>\n",
       "      <td>2021 Males Age 5-9</td>\n",
       "      <td>2021 Age: 5 Year Increments (Esri)</td>\n",
       "      <td>2021</td>\n",
       "    </tr>\n",
       "    <tr>\n",
       "      <th>Age</th>\n",
       "      <td>Age.MALE10</td>\n",
       "      <td>2021 Males Age 10-14</td>\n",
       "      <td>2021 Age: 5 Year Increments (Esri)</td>\n",
       "      <td>2021</td>\n",
       "    </tr>\n",
       "    <tr>\n",
       "      <th>Age</th>\n",
       "      <td>Age.MALE15</td>\n",
       "      <td>2021 Males Age 15-19</td>\n",
       "      <td>2021 Age: 5 Year Increments (Esri)</td>\n",
       "      <td>2021</td>\n",
       "    </tr>\n",
       "    <tr>\n",
       "      <th>Age</th>\n",
       "      <td>Age.MALE20</td>\n",
       "      <td>2021 Males Age 20-24</td>\n",
       "      <td>2021 Age: 5 Year Increments (Esri)</td>\n",
       "      <td>2021</td>\n",
       "    </tr>\n",
       "    <tr>\n",
       "      <th>Age</th>\n",
       "      <td>Age.MALE25</td>\n",
       "      <td>2021 Males Age 25-29</td>\n",
       "      <td>2021 Age: 5 Year Increments (Esri)</td>\n",
       "      <td>2021</td>\n",
       "    </tr>\n",
       "    <tr>\n",
       "      <th>Age</th>\n",
       "      <td>Age.MALE30</td>\n",
       "      <td>2021 Males Age 30-34</td>\n",
       "      <td>2021 Age: 5 Year Increments (Esri)</td>\n",
       "      <td>2021</td>\n",
       "    </tr>\n",
       "    <tr>\n",
       "      <th>Age</th>\n",
       "      <td>Age.MALE35</td>\n",
       "      <td>2021 Males Age 35-39</td>\n",
       "      <td>2021 Age: 5 Year Increments (Esri)</td>\n",
       "      <td>2021</td>\n",
       "    </tr>\n",
       "    <tr>\n",
       "      <th>Age</th>\n",
       "      <td>Age.MALE40</td>\n",
       "      <td>2021 Males Age 40-44</td>\n",
       "      <td>2021 Age: 5 Year Increments (Esri)</td>\n",
       "      <td>2021</td>\n",
       "    </tr>\n",
       "    <tr>\n",
       "      <th>Age</th>\n",
       "      <td>Age.MALE45</td>\n",
       "      <td>2021 Males Age 45-49</td>\n",
       "      <td>2021 Age: 5 Year Increments (Esri)</td>\n",
       "      <td>2021</td>\n",
       "    </tr>\n",
       "    <tr>\n",
       "      <th>Age</th>\n",
       "      <td>Age.MALE50</td>\n",
       "      <td>2021 Males Age 50-54</td>\n",
       "      <td>2021 Age: 5 Year Increments (Esri)</td>\n",
       "      <td>2021</td>\n",
       "    </tr>\n",
       "    <tr>\n",
       "      <th>Age</th>\n",
       "      <td>Age.MALE55</td>\n",
       "      <td>2021 Males Age 55-59</td>\n",
       "      <td>2021 Age: 5 Year Increments (Esri)</td>\n",
       "      <td>2021</td>\n",
       "    </tr>\n",
       "    <tr>\n",
       "      <th>Age</th>\n",
       "      <td>Age.MALE60</td>\n",
       "      <td>2021 Males Age 60-64</td>\n",
       "      <td>2021 Age: 5 Year Increments (Esri)</td>\n",
       "      <td>2021</td>\n",
       "    </tr>\n",
       "    <tr>\n",
       "      <th>Age</th>\n",
       "      <td>Age.MALE65</td>\n",
       "      <td>2021 Males Age 65-69</td>\n",
       "      <td>2021 Age: 5 Year Increments (Esri)</td>\n",
       "      <td>2021</td>\n",
       "    </tr>\n",
       "    <tr>\n",
       "      <th>Age</th>\n",
       "      <td>Age.MALE70</td>\n",
       "      <td>2021 Males Age 70-74</td>\n",
       "      <td>2021 Age: 5 Year Increments (Esri)</td>\n",
       "      <td>2021</td>\n",
       "    </tr>\n",
       "    <tr>\n",
       "      <th>Age</th>\n",
       "      <td>Age.MALE75</td>\n",
       "      <td>2021 Males Age 75-79</td>\n",
       "      <td>2021 Age: 5 Year Increments (Esri)</td>\n",
       "      <td>2021</td>\n",
       "    </tr>\n",
       "    <tr>\n",
       "      <th>Age</th>\n",
       "      <td>Age.MALE80</td>\n",
       "      <td>2021 Males Age 80-84</td>\n",
       "      <td>2021 Age: 5 Year Increments (Esri)</td>\n",
       "      <td>2021</td>\n",
       "    </tr>\n",
       "    <tr>\n",
       "      <th>Age</th>\n",
       "      <td>Age.MALE85</td>\n",
       "      <td>2021 Males Age 85+</td>\n",
       "      <td>2021 Age: 5 Year Increments (Esri)</td>\n",
       "      <td>2021</td>\n",
       "    </tr>\n",
       "    <tr>\n",
       "      <th>Age</th>\n",
       "      <td>Age.FEM0</td>\n",
       "      <td>2021 Females Age 0-4</td>\n",
       "      <td>2021 Age: 5 Year Increments (Esri)</td>\n",
       "      <td>2021</td>\n",
       "    </tr>\n",
       "    <tr>\n",
       "      <th>Age</th>\n",
       "      <td>Age.FEM5</td>\n",
       "      <td>2021 Females Age 5-9</td>\n",
       "      <td>2021 Age: 5 Year Increments (Esri)</td>\n",
       "      <td>2021</td>\n",
       "    </tr>\n",
       "    <tr>\n",
       "      <th>Age</th>\n",
       "      <td>Age.FEM10</td>\n",
       "      <td>2021 Females Age 10-14</td>\n",
       "      <td>2021 Age: 5 Year Increments (Esri)</td>\n",
       "      <td>2021</td>\n",
       "    </tr>\n",
       "    <tr>\n",
       "      <th>Age</th>\n",
       "      <td>Age.FEM15</td>\n",
       "      <td>2021 Females Age 15-19</td>\n",
       "      <td>2021 Age: 5 Year Increments (Esri)</td>\n",
       "      <td>2021</td>\n",
       "    </tr>\n",
       "    <tr>\n",
       "      <th>Age</th>\n",
       "      <td>Age.FEM20</td>\n",
       "      <td>2021 Females Age 20-24</td>\n",
       "      <td>2021 Age: 5 Year Increments (Esri)</td>\n",
       "      <td>2021</td>\n",
       "    </tr>\n",
       "    <tr>\n",
       "      <th>Age</th>\n",
       "      <td>Age.FEM25</td>\n",
       "      <td>2021 Females Age 25-29</td>\n",
       "      <td>2021 Age: 5 Year Increments (Esri)</td>\n",
       "      <td>2021</td>\n",
       "    </tr>\n",
       "    <tr>\n",
       "      <th>Age</th>\n",
       "      <td>Age.FEM30</td>\n",
       "      <td>2021 Females Age 30-34</td>\n",
       "      <td>2021 Age: 5 Year Increments (Esri)</td>\n",
       "      <td>2021</td>\n",
       "    </tr>\n",
       "    <tr>\n",
       "      <th>Age</th>\n",
       "      <td>Age.FEM35</td>\n",
       "      <td>2021 Females Age 35-39</td>\n",
       "      <td>2021 Age: 5 Year Increments (Esri)</td>\n",
       "      <td>2021</td>\n",
       "    </tr>\n",
       "    <tr>\n",
       "      <th>Age</th>\n",
       "      <td>Age.FEM40</td>\n",
       "      <td>2021 Females Age 40-44</td>\n",
       "      <td>2021 Age: 5 Year Increments (Esri)</td>\n",
       "      <td>2021</td>\n",
       "    </tr>\n",
       "    <tr>\n",
       "      <th>Age</th>\n",
       "      <td>Age.FEM45</td>\n",
       "      <td>2021 Females Age 45-49</td>\n",
       "      <td>2021 Age: 5 Year Increments (Esri)</td>\n",
       "      <td>2021</td>\n",
       "    </tr>\n",
       "    <tr>\n",
       "      <th>Age</th>\n",
       "      <td>Age.FEM50</td>\n",
       "      <td>2021 Females Age 50-54</td>\n",
       "      <td>2021 Age: 5 Year Increments (Esri)</td>\n",
       "      <td>2021</td>\n",
       "    </tr>\n",
       "    <tr>\n",
       "      <th>Age</th>\n",
       "      <td>Age.FEM55</td>\n",
       "      <td>2021 Females Age 55-59</td>\n",
       "      <td>2021 Age: 5 Year Increments (Esri)</td>\n",
       "      <td>2021</td>\n",
       "    </tr>\n",
       "    <tr>\n",
       "      <th>Age</th>\n",
       "      <td>Age.FEM60</td>\n",
       "      <td>2021 Females Age 60-64</td>\n",
       "      <td>2021 Age: 5 Year Increments (Esri)</td>\n",
       "      <td>2021</td>\n",
       "    </tr>\n",
       "    <tr>\n",
       "      <th>Age</th>\n",
       "      <td>Age.FEM65</td>\n",
       "      <td>2021 Females Age 65-69</td>\n",
       "      <td>2021 Age: 5 Year Increments (Esri)</td>\n",
       "      <td>2021</td>\n",
       "    </tr>\n",
       "    <tr>\n",
       "      <th>Age</th>\n",
       "      <td>Age.FEM70</td>\n",
       "      <td>2021 Females Age 70-74</td>\n",
       "      <td>2021 Age: 5 Year Increments (Esri)</td>\n",
       "      <td>2021</td>\n",
       "    </tr>\n",
       "    <tr>\n",
       "      <th>Age</th>\n",
       "      <td>Age.FEM75</td>\n",
       "      <td>2021 Females Age 75-79</td>\n",
       "      <td>2021 Age: 5 Year Increments (Esri)</td>\n",
       "      <td>2021</td>\n",
       "    </tr>\n",
       "    <tr>\n",
       "      <th>Age</th>\n",
       "      <td>Age.FEM80</td>\n",
       "      <td>2021 Females Age 80-84</td>\n",
       "      <td>2021 Age: 5 Year Increments (Esri)</td>\n",
       "      <td>2021</td>\n",
       "    </tr>\n",
       "    <tr>\n",
       "      <th>Age</th>\n",
       "      <td>Age.FEM85</td>\n",
       "      <td>2021 Females Age 85+</td>\n",
       "      <td>2021 Age: 5 Year Increments (Esri)</td>\n",
       "      <td>2021</td>\n",
       "    </tr>\n",
       "  </tbody>\n",
       "</table>\n",
       "</div>"
      ],
      "text/plain": [
       "                 analysisVariable                   alias  \\\n",
       "dataCollectionID                                            \n",
       "Age                     Age.MALE0      2021 Males Age 0-4   \n",
       "Age                     Age.MALE5      2021 Males Age 5-9   \n",
       "Age                    Age.MALE10    2021 Males Age 10-14   \n",
       "Age                    Age.MALE15    2021 Males Age 15-19   \n",
       "Age                    Age.MALE20    2021 Males Age 20-24   \n",
       "Age                    Age.MALE25    2021 Males Age 25-29   \n",
       "Age                    Age.MALE30    2021 Males Age 30-34   \n",
       "Age                    Age.MALE35    2021 Males Age 35-39   \n",
       "Age                    Age.MALE40    2021 Males Age 40-44   \n",
       "Age                    Age.MALE45    2021 Males Age 45-49   \n",
       "Age                    Age.MALE50    2021 Males Age 50-54   \n",
       "Age                    Age.MALE55    2021 Males Age 55-59   \n",
       "Age                    Age.MALE60    2021 Males Age 60-64   \n",
       "Age                    Age.MALE65    2021 Males Age 65-69   \n",
       "Age                    Age.MALE70    2021 Males Age 70-74   \n",
       "Age                    Age.MALE75    2021 Males Age 75-79   \n",
       "Age                    Age.MALE80    2021 Males Age 80-84   \n",
       "Age                    Age.MALE85      2021 Males Age 85+   \n",
       "Age                      Age.FEM0    2021 Females Age 0-4   \n",
       "Age                      Age.FEM5    2021 Females Age 5-9   \n",
       "Age                     Age.FEM10  2021 Females Age 10-14   \n",
       "Age                     Age.FEM15  2021 Females Age 15-19   \n",
       "Age                     Age.FEM20  2021 Females Age 20-24   \n",
       "Age                     Age.FEM25  2021 Females Age 25-29   \n",
       "Age                     Age.FEM30  2021 Females Age 30-34   \n",
       "Age                     Age.FEM35  2021 Females Age 35-39   \n",
       "Age                     Age.FEM40  2021 Females Age 40-44   \n",
       "Age                     Age.FEM45  2021 Females Age 45-49   \n",
       "Age                     Age.FEM50  2021 Females Age 50-54   \n",
       "Age                     Age.FEM55  2021 Females Age 55-59   \n",
       "Age                     Age.FEM60  2021 Females Age 60-64   \n",
       "Age                     Age.FEM65  2021 Females Age 65-69   \n",
       "Age                     Age.FEM70  2021 Females Age 70-74   \n",
       "Age                     Age.FEM75  2021 Females Age 75-79   \n",
       "Age                     Age.FEM80  2021 Females Age 80-84   \n",
       "Age                     Age.FEM85    2021 Females Age 85+   \n",
       "\n",
       "                                       fieldCategory vintage  \n",
       "dataCollectionID                                              \n",
       "Age               2021 Age: 5 Year Increments (Esri)    2021  \n",
       "Age               2021 Age: 5 Year Increments (Esri)    2021  \n",
       "Age               2021 Age: 5 Year Increments (Esri)    2021  \n",
       "Age               2021 Age: 5 Year Increments (Esri)    2021  \n",
       "Age               2021 Age: 5 Year Increments (Esri)    2021  \n",
       "Age               2021 Age: 5 Year Increments (Esri)    2021  \n",
       "Age               2021 Age: 5 Year Increments (Esri)    2021  \n",
       "Age               2021 Age: 5 Year Increments (Esri)    2021  \n",
       "Age               2021 Age: 5 Year Increments (Esri)    2021  \n",
       "Age               2021 Age: 5 Year Increments (Esri)    2021  \n",
       "Age               2021 Age: 5 Year Increments (Esri)    2021  \n",
       "Age               2021 Age: 5 Year Increments (Esri)    2021  \n",
       "Age               2021 Age: 5 Year Increments (Esri)    2021  \n",
       "Age               2021 Age: 5 Year Increments (Esri)    2021  \n",
       "Age               2021 Age: 5 Year Increments (Esri)    2021  \n",
       "Age               2021 Age: 5 Year Increments (Esri)    2021  \n",
       "Age               2021 Age: 5 Year Increments (Esri)    2021  \n",
       "Age               2021 Age: 5 Year Increments (Esri)    2021  \n",
       "Age               2021 Age: 5 Year Increments (Esri)    2021  \n",
       "Age               2021 Age: 5 Year Increments (Esri)    2021  \n",
       "Age               2021 Age: 5 Year Increments (Esri)    2021  \n",
       "Age               2021 Age: 5 Year Increments (Esri)    2021  \n",
       "Age               2021 Age: 5 Year Increments (Esri)    2021  \n",
       "Age               2021 Age: 5 Year Increments (Esri)    2021  \n",
       "Age               2021 Age: 5 Year Increments (Esri)    2021  \n",
       "Age               2021 Age: 5 Year Increments (Esri)    2021  \n",
       "Age               2021 Age: 5 Year Increments (Esri)    2021  \n",
       "Age               2021 Age: 5 Year Increments (Esri)    2021  \n",
       "Age               2021 Age: 5 Year Increments (Esri)    2021  \n",
       "Age               2021 Age: 5 Year Increments (Esri)    2021  \n",
       "Age               2021 Age: 5 Year Increments (Esri)    2021  \n",
       "Age               2021 Age: 5 Year Increments (Esri)    2021  \n",
       "Age               2021 Age: 5 Year Increments (Esri)    2021  \n",
       "Age               2021 Age: 5 Year Increments (Esri)    2021  \n",
       "Age               2021 Age: 5 Year Increments (Esri)    2021  \n",
       "Age               2021 Age: 5 Year Increments (Esri)    2021  "
      ]
     },
     "execution_count": 13,
     "metadata": {},
     "output_type": "execute_result"
    }
   ],
   "source": [
    "# Query the Age data collection\n",
    "age_dc = data_frame.loc['Age']\n",
    "age_dc"
   ]
  },
  {
   "cell_type": "code",
   "execution_count": 14,
   "id": "61108d0c",
   "metadata": {},
   "outputs": [
    {
     "data": {
      "text/plain": [
       "array(['Age.MALE0', 'Age.MALE5', 'Age.MALE10', 'Age.MALE15', 'Age.MALE20',\n",
       "       'Age.MALE25', 'Age.MALE30', 'Age.MALE35', 'Age.MALE40',\n",
       "       'Age.MALE45', 'Age.MALE50', 'Age.MALE55', 'Age.MALE60',\n",
       "       'Age.MALE65', 'Age.MALE70', 'Age.MALE75', 'Age.MALE80',\n",
       "       'Age.MALE85', 'Age.FEM0', 'Age.FEM5', 'Age.FEM10', 'Age.FEM15',\n",
       "       'Age.FEM20', 'Age.FEM25', 'Age.FEM30', 'Age.FEM35', 'Age.FEM40',\n",
       "       'Age.FEM45', 'Age.FEM50', 'Age.FEM55', 'Age.FEM60', 'Age.FEM65',\n",
       "       'Age.FEM70', 'Age.FEM75', 'Age.FEM80', 'Age.FEM85'], dtype=object)"
      ]
     },
     "execution_count": 14,
     "metadata": {},
     "output_type": "execute_result"
    }
   ],
   "source": [
    "# Get all the unique analysisVariables under collection\n",
    "age_dc['analysisVariable'].unique()"
   ]
  },
  {
   "cell_type": "markdown",
   "id": "0c5d645d",
   "metadata": {},
   "source": [
    "### 5. Available reports\n",
    "\n",
    "**GeoEnrichment** also enables you to create many types of high quality **reports** for a variety of use cases describing the **input area**.\n",
    "\n",
    "The `reports` property of a `Country` object lists its available reports as a Pandas DataFrame. The report `id` is used as an input in the `create_report()` method to create reports."
   ]
  },
  {
   "cell_type": "code",
   "execution_count": 15,
   "id": "76f6ad15",
   "metadata": {},
   "outputs": [
    {
     "data": {
      "text/html": [
       "<div>\n",
       "<style scoped>\n",
       "    .dataframe tbody tr th:only-of-type {\n",
       "        vertical-align: middle;\n",
       "    }\n",
       "\n",
       "    .dataframe tbody tr th {\n",
       "        vertical-align: top;\n",
       "    }\n",
       "\n",
       "    .dataframe thead th {\n",
       "        text-align: right;\n",
       "    }\n",
       "</style>\n",
       "<table border=\"1\" class=\"dataframe\">\n",
       "  <thead>\n",
       "    <tr style=\"text-align: right;\">\n",
       "      <th></th>\n",
       "      <th>id</th>\n",
       "      <th>title</th>\n",
       "      <th>categories</th>\n",
       "      <th>formats</th>\n",
       "    </tr>\n",
       "  </thead>\n",
       "  <tbody>\n",
       "    <tr>\n",
       "      <th>0</th>\n",
       "      <td>census2010_profile</td>\n",
       "      <td>2010 Census Profile</td>\n",
       "      <td>[Demographics]</td>\n",
       "      <td>[pdf, xlsx]</td>\n",
       "    </tr>\n",
       "    <tr>\n",
       "      <th>1</th>\n",
       "      <td>acs_housing</td>\n",
       "      <td>ACS Housing Summary</td>\n",
       "      <td>[Demographics]</td>\n",
       "      <td>[pdf, xlsx]</td>\n",
       "    </tr>\n",
       "    <tr>\n",
       "      <th>2</th>\n",
       "      <td>acs_keyfacts</td>\n",
       "      <td>ACS Key Population &amp; Household Facts</td>\n",
       "      <td>[Demographics]</td>\n",
       "      <td>[pdf, xlsx]</td>\n",
       "    </tr>\n",
       "    <tr>\n",
       "      <th>3</th>\n",
       "      <td>acs_population</td>\n",
       "      <td>ACS Population Summary</td>\n",
       "      <td>[Demographics]</td>\n",
       "      <td>[pdf, xlsx]</td>\n",
       "    </tr>\n",
       "    <tr>\n",
       "      <th>4</th>\n",
       "      <td>55plus</td>\n",
       "      <td>Age 50+ Profile</td>\n",
       "      <td>[Demographics]</td>\n",
       "      <td>[pdf, xlsx]</td>\n",
       "    </tr>\n",
       "  </tbody>\n",
       "</table>\n",
       "</div>"
      ],
      "text/plain": [
       "                   id                                 title      categories  \\\n",
       "0  census2010_profile                   2010 Census Profile  [Demographics]   \n",
       "1         acs_housing                   ACS Housing Summary  [Demographics]   \n",
       "2        acs_keyfacts  ACS Key Population & Household Facts  [Demographics]   \n",
       "3      acs_population                ACS Population Summary  [Demographics]   \n",
       "4              55plus                       Age 50+ Profile  [Demographics]   \n",
       "\n",
       "       formats  \n",
       "0  [pdf, xlsx]  \n",
       "1  [pdf, xlsx]  \n",
       "2  [pdf, xlsx]  \n",
       "3  [pdf, xlsx]  \n",
       "4  [pdf, xlsx]  "
      ]
     },
     "execution_count": 15,
     "metadata": {},
     "output_type": "execute_result"
    }
   ],
   "source": [
    "# Print a sample of the reports, available for USA\n",
    "usa.reports.head(5)"
   ]
  },
  {
   "cell_type": "code",
   "execution_count": 16,
   "id": "f04074fa",
   "metadata": {},
   "outputs": [
    {
     "data": {
      "text/plain": [
       "(53, 4)"
      ]
     },
     "execution_count": 16,
     "metadata": {},
     "output_type": "execute_result"
    }
   ],
   "source": [
    "# Total number of reports available\n",
    "usa.reports.shape"
   ]
  },
  {
   "cell_type": "markdown",
   "id": "5e4ed742",
   "metadata": {},
   "source": [
    "### 6. Finding named statistical areas\n",
    "\n",
    "Each country has several **named statistical areas** in a hierarchy of geography levels (such as **states**, **counties**, **zip-codes**, etc).\n",
    "\n",
    "The `subgeographies` property of a country can be used to discover these standard geographic/statistical areas within that country.\n",
    "\n",
    "This information is available through a heirarchy of dynamic properties (like states, counties, tracts, zip-codes,...). Each such dynamic property reflects the geographical levels within that country, with subgeographies grouped logically under the higher levels of geographies. The properties are dictionaries containing the names of the standard geographic places and their values are instances of `NamedArea` class. The `NamedArea` objects can be used as **study areas** in the `enrich()` method."
   ]
  },
  {
   "cell_type": "markdown",
   "id": "b119257d",
   "metadata": {},
   "source": [
    "Note: Setting the `IPCompleter.greedy=True` configuration option in **Jupyter notebook** enables you to dynamically discover the various levels of subgeographies using intellisense, as in the example below."
   ]
  },
  {
   "cell_type": "code",
   "execution_count": 17,
   "id": "88044da1",
   "metadata": {},
   "outputs": [],
   "source": [
    "%config IPCompleter.greedy=True"
   ]
  },
  {
   "cell_type": "code",
   "execution_count": 18,
   "id": "eccdf6a1",
   "metadata": {
    "scrolled": true
   },
   "outputs": [
    {
     "name": "stdout",
     "output_type": "stream",
     "text": [
      "IPCompleter(Completer) options\n",
      "----------------------------\n",
      "IPCompleter.backslash_combining_completions=<Bool>\n",
      "    Enable unicode completions, e.g. \\alpha<tab> . Includes completion of latex\n",
      "    commands, unicode names, and expanding unicode characters back to latex\n",
      "    commands.\n",
      "    Current: True\n",
      "IPCompleter.debug=<Bool>\n",
      "    Enable debug for the Completer. Mostly print extra information for\n",
      "    experimental jedi integration.\n",
      "    Current: False\n",
      "IPCompleter.greedy=<Bool>\n",
      "    Activate greedy completion\n",
      "            PENDING DEPRECATION. this is now mostly taken care of with Jedi.\n",
      "            This will enable completion on elements of lists, results of function calls, etc.,\n",
      "            but can be unsafe because the code is actually evaluated on TAB.\n",
      "    Current: True\n",
      "IPCompleter.jedi_compute_type_timeout=<Int>\n",
      "    Experimental: restrict time (in milliseconds) during which Jedi can compute types.\n",
      "            Set to 0 to stop computing types. Non-zero value lower than 100ms may hurt\n",
      "            performance by preventing jedi to build its cache.\n",
      "    Current: 400\n",
      "IPCompleter.limit_to__all__=<Bool>\n",
      "    DEPRECATED as of version 5.0.\n",
      "    Instruct the completer to use __all__ for the completion\n",
      "    Specifically, when completing on ``object.<tab>``.\n",
      "    When True: only those names in obj.__all__ will be included.\n",
      "    When False [default]: the __all__ attribute is ignored\n",
      "    Current: False\n",
      "IPCompleter.merge_completions=<Bool>\n",
      "    Whether to merge completion results into a single list\n",
      "            If False, only the completion results from the first non-empty\n",
      "            completer will be returned.\n",
      "    Current: True\n",
      "IPCompleter.omit__names=<Enum>\n",
      "    Instruct the completer to omit private method names\n",
      "            Specifically, when completing on ``object.<tab>``.\n",
      "            When 2 [default]: all names that start with '_' will be excluded.\n",
      "            When 1: all 'magic' names (``__foo__``) will be excluded.\n",
      "            When 0: nothing will be excluded.\n",
      "    Choices: any of [0, 1, 2]\n",
      "    Current: 2\n",
      "IPCompleter.profile_completions=<Bool>\n",
      "    If True, emit profiling data for completion subsystem using cProfile.\n",
      "    Current: False\n",
      "IPCompleter.profiler_output_dir=<Unicode>\n",
      "    Template for path at which to output profile data for completions.\n",
      "    Current: '.completion_profiles'\n",
      "IPCompleter.use_jedi=<Bool>\n",
      "    Experimental: Use Jedi to generate autocompletions. Default to True if jedi\n",
      "    is installed.\n",
      "    Current: True\n"
     ]
    }
   ],
   "source": [
    "%config IPCompleter"
   ]
  },
  {
   "cell_type": "code",
   "execution_count": 19,
   "id": "2463e3c6",
   "metadata": {},
   "outputs": [
    {
     "data": {
      "text/plain": [
       "True"
      ]
     },
     "execution_count": 19,
     "metadata": {},
     "output_type": "execute_result"
    }
   ],
   "source": [
    "%config IPCompleter.greedy"
   ]
  },
  {
   "cell_type": "code",
   "execution_count": 21,
   "id": "509f4f26",
   "metadata": {},
   "outputs": [
    {
     "data": {
      "text/plain": [
       "<NamedArea name:\"147\" area_id=\"01\", level=\"US.WholeUSA\", country=\"147\">"
      ]
     },
     "execution_count": 21,
     "metadata": {},
     "output_type": "execute_result"
    }
   ],
   "source": [
    "named_area_usa = usa.subgeographies\n",
    "named_area_usa"
   ]
  },
  {
   "cell_type": "code",
   "execution_count": 22,
   "id": "a025ae40",
   "metadata": {
    "scrolled": true
   },
   "outputs": [
    {
     "data": {
      "text/plain": [
       "<NamedArea name:\"California\" area_id=\"06\", level=\"US.States\", country=\"147\">"
      ]
     },
     "execution_count": 22,
     "metadata": {},
     "output_type": "execute_result"
    }
   ],
   "source": [
    "named_area_usa.states['California']"
   ]
  },
  {
   "cell_type": "code",
   "execution_count": 23,
   "id": "383d6932",
   "metadata": {
    "scrolled": false
   },
   "outputs": [
    {
     "data": {
      "text/plain": [
       "<NamedArea name:\"San Bernardino County\" area_id=\"06071\", level=\"US.Counties\", country=\"147\">"
      ]
     },
     "execution_count": 23,
     "metadata": {},
     "output_type": "execute_result"
    }
   ],
   "source": [
    "named_area_usa.states['California'].counties['San_Bernardino_County']"
   ]
  },
  {
   "cell_type": "code",
   "execution_count": 24,
   "id": "fa8450b7",
   "metadata": {},
   "outputs": [
    {
     "data": {
      "text/plain": [
       "<NamedArea name:\"060710001.03\" area_id=\"06071000103\", level=\"US.Tracts\", country=\"147\">"
      ]
     },
     "execution_count": 24,
     "metadata": {},
     "output_type": "execute_result"
    }
   ],
   "source": [
    "named_area_usa.states['California'].counties['San_Bernardino_County'].tracts['060710001.03']"
   ]
  },
  {
   "cell_type": "code",
   "execution_count": 25,
   "id": "26f768f3",
   "metadata": {},
   "outputs": [
    {
     "data": {
      "text/plain": [
       "<NamedArea name:\"Redlands\" area_id=\"92373\", level=\"US.ZIP5\", country=\"147\">"
      ]
     },
     "execution_count": 25,
     "metadata": {},
     "output_type": "execute_result"
    }
   ],
   "source": [
    "usa.subgeographies.states['California'].zip5['92373']"
   ]
  },
  {
   "cell_type": "markdown",
   "id": "eb802585",
   "metadata": {},
   "source": [
    "**The named areas can also be drawn on a map, as they include a `geometry` property:**"
   ]
  },
  {
   "cell_type": "code",
   "execution_count": 105,
   "id": "33c4bafe",
   "metadata": {
    "scrolled": false
   },
   "outputs": [
    {
     "data": {
      "application/vnd.jupyter.widget-view+json": {
       "model_id": "3dddaac2e1844b4f85c4e0884f4432e8",
       "version_major": 2,
       "version_minor": 0
      },
      "text/plain": [
       "MapView(layout=Layout(height='400px', width='100%'))"
      ]
     },
     "metadata": {},
     "output_type": "display_data"
    },
    {
     "data": {
      "text/html": [
       "<div class=\"map-static-img-preview-abe402e1-7636-495c-929a-127f40fdd468\"><img src=\"\"></img></div>"
      ],
      "text/plain": [
       "<IPython.core.display.HTML object>"
      ]
     },
     "metadata": {},
     "output_type": "display_data"
    },
    {
     "data": {
      "text/html": [
       "<div class=\"map-html-embed-preview-abe402e1-7636-495c-929a-127f40fdd468\"></div>"
      ],
      "text/plain": [
       "<IPython.core.display.HTML object>"
      ]
     },
     "metadata": {},
     "output_type": "display_data"
    }
   ],
   "source": [
    "redlands = gis.map('Redlands, CA', zoomlevel=12)\n",
    "redlands"
   ]
  },
  {
   "cell_type": "code",
   "execution_count": 34,
   "id": "f7f4301d",
   "metadata": {},
   "outputs": [],
   "source": [
    "# Draw a subgeography on the map above\n",
    "redlands.draw(usa.subgeographies.states['California'].zip5['92373'].geometry)"
   ]
  },
  {
   "cell_type": "code",
   "execution_count": 104,
   "id": "b79fe2d9",
   "metadata": {
    "scrolled": false
   },
   "outputs": [
    {
     "data": {
      "application/vnd.jupyter.widget-view+json": {
       "model_id": "e1b6fbdf5336497aab7855d386eb5512",
       "version_major": 2,
       "version_minor": 0
      },
      "text/plain": [
       "MapView(layout=Layout(height='400px', width='100%'))"
      ]
     },
     "metadata": {},
     "output_type": "display_data"
    },
    {
     "data": {
      "text/html": [
       "<div class=\"map-static-img-preview-7b7dfed8-93c1-4570-944f-1c2908231451\"><img src=\"\"></img></div>"
      ],
      "text/plain": [
       "<IPython.core.display.HTML object>"
      ]
     },
     "metadata": {},
     "output_type": "display_data"
    },
    {
     "data": {
      "text/html": [
       "<div class=\"map-html-embed-preview-7b7dfed8-93c1-4570-944f-1c2908231451\"></div>"
      ],
      "text/plain": [
       "<IPython.core.display.HTML object>"
      ]
     },
     "metadata": {},
     "output_type": "display_data"
    }
   ],
   "source": [
    "india_map = gis.map('India', zoomlevel=5)\n",
    "india_map"
   ]
  },
  {
   "cell_type": "code",
   "execution_count": 56,
   "id": "ac47755c",
   "metadata": {},
   "outputs": [],
   "source": [
    "india = Country.get('India')"
   ]
  },
  {
   "cell_type": "code",
   "execution_count": 57,
   "id": "ee7c5c07",
   "metadata": {},
   "outputs": [
    {
     "data": {
      "text/plain": [
       "['IND_MBR_2020']"
      ]
     },
     "execution_count": 57,
     "metadata": {},
     "output_type": "execute_result"
    }
   ],
   "source": [
    "# Print the available datasets\n",
    "india.properties.datasets"
   ]
  },
  {
   "cell_type": "code",
   "execution_count": 58,
   "id": "29b0a33a",
   "metadata": {},
   "outputs": [
    {
     "data": {
      "text/plain": [
       "'IND_MBR_2020'"
      ]
     },
     "execution_count": 58,
     "metadata": {},
     "output_type": "execute_result"
    }
   ],
   "source": [
    "# View the current dataset of the country\n",
    "india.dataset"
   ]
  },
  {
   "cell_type": "code",
   "execution_count": 65,
   "id": "9b0df8cb",
   "metadata": {},
   "outputs": [
    {
     "data": {
      "text/plain": [
       "<NamedArea name:\"Baraut\" area_id=\"0913900735\", level=\"IN.Subdistricts\", country=\"63\">"
      ]
     },
     "execution_count": 65,
     "metadata": {},
     "output_type": "execute_result"
    }
   ],
   "source": [
    "# Inspect the various subgeographies\n",
    "india.subgeographies.states['Uttar_Pradesh'].districts['Baghpat'].subdistricts['Baraut']"
   ]
  },
  {
   "cell_type": "markdown",
   "id": "d20c3898",
   "metadata": {},
   "source": [
    "### 7. Searching for named areas within a country"
   ]
  },
  {
   "cell_type": "code",
   "execution_count": 86,
   "id": "ad5940ef",
   "metadata": {},
   "outputs": [
    {
     "name": "stdout",
     "output_type": "stream",
     "text": [
      "Number of riversides in USA: 147\n"
     ]
    }
   ],
   "source": [
    "riversides_in_usa = usa.search('Riverside')\n",
    "print(\"Number of riversides in USA: \" + str(len(riversides_in_usa)))"
   ]
  },
  {
   "cell_type": "code",
   "execution_count": 91,
   "id": "7557cdae",
   "metadata": {},
   "outputs": [
    {
     "data": {
      "text/plain": [
       "[<NamedArea name:\"Riverside\" area_id=\"147435\", level=\"Cities\", country=\"147\">,\n",
       " <NamedArea name:\"Riverside\" area_id=\"147436\", level=\"Cities\", country=\"147\">,\n",
       " <NamedArea name:\"Riverside\" area_id=\"147437\", level=\"Cities\", country=\"147\">,\n",
       " <NamedArea name:\"Riverside\" area_id=\"147438\", level=\"Cities\", country=\"147\">,\n",
       " <NamedArea name:\"Riverside\" area_id=\"147439\", level=\"Cities\", country=\"147\">]"
      ]
     },
     "execution_count": 91,
     "metadata": {},
     "output_type": "execute_result"
    }
   ],
   "source": [
    "# List a few of them\n",
    "riversides_in_usa[:5]"
   ]
  },
  {
   "cell_type": "markdown",
   "id": "4a05aa9d",
   "metadata": {},
   "source": [
    "**You can make a map of all the riversides in the US:**"
   ]
  },
  {
   "cell_type": "code",
   "execution_count": 94,
   "id": "aa23460a",
   "metadata": {
    "scrolled": false
   },
   "outputs": [
    {
     "data": {
      "application/vnd.jupyter.widget-view+json": {
       "model_id": "8585e475fb5641ab84758f424f5cd850",
       "version_major": 2,
       "version_minor": 0
      },
      "text/plain": [
       "MapView(layout=Layout(height='400px', width='100%'))"
      ]
     },
     "metadata": {},
     "output_type": "display_data"
    },
    {
     "data": {
      "text/html": [
       "<div class=\"map-static-img-preview-9590e244-761f-47d7-9a7e-8992beb260f9\"><img src=\"\"></img></div>"
      ],
      "text/plain": [
       "<IPython.core.display.HTML object>"
      ]
     },
     "metadata": {},
     "output_type": "display_data"
    },
    {
     "data": {
      "text/html": [
       "<div class=\"map-html-embed-preview-9590e244-761f-47d7-9a7e-8992beb260f9\"></div>"
      ],
      "text/plain": [
       "<IPython.core.display.HTML object>"
      ]
     },
     "metadata": {},
     "output_type": "display_data"
    }
   ],
   "source": [
    "usa_map = gis.map('United States', zoomlevel=4)\n",
    "usa_map"
   ]
  },
  {
   "cell_type": "code",
   "execution_count": 95,
   "id": "d10f9b04",
   "metadata": {},
   "outputs": [],
   "source": [
    "# Draw on the map above\n",
    "for riverside in riversides_in_usa:\n",
    "    usa_map.draw(riverside.geometry)"
   ]
  },
  {
   "cell_type": "markdown",
   "id": "8cd652f7",
   "metadata": {},
   "source": [
    "**Filtering named areas by geography level:**"
   ]
  },
  {
   "cell_type": "code",
   "execution_count": 97,
   "id": "85b180d8",
   "metadata": {
    "scrolled": true
   },
   "outputs": [
    {
     "data": {
      "text/plain": [
       "[{'id': 'US.WholeUSA',\n",
       "  'name': 'Entire Country',\n",
       "  'isWholeCountry': True,\n",
       "  'adminLevel': 'Admin1',\n",
       "  'singularName': 'United States of America',\n",
       "  'pluralName': 'United States of America',\n",
       "  'defaultGeneralizationLevel': 6},\n",
       " {'id': 'US.States',\n",
       "  'name': 'States',\n",
       "  'isWholeCountry': False,\n",
       "  'adminLevel': 'Admin2',\n",
       "  'singularName': 'State',\n",
       "  'pluralName': 'States',\n",
       "  'defaultGeneralizationLevel': 5},\n",
       " {'id': 'US.DMA',\n",
       "  'name': 'DMAs',\n",
       "  'isWholeCountry': False,\n",
       "  'adminLevel': '',\n",
       "  'singularName': 'DMA',\n",
       "  'pluralName': 'DMAs',\n",
       "  'description': 'A Designated Market Area (DMA), also referred to as a media market, is a region of the United States that is used to define television and radio markets. DMAs are determined by the Nielsen Company and are usually defined based on metropolitan areas, with suburbs often being combined within. Esri creates these boundaries by dissolving the TIGER 2019 Block Groups with Esri modified Shoreline.',\n",
       "  'defaultGeneralizationLevel': 2},\n",
       " {'id': 'US.CD',\n",
       "  'name': 'Congressional Districts',\n",
       "  'isWholeCountry': False,\n",
       "  'adminLevel': '',\n",
       "  'singularName': 'Congressional District',\n",
       "  'pluralName': 'Congressional Districts',\n",
       "  'defaultGeneralizationLevel': 2},\n",
       " {'id': 'US.CBSA',\n",
       "  'name': 'CBSAs',\n",
       "  'isWholeCountry': False,\n",
       "  'adminLevel': '',\n",
       "  'singularName': 'CBSA',\n",
       "  'pluralName': 'CBSAs',\n",
       "  'description': 'Core-Based Statistical Areas (CBSAs) are comprised of Metropolitan and Micropolitan Statistical Areas. Metropolitan statistical areas have at least one urbanized area of 50,000 or more population and Micropolitan statistical areas have at least one urban cluster of at least 10,000 but less than 50,000 population. CBSAs are defined by the Office of Management and Budget (OMB) and are comprised of whole counties and Esri created these boundaries by dissolving the TIGER 2019 County Boundaries with Esri modified shoreline.',\n",
       "  'defaultGeneralizationLevel': 2},\n",
       " {'id': 'US.Counties',\n",
       "  'name': 'Counties',\n",
       "  'isWholeCountry': False,\n",
       "  'adminLevel': 'Admin3',\n",
       "  'singularName': 'County',\n",
       "  'pluralName': 'Counties',\n",
       "  'defaultGeneralizationLevel': 0},\n",
       " {'id': 'US.CSD',\n",
       "  'name': 'County Subdivisions',\n",
       "  'isWholeCountry': False,\n",
       "  'adminLevel': '',\n",
       "  'singularName': 'County Subdivision',\n",
       "  'pluralName': 'County Subdivisions',\n",
       "  'minScale': 1155581,\n",
       "  'defaultGeneralizationLevel': 0},\n",
       " {'id': 'US.ZIP5',\n",
       "  'name': 'ZIP Codes',\n",
       "  'isWholeCountry': False,\n",
       "  'adminLevel': 'Admin4',\n",
       "  'singularName': 'ZIP Code',\n",
       "  'pluralName': 'ZIP Codes',\n",
       "  'minScale': 1155581,\n",
       "  'defaultGeneralizationLevel': 0},\n",
       " {'id': 'US.Places',\n",
       "  'name': 'Cities and Towns (Places)',\n",
       "  'isWholeCountry': False,\n",
       "  'adminLevel': '',\n",
       "  'singularName': 'Place',\n",
       "  'pluralName': 'Places',\n",
       "  'minScale': 2311162,\n",
       "  'defaultGeneralizationLevel': 0},\n",
       " {'id': 'US.Tracts',\n",
       "  'name': 'Census Tracts',\n",
       "  'isWholeCountry': False,\n",
       "  'adminLevel': '',\n",
       "  'singularName': 'Census Tract',\n",
       "  'pluralName': 'Census Tracts',\n",
       "  'minScale': 1155581,\n",
       "  'defaultGeneralizationLevel': 0},\n",
       " {'id': 'US.BlockGroups',\n",
       "  'name': 'Block Groups',\n",
       "  'isWholeCountry': False,\n",
       "  'adminLevel': '',\n",
       "  'singularName': 'Block Group',\n",
       "  'pluralName': 'Block Groups',\n",
       "  'minScale': 288895,\n",
       "  'defaultGeneralizationLevel': 0}]"
      ]
     },
     "execution_count": 97,
     "metadata": {},
     "output_type": "execute_result"
    }
   ],
   "source": [
    "usa_levels = [level for level in usa.levels]\n",
    "usa_levels"
   ]
  },
  {
   "cell_type": "code",
   "execution_count": 99,
   "id": "32b745ec",
   "metadata": {},
   "outputs": [
    {
     "data": {
      "text/plain": [
       "['US.WholeUSA',\n",
       " 'US.States',\n",
       " 'US.DMA',\n",
       " 'US.CD',\n",
       " 'US.CBSA',\n",
       " 'US.Counties',\n",
       " 'US.CSD',\n",
       " 'US.ZIP5',\n",
       " 'US.Places',\n",
       " 'US.Tracts',\n",
       " 'US.BlockGroups']"
      ]
     },
     "execution_count": 99,
     "metadata": {},
     "output_type": "execute_result"
    }
   ],
   "source": [
    "usa_levels_ids = [level['id'] for level in usa.levels]\n",
    "usa_levels_ids"
   ]
  },
  {
   "cell_type": "code",
   "execution_count": 101,
   "id": "168f8b58",
   "metadata": {},
   "outputs": [
    {
     "data": {
      "text/plain": [
       "[<NamedArea name:\"Riverside County\" area_id=\"06065\", level=\"US.Counties\", country=\"147\">]"
      ]
     },
     "execution_count": 101,
     "metadata": {},
     "output_type": "execute_result"
    }
   ],
   "source": [
    "usa.search(query='Riverside', layers=['US.Counties'])"
   ]
  },
  {
   "cell_type": "code",
   "execution_count": null,
   "id": "9b91b662",
   "metadata": {},
   "outputs": [],
   "source": []
  }
 ],
 "metadata": {
  "kernelspec": {
   "display_name": "Python 3 (ipykernel)",
   "language": "python",
   "name": "python3"
  },
  "language_info": {
   "codemirror_mode": {
    "name": "ipython",
    "version": 3
   },
   "file_extension": ".py",
   "mimetype": "text/x-python",
   "name": "python",
   "nbconvert_exporter": "python",
   "pygments_lexer": "ipython3",
   "version": "3.8.10"
  }
 },
 "nbformat": 4,
 "nbformat_minor": 5
}
