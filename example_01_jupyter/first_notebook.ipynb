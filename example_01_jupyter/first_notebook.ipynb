{
 "cells": [
  {
   "cell_type": "markdown",
   "id": "1d454d7e",
   "metadata": {},
   "source": [
    "# Знакомство с Jupyter Notebook"
   ]
  },
  {
   "cell_type": "markdown",
   "id": "f3a5db48",
   "metadata": {},
   "source": [
    "### 1. Current working directory"
   ]
  },
  {
   "cell_type": "code",
   "execution_count": 1,
   "id": "8a494f25",
   "metadata": {},
   "outputs": [
    {
     "data": {
      "text/plain": [
       "'C:\\\\Users\\\\alexw\\\\Desktop\\\\_MY_FILES\\\\jupyter\\\\example_01'"
      ]
     },
     "execution_count": 1,
     "metadata": {},
     "output_type": "execute_result"
    }
   ],
   "source": [
    "import os # подключаем библиотеку для взаимодействия с ОС\n",
    "os.getcwd() # узнать текущую рабочую папку"
   ]
  },
  {
   "cell_type": "markdown",
   "id": "2d0d7e31",
   "metadata": {},
   "source": [
    "### 2. Простые операции"
   ]
  },
  {
   "cell_type": "code",
   "execution_count": 2,
   "id": "df4844f1",
   "metadata": {},
   "outputs": [],
   "source": [
    "a = 3\n",
    "b = 5\n",
    "c = a + b"
   ]
  },
  {
   "cell_type": "code",
   "execution_count": 3,
   "id": "89b1ab03",
   "metadata": {
    "scrolled": true
   },
   "outputs": [
    {
     "name": "stdout",
     "output_type": "stream",
     "text": [
      "8\n"
     ]
    }
   ],
   "source": [
    "print(c)"
   ]
  },
  {
   "cell_type": "markdown",
   "id": "db373029",
   "metadata": {},
   "source": [
    "Если код работает долго, то можно воспользоваться командой **Прервать работу ядра**. В итоге упадёт с ошибкой **KeyboardInterrupt**. Пример:"
   ]
  },
  {
   "cell_type": "code",
   "execution_count": 4,
   "id": "73a7e5e8",
   "metadata": {
    "scrolled": true
   },
   "outputs": [
    {
     "name": "stdout",
     "output_type": "stream",
     "text": [
      "The number is: 0\n",
      "The number is: 1\n",
      "The number is: 2\n",
      "The number is: 3\n",
      "The number is: 4\n",
      "The number is: 5\n",
      "The number is: 6\n",
      "The number is: 7\n",
      "The number is: 8\n",
      "The number is: 9\n"
     ]
    }
   ],
   "source": [
    "import time\n",
    "\n",
    "for i in range (10):\n",
    "    time.sleep(0.5) # пауза в пол секунды\n",
    "    print('The number is:', i)"
   ]
  },
  {
   "cell_type": "code",
   "execution_count": 5,
   "id": "a1c4f0bc",
   "metadata": {},
   "outputs": [
    {
     "data": {
      "text/plain": [
       "30"
      ]
     },
     "execution_count": 5,
     "metadata": {},
     "output_type": "execute_result"
    }
   ],
   "source": [
    "# Переменная была определена ранее\n",
    "a *= 10\n",
    "a\n",
    "\n"
   ]
  },
  {
   "cell_type": "markdown",
   "id": "5ce3d79a",
   "metadata": {},
   "source": [
    "### 3. Графики"
   ]
  },
  {
   "cell_type": "code",
   "execution_count": 6,
   "id": "2fe55b36",
   "metadata": {},
   "outputs": [],
   "source": [
    "# Библиотека для вывода различных графиков\n",
    "import matplotlib.pyplot as plt"
   ]
  },
  {
   "cell_type": "code",
   "execution_count": 7,
   "id": "61827169",
   "metadata": {},
   "outputs": [],
   "source": [
    "# Зададим координаты\n",
    "x = [-2, -1, 0, 1, 2]\n",
    "y = [4, 1, 0, 1, 4]"
   ]
  },
  {
   "cell_type": "code",
   "execution_count": 8,
   "id": "91ddad5e",
   "metadata": {},
   "outputs": [
    {
     "data": {
      "text/plain": [
       "[<matplotlib.lines.Line2D at 0x1a6c1967fa0>]"
      ]
     },
     "execution_count": 8,
     "metadata": {},
     "output_type": "execute_result"
    },
    {
     "data": {
      "image/png": "[encoded data removed]",
      "text/plain": [
       "<Figure size 432x288 with 1 Axes>"
      ]
     },
     "metadata": {
      "needs_background": "light"
     },
     "output_type": "display_data"
    }
   ],
   "source": [
    "# Нарисуем график\n",
    "plt.plot(x, y)"
   ]
  },
  {
   "cell_type": "markdown",
   "id": "7843ab05",
   "metadata": {},
   "source": [
    "### 4. Консольные команды"
   ]
  },
  {
   "cell_type": "code",
   "execution_count": 9,
   "id": "f35d9fff",
   "metadata": {},
   "outputs": [
    {
     "name": "stdout",
     "output_type": "stream",
     "text": [
      "Active code page: 65001\n",
      "\n",
      "Pinging www.google.com [74.125.131.105] with 32 bytes of data:\n",
      "Reply from 74.125.131.105: bytes=32 time=52ms TTL=127\n",
      "Reply from 74.125.131.105: bytes=32 time=53ms TTL=127\n",
      "Reply from 74.125.131.105: bytes=32 time=52ms TTL=127\n",
      "Reply from 74.125.131.105: bytes=32 time=53ms TTL=127\n",
      "\n",
      "Ping statistics for 74.125.131.105:\n",
      "    Packets: Sent = 4, Received = 4, Lost = 0 (0% loss),\n",
      "Approximate round trip times in milli-seconds:\n",
      "    Minimum = 52ms, Maximum = 53ms, Average = 52ms\n"
     ]
    }
   ],
   "source": [
    "# Можно вводить консольные команды (для этого используем восклицательный знак)\n",
    "! chcp 65001\n",
    "! ping www.google.com"
   ]
  },
  {
   "cell_type": "markdown",
   "id": "26865300",
   "metadata": {},
   "source": [
    "### 5. Работа с Markdown"
   ]
  },
  {
   "cell_type": "markdown",
   "id": "fe424431",
   "metadata": {},
   "source": [
    "Обычный текст  \n",
    "**Жирный текст**  \n",
    "*Курсивный текст*"
   ]
  },
  {
   "cell_type": "markdown",
   "id": "9b420c42",
   "metadata": {},
   "source": [
    "Список:\n",
    "- один\n",
    "- два\n",
    "- три\n",
    "- четыри"
   ]
  },
  {
   "cell_type": "markdown",
   "id": "eb9b11bf",
   "metadata": {},
   "source": [
    "Вывод кода:\n",
    "\n",
    "```python\n",
    "print('Hello World')\n",
    "```\n"
   ]
  },
  {
   "cell_type": "markdown",
   "id": "96bb7692",
   "metadata": {},
   "source": [
    "Вывод таблицы:\n",
    "\n",
    "| variable | value |\n",
    "|----------|-------|\n",
    "|    x     |   3   |\n",
    "|    y     |   52  |\n",
    "|    z     |   -12 |"
   ]
  },
  {
   "cell_type": "markdown",
   "id": "c05ecd79",
   "metadata": {},
   "source": [
    "Вставка картинки:\n",
    "\n",
    "<img src='https://lifewithdata.com/wp-content/uploads/2022/03/python_logo-22.png' />"
   ]
  },
  {
   "cell_type": "markdown",
   "id": "0767b077",
   "metadata": {},
   "source": [
    "Формула на LaTeX:\n",
    "\n",
    "\\begin{equation}\n",
    "\\begin{split} \\Psi = & \\cos kz + i\\sin kz + \\frac{f(\\theta)}{r} (\\cos kr + i\\sin kr) \\end{split}\n",
    "\\end{equation}\n",
    "  "
   ]
  },
  {
   "cell_type": "markdown",
   "id": "bd356af0",
   "metadata": {},
   "source": [
    "### 6. Вызов своей написанной функции"
   ]
  },
  {
   "cell_type": "code",
   "execution_count": 10,
   "id": "b59c599e",
   "metadata": {},
   "outputs": [],
   "source": [
    "import my_script"
   ]
  },
  {
   "cell_type": "code",
   "execution_count": 11,
   "id": "a401805b",
   "metadata": {},
   "outputs": [
    {
     "data": {
      "text/plain": [
       "25"
      ]
     },
     "execution_count": 11,
     "metadata": {},
     "output_type": "execute_result"
    }
   ],
   "source": [
    "my_script.square(5)"
   ]
  },
  {
   "cell_type": "code",
   "execution_count": null,
   "id": "6ed35b04",
   "metadata": {},
   "outputs": [],
   "source": []
  }
 ],
 "metadata": {
  "kernelspec": {
   "display_name": "Python 3 (ipykernel)",
   "language": "python",
   "name": "python3"
  },
  "language_info": {
   "codemirror_mode": {
    "name": "ipython",
    "version": 3
   },
   "file_extension": ".py",
   "mimetype": "text/x-python",
   "name": "python",
   "nbconvert_exporter": "python",
   "pygments_lexer": "ipython3",
   "version": "3.8.10"
  }
 },
 "nbformat": 4,
 "nbformat_minor": 5
}
