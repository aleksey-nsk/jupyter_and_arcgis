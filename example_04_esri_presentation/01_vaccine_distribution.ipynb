{
 "cells": [
  {
   "cell_type": "markdown",
   "metadata": {},
   "source": [
    "## Getting Started"
   ]
  },
  {
   "cell_type": "code",
   "execution_count": 1,
   "metadata": {},
   "outputs": [],
   "source": [
    "import pandas as pd\n",
    "from arcgis.gis import GIS\n",
    "from arcgis.geoenrichment import enrich\n",
    "from arcgis.features import FeatureSet"
   ]
  },
  {
   "cell_type": "code",
   "execution_count": 37,
   "metadata": {},
   "outputs": [],
   "source": [
    "gis = GIS(api_key=\"AAPK6ee8947e8f9549d0ada59f3e054f57e2fs3A0lQeIqocbpFkvx1hDM0cgFXyKXef3hmZNzOEwh79qVXTWqLFIbVAUjpGlPQ7\")"
   ]
  },
  {
   "cell_type": "markdown",
   "metadata": {},
   "source": [
    "## StudyAreas"
   ]
  },
  {
   "cell_type": "code",
   "execution_count": 8,
   "metadata": {
    "scrolled": true
   },
   "outputs": [
    {
     "data": {
      "text/html": [
       "<div>\n",
       "<style scoped>\n",
       "    .dataframe tbody tr th:only-of-type {\n",
       "        vertical-align: middle;\n",
       "    }\n",
       "\n",
       "    .dataframe tbody tr th {\n",
       "        vertical-align: top;\n",
       "    }\n",
       "\n",
       "    .dataframe thead th {\n",
       "        text-align: right;\n",
       "    }\n",
       "</style>\n",
       "<table border=\"1\" class=\"dataframe\">\n",
       "  <thead>\n",
       "    <tr style=\"text-align: right;\">\n",
       "      <th></th>\n",
       "      <th>Business Name</th>\n",
       "      <th>Address</th>\n",
       "      <th>City</th>\n",
       "      <th>State</th>\n",
       "      <th>ZIP</th>\n",
       "    </tr>\n",
       "  </thead>\n",
       "  <tbody>\n",
       "    <tr>\n",
       "      <th>0</th>\n",
       "      <td>CVS</td>\n",
       "      <td>11051 Victory Blvd</td>\n",
       "      <td>North Hollywood</td>\n",
       "      <td>CA</td>\n",
       "      <td>91606</td>\n",
       "    </tr>\n",
       "    <tr>\n",
       "      <th>1</th>\n",
       "      <td>CVS</td>\n",
       "      <td>864 Swarthmore Ave</td>\n",
       "      <td>Pacific Palisades</td>\n",
       "      <td>CA</td>\n",
       "      <td>90272</td>\n",
       "    </tr>\n",
       "    <tr>\n",
       "      <th>2</th>\n",
       "      <td>CVS</td>\n",
       "      <td>15614 Whittwood Ln</td>\n",
       "      <td>Whittier</td>\n",
       "      <td>CA</td>\n",
       "      <td>90603</td>\n",
       "    </tr>\n",
       "    <tr>\n",
       "      <th>3</th>\n",
       "      <td>CVS</td>\n",
       "      <td>1025 E Adams Blvd</td>\n",
       "      <td>Los Angeles</td>\n",
       "      <td>CA</td>\n",
       "      <td>90011</td>\n",
       "    </tr>\n",
       "    <tr>\n",
       "      <th>4</th>\n",
       "      <td>CVS</td>\n",
       "      <td>4235 Pacific Coast Hwy</td>\n",
       "      <td>Torrance</td>\n",
       "      <td>CA</td>\n",
       "      <td>90505</td>\n",
       "    </tr>\n",
       "    <tr>\n",
       "      <th>...</th>\n",
       "      <td>...</td>\n",
       "      <td>...</td>\n",
       "      <td>...</td>\n",
       "      <td>...</td>\n",
       "      <td>...</td>\n",
       "    </tr>\n",
       "    <tr>\n",
       "      <th>489</th>\n",
       "      <td>CVS</td>\n",
       "      <td>25601 Jeronimo Rd</td>\n",
       "      <td>Mission Viejo</td>\n",
       "      <td>CA</td>\n",
       "      <td>92691</td>\n",
       "    </tr>\n",
       "    <tr>\n",
       "      <th>490</th>\n",
       "      <td>CVS</td>\n",
       "      <td>4040 E Chapman Ave</td>\n",
       "      <td>Orange</td>\n",
       "      <td>CA</td>\n",
       "      <td>92869</td>\n",
       "    </tr>\n",
       "    <tr>\n",
       "      <th>491</th>\n",
       "      <td>CVS</td>\n",
       "      <td>855 E Birch St</td>\n",
       "      <td>Brea</td>\n",
       "      <td>CA</td>\n",
       "      <td>92821</td>\n",
       "    </tr>\n",
       "    <tr>\n",
       "      <th>492</th>\n",
       "      <td>CVS</td>\n",
       "      <td>8601 S Sepulveda Blvd</td>\n",
       "      <td>Los Angeles</td>\n",
       "      <td>CA</td>\n",
       "      <td>90045</td>\n",
       "    </tr>\n",
       "    <tr>\n",
       "      <th>493</th>\n",
       "      <td>CVS</td>\n",
       "      <td>1931 N Campus Ave</td>\n",
       "      <td>Upland</td>\n",
       "      <td>CA</td>\n",
       "      <td>91784</td>\n",
       "    </tr>\n",
       "  </tbody>\n",
       "</table>\n",
       "<p>494 rows × 5 columns</p>\n",
       "</div>"
      ],
      "text/plain": [
       "    Business Name                 Address               City State    ZIP\n",
       "0             CVS      11051 Victory Blvd    North Hollywood    CA  91606\n",
       "1             CVS      864 Swarthmore Ave  Pacific Palisades    CA  90272\n",
       "2             CVS      15614 Whittwood Ln           Whittier    CA  90603\n",
       "3             CVS       1025 E Adams Blvd        Los Angeles    CA  90011\n",
       "4             CVS  4235 Pacific Coast Hwy           Torrance    CA  90505\n",
       "..            ...                     ...                ...   ...    ...\n",
       "489           CVS       25601 Jeronimo Rd      Mission Viejo    CA  92691\n",
       "490           CVS      4040 E Chapman Ave             Orange    CA  92869\n",
       "491           CVS          855 E Birch St               Brea    CA  92821\n",
       "492           CVS   8601 S Sepulveda Blvd        Los Angeles    CA  90045\n",
       "493           CVS       1931 N Campus Ave             Upland    CA  91784\n",
       "\n",
       "[494 rows x 5 columns]"
      ]
     },
     "execution_count": 8,
     "metadata": {},
     "output_type": "execute_result"
    }
   ],
   "source": [
    "# Input pharmacy locations by address\n",
    "df = pd.read_csv(\"data/cvs_los_angeles.csv\")\n",
    "df"
   ]
  },
  {
   "cell_type": "markdown",
   "metadata": {},
   "source": [
    "## Enriching Areas"
   ]
  },
  {
   "cell_type": "code",
   "execution_count": 15,
   "metadata": {
    "scrolled": true
   },
   "outputs": [
    {
     "data": {
      "text/plain": [
       "{'address': {'Business Name': 'CVS',\n",
       "  'Address': '11051 Victory Blvd',\n",
       "  'City': 'North Hollywood',\n",
       "  'State': 'CA',\n",
       "  'ZIP': 91606},\n",
       " 'areaType': 'DriveTimeBuffer',\n",
       " 'bufferRadii': [5],\n",
       " 'bufferUnits': 'Minutes'}"
      ]
     },
     "execution_count": 15,
     "metadata": {},
     "output_type": "execute_result"
    }
   ],
   "source": [
    "# Defines the 5-min drive time analysis areas around each location\n",
    "cvs_areas = [{\"address\":x, \"areaType\": \"DriveTimeBuffer\",\"bufferRadii\":[5], \"bufferUnits\": \"Minutes\"} for x in df.to_dict('records')]\n",
    "cvs_areas[0]"
   ]
  },
  {
   "cell_type": "markdown",
   "metadata": {},
   "source": [
    "### Find in **Data Browser**:\n",
    "\n",
    "Site arcgis.com -> BA Web App -> Help -> Data documentation -> Data -> **Data Browser** -> find by \"seniors\"\n",
    "-> 2021 Seniors (Age 65+) -> choose it -> Copy (JSON) -> paste in code this **Attribute IDs**: `[\"AtRisk.SENIORS_CY\"]`\n",
    "\n",
    "Paste:"
   ]
  },
  {
   "cell_type": "code",
   "execution_count": 22,
   "metadata": {},
   "outputs": [],
   "source": [
    "# Drive time service areas are being generated dynamically for lots of locations\n",
    "# (lots of processing required)\n",
    "cvs_dt_5min = enrich(cvs_areas, analysis_variables=[\"AtRisk.SENIORS_CY\"])"
   ]
  },
  {
   "cell_type": "code",
   "execution_count": 26,
   "metadata": {},
   "outputs": [
    {
     "data": {
      "text/html": [
       "<div>\n",
       "<style scoped>\n",
       "    .dataframe tbody tr th:only-of-type {\n",
       "        vertical-align: middle;\n",
       "    }\n",
       "\n",
       "    .dataframe tbody tr th {\n",
       "        vertical-align: top;\n",
       "    }\n",
       "\n",
       "    .dataframe thead th {\n",
       "        text-align: right;\n",
       "    }\n",
       "</style>\n",
       "<table border=\"1\" class=\"dataframe\">\n",
       "  <thead>\n",
       "    <tr style=\"text-align: right;\">\n",
       "      <th></th>\n",
       "      <th>ID</th>\n",
       "      <th>OBJECTID</th>\n",
       "      <th>sourceCountry</th>\n",
       "      <th>X</th>\n",
       "      <th>Y</th>\n",
       "      <th>areaType</th>\n",
       "      <th>bufferUnits</th>\n",
       "      <th>bufferUnitsAlias</th>\n",
       "      <th>bufferRadii</th>\n",
       "      <th>aggregationMethod</th>\n",
       "      <th>populationToPolygonSizeRating</th>\n",
       "      <th>apportionmentConfidence</th>\n",
       "      <th>HasData</th>\n",
       "      <th>SENIORS_CY</th>\n",
       "      <th>SHAPE</th>\n",
       "    </tr>\n",
       "  </thead>\n",
       "  <tbody>\n",
       "    <tr>\n",
       "      <th>0</th>\n",
       "      <td>0</td>\n",
       "      <td>1</td>\n",
       "      <td>US</td>\n",
       "      <td>-118.371276</td>\n",
       "      <td>34.188669</td>\n",
       "      <td>DriveTimeBuffer</td>\n",
       "      <td>Minutes</td>\n",
       "      <td>Minutes</td>\n",
       "      <td>5</td>\n",
       "      <td>BlockApportionment:US.BlockGroups;PointsLayer:...</td>\n",
       "      <td>2.191</td>\n",
       "      <td>2.576</td>\n",
       "      <td>1</td>\n",
       "      <td>9109</td>\n",
       "      <td>{\"rings\": [[[-118.36978957234149, 34.219339094...</td>\n",
       "    </tr>\n",
       "    <tr>\n",
       "      <th>1</th>\n",
       "      <td>1</td>\n",
       "      <td>2</td>\n",
       "      <td>US</td>\n",
       "      <td>-118.525640</td>\n",
       "      <td>34.046389</td>\n",
       "      <td>DriveTimeBuffer</td>\n",
       "      <td>Minutes</td>\n",
       "      <td>Minutes</td>\n",
       "      <td>5</td>\n",
       "      <td>BlockApportionment:US.BlockGroups;PointsLayer:...</td>\n",
       "      <td>2.191</td>\n",
       "      <td>2.576</td>\n",
       "      <td>1</td>\n",
       "      <td>3223</td>\n",
       "      <td>{\"rings\": [[[-118.54248989609434, 34.060338017...</td>\n",
       "    </tr>\n",
       "    <tr>\n",
       "      <th>2</th>\n",
       "      <td>2</td>\n",
       "      <td>3</td>\n",
       "      <td>US</td>\n",
       "      <td>-117.996562</td>\n",
       "      <td>33.942616</td>\n",
       "      <td>DriveTimeBuffer</td>\n",
       "      <td>Minutes</td>\n",
       "      <td>Minutes</td>\n",
       "      <td>5</td>\n",
       "      <td>BlockApportionment:US.BlockGroups;PointsLayer:...</td>\n",
       "      <td>2.191</td>\n",
       "      <td>2.576</td>\n",
       "      <td>1</td>\n",
       "      <td>6150</td>\n",
       "      <td>{\"rings\": [[[-118.00170656811636, 33.961972943...</td>\n",
       "    </tr>\n",
       "  </tbody>\n",
       "</table>\n",
       "</div>"
      ],
      "text/plain": [
       "  ID  OBJECTID sourceCountry           X          Y         areaType  \\\n",
       "0  0         1            US -118.371276  34.188669  DriveTimeBuffer   \n",
       "1  1         2            US -118.525640  34.046389  DriveTimeBuffer   \n",
       "2  2         3            US -117.996562  33.942616  DriveTimeBuffer   \n",
       "\n",
       "  bufferUnits bufferUnitsAlias  bufferRadii  \\\n",
       "0     Minutes          Minutes            5   \n",
       "1     Minutes          Minutes            5   \n",
       "2     Minutes          Minutes            5   \n",
       "\n",
       "                                   aggregationMethod  \\\n",
       "0  BlockApportionment:US.BlockGroups;PointsLayer:...   \n",
       "1  BlockApportionment:US.BlockGroups;PointsLayer:...   \n",
       "2  BlockApportionment:US.BlockGroups;PointsLayer:...   \n",
       "\n",
       "   populationToPolygonSizeRating  apportionmentConfidence  HasData  \\\n",
       "0                          2.191                    2.576        1   \n",
       "1                          2.191                    2.576        1   \n",
       "2                          2.191                    2.576        1   \n",
       "\n",
       "   SENIORS_CY                                              SHAPE  \n",
       "0        9109  {\"rings\": [[[-118.36978957234149, 34.219339094...  \n",
       "1        3223  {\"rings\": [[[-118.54248989609434, 34.060338017...  \n",
       "2        6150  {\"rings\": [[[-118.00170656811636, 33.961972943...  "
      ]
     },
     "execution_count": 26,
     "metadata": {},
     "output_type": "execute_result"
    }
   ],
   "source": [
    "# We can see below\n",
    "#   areaType: DriveTimeBuffer\n",
    "#   bufferUnits: Minutes\n",
    "#   bufferRadii: 5\n",
    "#   aggregationMethod: BlockApportionment:US.BlockGroups\n",
    "#   SENIORS_CY: <we can see>\n",
    "cvs_dt_5min.head(n=3)"
   ]
  },
  {
   "cell_type": "code",
   "execution_count": 31,
   "metadata": {},
   "outputs": [
    {
     "data": {
      "application/vnd.jupyter.widget-view+json": {
       "model_id": "794ae584f7cc4552be589ad0ec2e2599",
       "version_major": 2,
       "version_minor": 0
      },
      "text/plain": [
       "MapView(layout=Layout(height='400px', width='100%'))"
      ]
     },
     "metadata": {},
     "output_type": "display_data"
    },
    {
     "data": {
      "text/html": [
       "<div class=\"map-static-img-preview-900e43c7-6367-4c57-93e1-b340f7df588a\"><img src=\"\"></img></div>"
      ],
      "text/plain": [
       "<IPython.core.display.HTML object>"
      ]
     },
     "metadata": {},
     "output_type": "display_data"
    },
    {
     "data": {
      "text/html": [
       "<div class=\"map-html-embed-preview-900e43c7-6367-4c57-93e1-b340f7df588a\"></div>"
      ],
      "text/plain": [
       "<IPython.core.display.HTML object>"
      ]
     },
     "metadata": {},
     "output_type": "display_data"
    }
   ],
   "source": [
    "# Let's map enrichment areas\n",
    "cvs_map = gis.map('Ontario, CA, USA', zoomlevel=9)\n",
    "cvs_map"
   ]
  },
  {
   "cell_type": "code",
   "execution_count": 32,
   "metadata": {},
   "outputs": [],
   "source": [
    "# Change basemap\n",
    "cvs_map.basemap = 'dark-gray'"
   ]
  },
  {
   "cell_type": "code",
   "execution_count": 33,
   "metadata": {},
   "outputs": [],
   "source": [
    "# Add layer\n",
    "cvs_map.add_layer(\n",
    "    FeatureSet.from_dataframe(cvs_dt_5min),\n",
    "    {'renderer':'ClassedColorRenderer','field_name':'SENIORS_CY', 'opacity':0.5}\n",
    ")"
   ]
  },
  {
   "cell_type": "markdown",
   "metadata": {},
   "source": [
    "As a result we can see senior populations around our **5-min drive time** analysis areas around the pharmacies (*darker = larger population counts*)."
   ]
  },
  {
   "cell_type": "markdown",
   "metadata": {},
   "source": [
    "## Data Analysis"
   ]
  },
  {
   "cell_type": "code",
   "execution_count": 35,
   "metadata": {
    "scrolled": true
   },
   "outputs": [
    {
     "data": {
      "text/html": [
       "<div>\n",
       "<style scoped>\n",
       "    .dataframe tbody tr th:only-of-type {\n",
       "        vertical-align: middle;\n",
       "    }\n",
       "\n",
       "    .dataframe tbody tr th {\n",
       "        vertical-align: top;\n",
       "    }\n",
       "\n",
       "    .dataframe thead th {\n",
       "        text-align: right;\n",
       "    }\n",
       "</style>\n",
       "<table border=\"1\" class=\"dataframe\">\n",
       "  <thead>\n",
       "    <tr style=\"text-align: right;\">\n",
       "      <th></th>\n",
       "      <th>ID</th>\n",
       "      <th>OBJECTID</th>\n",
       "      <th>sourceCountry</th>\n",
       "      <th>X</th>\n",
       "      <th>Y</th>\n",
       "      <th>areaType</th>\n",
       "      <th>bufferUnits</th>\n",
       "      <th>bufferUnitsAlias</th>\n",
       "      <th>bufferRadii</th>\n",
       "      <th>aggregationMethod</th>\n",
       "      <th>populationToPolygonSizeRating</th>\n",
       "      <th>apportionmentConfidence</th>\n",
       "      <th>HasData</th>\n",
       "      <th>SENIORS_CY</th>\n",
       "      <th>SHAPE</th>\n",
       "    </tr>\n",
       "  </thead>\n",
       "  <tbody>\n",
       "    <tr>\n",
       "      <th>57</th>\n",
       "      <td>57</td>\n",
       "      <td>58</td>\n",
       "      <td>US</td>\n",
       "      <td>-118.286440</td>\n",
       "      <td>34.063251</td>\n",
       "      <td>DriveTimeBuffer</td>\n",
       "      <td>Minutes</td>\n",
       "      <td>Minutes</td>\n",
       "      <td>5</td>\n",
       "      <td>BlockApportionment:US.BlockGroups;PointsLayer:...</td>\n",
       "      <td>2.191</td>\n",
       "      <td>2.576</td>\n",
       "      <td>1</td>\n",
       "      <td>20203</td>\n",
       "      <td>{\"rings\": [[[-118.28692036736885, 34.088634818...</td>\n",
       "    </tr>\n",
       "    <tr>\n",
       "      <th>84</th>\n",
       "      <td>84</td>\n",
       "      <td>85</td>\n",
       "      <td>US</td>\n",
       "      <td>-118.258240</td>\n",
       "      <td>34.147581</td>\n",
       "      <td>DriveTimeBuffer</td>\n",
       "      <td>Minutes</td>\n",
       "      <td>Minutes</td>\n",
       "      <td>5</td>\n",
       "      <td>BlockApportionment:US.BlockGroups;PointsLayer:...</td>\n",
       "      <td>2.191</td>\n",
       "      <td>2.576</td>\n",
       "      <td>1</td>\n",
       "      <td>17970</td>\n",
       "      <td>{\"rings\": [[[-118.25570405317951, 34.169931979...</td>\n",
       "    </tr>\n",
       "    <tr>\n",
       "      <th>52</th>\n",
       "      <td>52</td>\n",
       "      <td>53</td>\n",
       "      <td>US</td>\n",
       "      <td>-118.258587</td>\n",
       "      <td>34.142978</td>\n",
       "      <td>DriveTimeBuffer</td>\n",
       "      <td>Minutes</td>\n",
       "      <td>Minutes</td>\n",
       "      <td>5</td>\n",
       "      <td>BlockApportionment:US.BlockGroups;PointsLayer:...</td>\n",
       "      <td>2.191</td>\n",
       "      <td>2.576</td>\n",
       "      <td>1</td>\n",
       "      <td>17871</td>\n",
       "      <td>{\"rings\": [[[-118.29904756711058, 34.167686202...</td>\n",
       "    </tr>\n",
       "    <tr>\n",
       "      <th>77</th>\n",
       "      <td>77</td>\n",
       "      <td>78</td>\n",
       "      <td>US</td>\n",
       "      <td>-118.099652</td>\n",
       "      <td>33.887662</td>\n",
       "      <td>DriveTimeBuffer</td>\n",
       "      <td>Minutes</td>\n",
       "      <td>Minutes</td>\n",
       "      <td>5</td>\n",
       "      <td>BlockApportionment:US.BlockGroups;PointsLayer:...</td>\n",
       "      <td>2.191</td>\n",
       "      <td>2.576</td>\n",
       "      <td>1</td>\n",
       "      <td>17248</td>\n",
       "      <td>{\"rings\": [[[-118.10096995336235, 33.933676140...</td>\n",
       "    </tr>\n",
       "    <tr>\n",
       "      <th>76</th>\n",
       "      <td>76</td>\n",
       "      <td>77</td>\n",
       "      <td>US</td>\n",
       "      <td>-118.061981</td>\n",
       "      <td>33.846908</td>\n",
       "      <td>DriveTimeBuffer</td>\n",
       "      <td>Minutes</td>\n",
       "      <td>Minutes</td>\n",
       "      <td>5</td>\n",
       "      <td>BlockApportionment:US.BlockGroups;PointsLayer:...</td>\n",
       "      <td>2.191</td>\n",
       "      <td>2.576</td>\n",
       "      <td>1</td>\n",
       "      <td>17155</td>\n",
       "      <td>{\"rings\": [[[-118.06391461677569, 33.877756270...</td>\n",
       "    </tr>\n",
       "    <tr>\n",
       "      <th>38</th>\n",
       "      <td>38</td>\n",
       "      <td>39</td>\n",
       "      <td>US</td>\n",
       "      <td>-118.109699</td>\n",
       "      <td>34.079314</td>\n",
       "      <td>DriveTimeBuffer</td>\n",
       "      <td>Minutes</td>\n",
       "      <td>Minutes</td>\n",
       "      <td>5</td>\n",
       "      <td>BlockApportionment:US.BlockGroups;PointsLayer:...</td>\n",
       "      <td>2.191</td>\n",
       "      <td>2.576</td>\n",
       "      <td>1</td>\n",
       "      <td>16953</td>\n",
       "      <td>{\"rings\": [[[-118.10209284207761, 34.103456952...</td>\n",
       "    </tr>\n",
       "    <tr>\n",
       "      <th>43</th>\n",
       "      <td>43</td>\n",
       "      <td>44</td>\n",
       "      <td>US</td>\n",
       "      <td>-117.992705</td>\n",
       "      <td>33.825497</td>\n",
       "      <td>DriveTimeBuffer</td>\n",
       "      <td>Minutes</td>\n",
       "      <td>Minutes</td>\n",
       "      <td>5</td>\n",
       "      <td>BlockApportionment:US.BlockGroups;PointsLayer:...</td>\n",
       "      <td>2.191</td>\n",
       "      <td>2.576</td>\n",
       "      <td>1</td>\n",
       "      <td>16919</td>\n",
       "      <td>{\"rings\": [[[-117.99384634621127, 33.862709557...</td>\n",
       "    </tr>\n",
       "    <tr>\n",
       "      <th>19</th>\n",
       "      <td>19</td>\n",
       "      <td>20</td>\n",
       "      <td>US</td>\n",
       "      <td>-118.052536</td>\n",
       "      <td>34.109551</td>\n",
       "      <td>DriveTimeBuffer</td>\n",
       "      <td>Minutes</td>\n",
       "      <td>Minutes</td>\n",
       "      <td>5</td>\n",
       "      <td>BlockApportionment:US.BlockGroups;PointsLayer:...</td>\n",
       "      <td>2.191</td>\n",
       "      <td>2.576</td>\n",
       "      <td>1</td>\n",
       "      <td>16866</td>\n",
       "      <td>{\"rings\": [[[-118.05021537157494, 34.146126734...</td>\n",
       "    </tr>\n",
       "    <tr>\n",
       "      <th>48</th>\n",
       "      <td>48</td>\n",
       "      <td>49</td>\n",
       "      <td>US</td>\n",
       "      <td>-117.989419</td>\n",
       "      <td>33.685158</td>\n",
       "      <td>DriveTimeBuffer</td>\n",
       "      <td>Minutes</td>\n",
       "      <td>Minutes</td>\n",
       "      <td>5</td>\n",
       "      <td>BlockApportionment:US.BlockGroups;PointsLayer:...</td>\n",
       "      <td>2.191</td>\n",
       "      <td>2.576</td>\n",
       "      <td>1</td>\n",
       "      <td>16492</td>\n",
       "      <td>{\"rings\": [[[-117.98913021163087, 33.717856881...</td>\n",
       "    </tr>\n",
       "    <tr>\n",
       "      <th>8</th>\n",
       "      <td>8</td>\n",
       "      <td>9</td>\n",
       "      <td>US</td>\n",
       "      <td>-118.027219</td>\n",
       "      <td>33.833707</td>\n",
       "      <td>DriveTimeBuffer</td>\n",
       "      <td>Minutes</td>\n",
       "      <td>Minutes</td>\n",
       "      <td>5</td>\n",
       "      <td>BlockApportionment:US.BlockGroups;PointsLayer:...</td>\n",
       "      <td>2.191</td>\n",
       "      <td>2.576</td>\n",
       "      <td>1</td>\n",
       "      <td>15877</td>\n",
       "      <td>{\"rings\": [[[-118.02865590357078, 33.865629068...</td>\n",
       "    </tr>\n",
       "  </tbody>\n",
       "</table>\n",
       "</div>"
      ],
      "text/plain": [
       "    ID  OBJECTID sourceCountry           X          Y         areaType  \\\n",
       "57  57        58            US -118.286440  34.063251  DriveTimeBuffer   \n",
       "84  84        85            US -118.258240  34.147581  DriveTimeBuffer   \n",
       "52  52        53            US -118.258587  34.142978  DriveTimeBuffer   \n",
       "77  77        78            US -118.099652  33.887662  DriveTimeBuffer   \n",
       "76  76        77            US -118.061981  33.846908  DriveTimeBuffer   \n",
       "38  38        39            US -118.109699  34.079314  DriveTimeBuffer   \n",
       "43  43        44            US -117.992705  33.825497  DriveTimeBuffer   \n",
       "19  19        20            US -118.052536  34.109551  DriveTimeBuffer   \n",
       "48  48        49            US -117.989419  33.685158  DriveTimeBuffer   \n",
       "8    8         9            US -118.027219  33.833707  DriveTimeBuffer   \n",
       "\n",
       "   bufferUnits bufferUnitsAlias  bufferRadii  \\\n",
       "57     Minutes          Minutes            5   \n",
       "84     Minutes          Minutes            5   \n",
       "52     Minutes          Minutes            5   \n",
       "77     Minutes          Minutes            5   \n",
       "76     Minutes          Minutes            5   \n",
       "38     Minutes          Minutes            5   \n",
       "43     Minutes          Minutes            5   \n",
       "19     Minutes          Minutes            5   \n",
       "48     Minutes          Minutes            5   \n",
       "8      Minutes          Minutes            5   \n",
       "\n",
       "                                    aggregationMethod  \\\n",
       "57  BlockApportionment:US.BlockGroups;PointsLayer:...   \n",
       "84  BlockApportionment:US.BlockGroups;PointsLayer:...   \n",
       "52  BlockApportionment:US.BlockGroups;PointsLayer:...   \n",
       "77  BlockApportionment:US.BlockGroups;PointsLayer:...   \n",
       "76  BlockApportionment:US.BlockGroups;PointsLayer:...   \n",
       "38  BlockApportionment:US.BlockGroups;PointsLayer:...   \n",
       "43  BlockApportionment:US.BlockGroups;PointsLayer:...   \n",
       "19  BlockApportionment:US.BlockGroups;PointsLayer:...   \n",
       "48  BlockApportionment:US.BlockGroups;PointsLayer:...   \n",
       "8   BlockApportionment:US.BlockGroups;PointsLayer:...   \n",
       "\n",
       "    populationToPolygonSizeRating  apportionmentConfidence  HasData  \\\n",
       "57                          2.191                    2.576        1   \n",
       "84                          2.191                    2.576        1   \n",
       "52                          2.191                    2.576        1   \n",
       "77                          2.191                    2.576        1   \n",
       "76                          2.191                    2.576        1   \n",
       "38                          2.191                    2.576        1   \n",
       "43                          2.191                    2.576        1   \n",
       "19                          2.191                    2.576        1   \n",
       "48                          2.191                    2.576        1   \n",
       "8                           2.191                    2.576        1   \n",
       "\n",
       "    SENIORS_CY                                              SHAPE  \n",
       "57       20203  {\"rings\": [[[-118.28692036736885, 34.088634818...  \n",
       "84       17970  {\"rings\": [[[-118.25570405317951, 34.169931979...  \n",
       "52       17871  {\"rings\": [[[-118.29904756711058, 34.167686202...  \n",
       "77       17248  {\"rings\": [[[-118.10096995336235, 33.933676140...  \n",
       "76       17155  {\"rings\": [[[-118.06391461677569, 33.877756270...  \n",
       "38       16953  {\"rings\": [[[-118.10209284207761, 34.103456952...  \n",
       "43       16919  {\"rings\": [[[-117.99384634621127, 33.862709557...  \n",
       "19       16866  {\"rings\": [[[-118.05021537157494, 34.146126734...  \n",
       "48       16492  {\"rings\": [[[-117.98913021163087, 33.717856881...  \n",
       "8        15877  {\"rings\": [[[-118.02865590357078, 33.865629068...  "
      ]
     },
     "execution_count": 35,
     "metadata": {},
     "output_type": "execute_result"
    }
   ],
   "source": [
    "# Sort by seniors amount\n",
    "cvs_dt_5min = cvs_dt_5min.sort_values(by=['SENIORS_CY'], ascending=False)\n",
    "\n",
    "# Take 10 most populated\n",
    "best_csv = cvs_dt_5min[:10]\n",
    "best_csv"
   ]
  },
  {
   "cell_type": "code",
   "execution_count": 38,
   "metadata": {},
   "outputs": [
    {
     "data": {
      "application/vnd.jupyter.widget-view+json": {
       "model_id": "263ac69374834209883460b92dd7c4e2",
       "version_major": 2,
       "version_minor": 0
      },
      "text/plain": [
       "MapView(layout=Layout(height='400px', width='100%'))"
      ]
     },
     "metadata": {},
     "output_type": "display_data"
    },
    {
     "data": {
      "text/html": [
       "<div class=\"map-static-img-preview-06ccd04b-2aec-47de-a4af-0bfc17d518c0\"><img src=\"\"></img></div>"
      ],
      "text/plain": [
       "<IPython.core.display.HTML object>"
      ]
     },
     "metadata": {},
     "output_type": "display_data"
    },
    {
     "data": {
      "text/html": [
       "<div class=\"map-html-embed-preview-06ccd04b-2aec-47de-a4af-0bfc17d518c0\"></div>"
      ],
      "text/plain": [
       "<IPython.core.display.HTML object>"
      ]
     },
     "metadata": {},
     "output_type": "display_data"
    }
   ],
   "source": [
    "# Map areas\n",
    "best_cvs_map = gis.map('Ontario, CA, USA', zoomlevel=10)\n",
    "best_cvs_map"
   ]
  },
  {
   "cell_type": "code",
   "execution_count": 39,
   "metadata": {},
   "outputs": [],
   "source": [
    "# Change basemap\n",
    "best_cvs_map.basemap = 'dark-gray'"
   ]
  },
  {
   "cell_type": "code",
   "execution_count": 40,
   "metadata": {},
   "outputs": [],
   "source": [
    "# Add layer\n",
    "best_cvs_map.add_layer(\n",
    "    FeatureSet.from_dataframe(best_csv.copy()),\n",
    "    {'renderer':'ClassedColorRenderer','field_name':'SENIORS_CY', 'opacity':0.5}\n",
    ")"
   ]
  },
  {
   "cell_type": "markdown",
   "metadata": {},
   "source": [
    "### Result:\n",
    "- We can see top candidates on the map above.\n",
    "- We can click on this areas for more detailed information."
   ]
  },
  {
   "cell_type": "code",
   "execution_count": null,
   "metadata": {},
   "outputs": [],
   "source": []
  }
 ],
 "metadata": {
  "kernelspec": {
   "display_name": "Python 3 (ipykernel)",
   "language": "python",
   "name": "python3"
  },
  "language_info": {
   "codemirror_mode": {
    "name": "ipython",
    "version": 3
   },
   "file_extension": ".py",
   "mimetype": "text/x-python",
   "name": "python",
   "nbconvert_exporter": "python",
   "pygments_lexer": "ipython3",
   "version": "3.8.10"
  }
 },
 "nbformat": 4,
 "nbformat_minor": 2
}
