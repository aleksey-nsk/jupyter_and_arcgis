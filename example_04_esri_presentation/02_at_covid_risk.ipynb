{
 "cells": [
  {
   "cell_type": "markdown",
   "metadata": {},
   "source": [
    "## Getting Started"
   ]
  },
  {
   "cell_type": "code",
   "execution_count": 1,
   "metadata": {},
   "outputs": [],
   "source": [
    "from arcgis.gis import GIS\n",
    "from arcgis.geoenrichment import enrich\n",
    "from arcgis.geoenrichment import create_report\n",
    "from arcgis.geometry import Envelope\n",
    "from arcgis.features.manage_data import generate_tessellation\n",
    "from arcgis.features import FeatureSet\n",
    "from getpass import getpass"
   ]
  },
  {
   "cell_type": "code",
   "execution_count": 2,
   "metadata": {
    "scrolled": false
   },
   "outputs": [
    {
     "name": "stdout",
     "output_type": "stream",
     "text": [
      "········\n"
     ]
    }
   ],
   "source": [
    "# User credentials instead of an API key\n",
    "password=getpass()\n",
    "gis = GIS(username=\"Aleksey_Zhdanov_LearnArcGIS\", password=password)"
   ]
  },
  {
   "cell_type": "markdown",
   "metadata": {},
   "source": [
    "## Build Analysis Areas"
   ]
  },
  {
   "cell_type": "code",
   "execution_count": 3,
   "metadata": {},
   "outputs": [
    {
     "data": {
      "application/vnd.jupyter.widget-view+json": {
       "model_id": "39fac8c35bf74fd5b47ba6db5d3a84e4",
       "version_major": 2,
       "version_minor": 0
      },
      "text/plain": [
       "MapView(layout=Layout(height='400px', width='100%'))"
      ]
     },
     "metadata": {},
     "output_type": "display_data"
    },
    {
     "data": {
      "text/html": [
       "<div class=\"map-static-img-preview-a703c3de-c59d-4a34-9f66-a42406534637\"><img src=\"\"></img></div>"
      ],
      "text/plain": [
       "<IPython.core.display.HTML object>"
      ]
     },
     "metadata": {},
     "output_type": "display_data"
    },
    {
     "data": {
      "text/html": [
       "<div class=\"map-html-embed-preview-a703c3de-c59d-4a34-9f66-a42406534637\"></div>"
      ],
      "text/plain": [
       "<IPython.core.display.HTML object>"
      ]
     },
     "metadata": {},
     "output_type": "display_data"
    }
   ],
   "source": [
    "# Create the map\n",
    "inland_empire_map = gis.map('Redlands, CA, USA', zoomlevel=12)\n",
    "inland_empire_map"
   ]
  },
  {
   "cell_type": "code",
   "execution_count": 4,
   "metadata": {},
   "outputs": [],
   "source": [
    "# Change basemap\n",
    "inland_empire_map.basemap = 'openstreetmap'"
   ]
  },
  {
   "cell_type": "code",
   "execution_count": 5,
   "metadata": {},
   "outputs": [],
   "source": [
    "# Create a hex grid for our map\n",
    "hexagons = generate_tessellation(\n",
    "    None, \n",
    "    bin_size=1, \n",
    "    bin_size_unit='SquareMiles', \n",
    "    bin_type='HEXAGON', \n",
    "    context={\"extent\":inland_empire_map.extent}\n",
    ")"
   ]
  },
  {
   "cell_type": "code",
   "execution_count": 10,
   "metadata": {
    "scrolled": true
   },
   "outputs": [
    {
     "data": {
      "text/plain": [
       "[{\n",
       "   \"attributes\": {\n",
       "     \"OBJECTID\": 1,\n",
       "     \"GRID_ID\": \"A-8\",\n",
       "     \"Shape_Length\": 7235.055839676689,\n",
       "     \"Shape_Area\": 3777719.2724759416\n",
       "   },\n",
       "   \"geometry\": {\n",
       "     \"rings\": [\n",
       "       [\n",
       "         [\n",
       "           -13062306.6791,\n",
       "           4028583.2673999965\n",
       "         ],\n",
       "         [\n",
       "           -13062906.5407,\n",
       "           4027535.6636999995\n",
       "         ],\n",
       "         [\n",
       "           -13064109.4833,\n",
       "           4027533.6686000004\n",
       "         ],\n",
       "         [\n",
       "           -13064712.784400001,\n",
       "           4028579.2765000015\n",
       "         ],\n",
       "         [\n",
       "           -13064113.033599999,\n",
       "           4029627.070100002\n",
       "         ],\n",
       "         [\n",
       "           -13062909.870900001,\n",
       "           4029629.065899998\n",
       "         ],\n",
       "         [\n",
       "           -13062306.6791,\n",
       "           4028583.2673999965\n",
       "         ]\n",
       "       ]\n",
       "     ]\n",
       "   }\n",
       " },\n",
       " {\n",
       "   \"attributes\": {\n",
       "     \"OBJECTID\": 2,\n",
       "     \"GRID_ID\": \"B-8\",\n",
       "     \"Shape_Length\": 7235.71555833033,\n",
       "     \"Shape_Area\": 3778408.251169351\n",
       "   },\n",
       "   \"geometry\": {\n",
       "     \"rings\": [\n",
       "       [\n",
       "         [\n",
       "           -13060503.5442,\n",
       "           4029632.6744000018\n",
       "         ],\n",
       "         [\n",
       "           -13061103.6259,\n",
       "           4028585.0713\n",
       "         ],\n",
       "         [\n",
       "           -13062306.6791,\n",
       "           4028583.2673999965\n",
       "         ],\n",
       "         [\n",
       "           -13062909.870900001,\n",
       "           4029629.065899998\n",
       "         ],\n",
       "         [\n",
       "           -13062309.899799999,\n",
       "           4030676.8592000008\n",
       "         ],\n",
       "         [\n",
       "           -13061106.6265,\n",
       "           4030678.6636999995\n",
       "         ],\n",
       "         [\n",
       "           -13060503.5442,\n",
       "           4029632.6744000018\n",
       "         ]\n",
       "       ]\n",
       "     ]\n",
       "   }\n",
       " }]"
      ]
     },
     "execution_count": 10,
     "metadata": {},
     "output_type": "execute_result"
    }
   ],
   "source": [
    "hexagons.layer.featureSet.features[:2]"
   ]
  },
  {
   "cell_type": "code",
   "execution_count": 11,
   "metadata": {},
   "outputs": [
    {
     "data": {
      "text/plain": [
       "176"
      ]
     },
     "execution_count": 11,
     "metadata": {},
     "output_type": "execute_result"
    }
   ],
   "source": [
    "len(hexagons.layer.featureSet.features)"
   ]
  },
  {
   "cell_type": "code",
   "execution_count": 12,
   "metadata": {},
   "outputs": [],
   "source": [
    "# Add layer with hex grid\n",
    "inland_empire_map.add_layer(hexagons)"
   ]
  },
  {
   "cell_type": "markdown",
   "metadata": {},
   "source": [
    "### Create polygonal study area using the 176 1-sqmi hexagon features as custom (polygon) analysis areas:"
   ]
  },
  {
   "cell_type": "code",
   "execution_count": 19,
   "metadata": {
    "scrolled": false
   },
   "outputs": [
    {
     "data": {
      "text/plain": [
       "[{'geometry': {'rings': [[[-13062306.6791, 4028583.2673999965],\n",
       "     [-13062906.5407, 4027535.6636999995],\n",
       "     [-13064109.4833, 4027533.6686000004],\n",
       "     [-13064712.784400001, 4028579.2765000015],\n",
       "     [-13064113.033599999, 4029627.070100002],\n",
       "     [-13062909.870900001, 4029629.065899998],\n",
       "     [-13062306.6791, 4028583.2673999965]]]}},\n",
       " {'geometry': {'rings': [[[-13060503.5442, 4029632.6744000018],\n",
       "     [-13061103.6259, 4028585.0713],\n",
       "     [-13062306.6791, 4028583.2673999965],\n",
       "     [-13062909.870900001, 4029629.065899998],\n",
       "     [-13062309.899799999, 4030676.8592000008],\n",
       "     [-13061106.6265, 4030678.6636999995],\n",
       "     [-13060503.5442, 4029632.6744000018]]]}}]"
      ]
     },
     "execution_count": 19,
     "metadata": {},
     "output_type": "execute_result"
    }
   ],
   "source": [
    "geometry_areas = [{\"geometry\":f[\"geometry\"].copy()} for f in hexagons.layer.featureSet.features]\n",
    "geometry_areas[:2]"
   ]
  },
  {
   "cell_type": "code",
   "execution_count": 20,
   "metadata": {},
   "outputs": [],
   "source": [
    "for area in geometry_areas:\n",
    "    area[\"geometry\"][\"spatialReference\"]={\"wkid\":3857}"
   ]
  },
  {
   "cell_type": "code",
   "execution_count": 21,
   "metadata": {},
   "outputs": [
    {
     "data": {
      "text/plain": [
       "[{'geometry': {'rings': [[[-13062306.6791, 4028583.2673999965],\n",
       "     [-13062906.5407, 4027535.6636999995],\n",
       "     [-13064109.4833, 4027533.6686000004],\n",
       "     [-13064712.784400001, 4028579.2765000015],\n",
       "     [-13064113.033599999, 4029627.070100002],\n",
       "     [-13062909.870900001, 4029629.065899998],\n",
       "     [-13062306.6791, 4028583.2673999965]]],\n",
       "   'spatialReference': {'wkid': 3857}}},\n",
       " {'geometry': {'rings': [[[-13060503.5442, 4029632.6744000018],\n",
       "     [-13061103.6259, 4028585.0713],\n",
       "     [-13062306.6791, 4028583.2673999965],\n",
       "     [-13062909.870900001, 4029629.065899998],\n",
       "     [-13062309.899799999, 4030676.8592000008],\n",
       "     [-13061106.6265, 4030678.6636999995],\n",
       "     [-13060503.5442, 4029632.6744000018]]],\n",
       "   'spatialReference': {'wkid': 3857}}}]"
      ]
     },
     "execution_count": 21,
     "metadata": {},
     "output_type": "execute_result"
    }
   ],
   "source": [
    "geometry_areas[:2]"
   ]
  },
  {
   "cell_type": "markdown",
   "metadata": {},
   "source": [
    "### Enrich all areas (все 6-гранные ячейки)\n",
    "\n",
    "- **KeyGlobalFacts.TOTPOP** - total population est.\n",
    "- **AtRisk.SENIORS_CY** - senior populations est.\n",
    "\n",
    "*(from **Data Drowser**)*"
   ]
  },
  {
   "cell_type": "code",
   "execution_count": 22,
   "metadata": {},
   "outputs": [],
   "source": [
    "enriched_areas = enrich(\n",
    "    study_areas=geometry_areas, \n",
    "    analysis_variables=[\"KeyGlobalFacts.TOTPOP\",\"AtRisk.SENIORS_CY\"]\n",
    ")"
   ]
  },
  {
   "cell_type": "code",
   "execution_count": 23,
   "metadata": {},
   "outputs": [
    {
     "data": {
      "text/html": [
       "<div>\n",
       "<style scoped>\n",
       "    .dataframe tbody tr th:only-of-type {\n",
       "        vertical-align: middle;\n",
       "    }\n",
       "\n",
       "    .dataframe tbody tr th {\n",
       "        vertical-align: top;\n",
       "    }\n",
       "\n",
       "    .dataframe thead th {\n",
       "        text-align: right;\n",
       "    }\n",
       "</style>\n",
       "<table border=\"1\" class=\"dataframe\">\n",
       "  <thead>\n",
       "    <tr style=\"text-align: right;\">\n",
       "      <th></th>\n",
       "      <th>ID</th>\n",
       "      <th>OBJECTID</th>\n",
       "      <th>sourceCountry</th>\n",
       "      <th>aggregationMethod</th>\n",
       "      <th>populationToPolygonSizeRating</th>\n",
       "      <th>apportionmentConfidence</th>\n",
       "      <th>HasData</th>\n",
       "      <th>TOTPOP</th>\n",
       "      <th>SENIORS_CY</th>\n",
       "      <th>SHAPE</th>\n",
       "    </tr>\n",
       "  </thead>\n",
       "  <tbody>\n",
       "    <tr>\n",
       "      <th>0</th>\n",
       "      <td>0</td>\n",
       "      <td>1</td>\n",
       "      <td>US</td>\n",
       "      <td>BlockApportionment:US.BlockGroups;PointsLayer:...</td>\n",
       "      <td>2.191</td>\n",
       "      <td>2.576</td>\n",
       "      <td>1</td>\n",
       "      <td>2863</td>\n",
       "      <td>216</td>\n",
       "      <td>{\"rings\": [[[-117.34069735692039, 33.998370806...</td>\n",
       "    </tr>\n",
       "    <tr>\n",
       "      <th>1</th>\n",
       "      <td>1</td>\n",
       "      <td>2</td>\n",
       "      <td>US</td>\n",
       "      <td>BlockApportionment:US.BlockGroups;PointsLayer:...</td>\n",
       "      <td>2.191</td>\n",
       "      <td>2.576</td>\n",
       "      <td>1</td>\n",
       "      <td>1016</td>\n",
       "      <td>90</td>\n",
       "      <td>{\"rings\": [[[-117.3244995205204, 34.0061859207...</td>\n",
       "    </tr>\n",
       "    <tr>\n",
       "      <th>2</th>\n",
       "      <td>2</td>\n",
       "      <td>3</td>\n",
       "      <td>US</td>\n",
       "      <td>BlockApportionment:US.BlockGroups;PointsLayer:...</td>\n",
       "      <td>2.191</td>\n",
       "      <td>2.576</td>\n",
       "      <td>1</td>\n",
       "      <td>32</td>\n",
       "      <td>6</td>\n",
       "      <td>{\"rings\": [[[-117.30827571292721, 33.998408258...</td>\n",
       "    </tr>\n",
       "    <tr>\n",
       "      <th>3</th>\n",
       "      <td>3</td>\n",
       "      <td>4</td>\n",
       "      <td>US</td>\n",
       "      <td>BlockApportionment:US.BlockGroups;PointsLayer:...</td>\n",
       "      <td>2.191</td>\n",
       "      <td>2.576</td>\n",
       "      <td>1</td>\n",
       "      <td>1856</td>\n",
       "      <td>368</td>\n",
       "      <td>{\"rings\": [[[-117.29207489771376, 34.006219097...</td>\n",
       "    </tr>\n",
       "    <tr>\n",
       "      <th>4</th>\n",
       "      <td>4</td>\n",
       "      <td>5</td>\n",
       "      <td>US</td>\n",
       "      <td>BlockApportionment:US.BlockGroups;PointsLayer:...</td>\n",
       "      <td>2.191</td>\n",
       "      <td>2.576</td>\n",
       "      <td>1</td>\n",
       "      <td>32</td>\n",
       "      <td>6</td>\n",
       "      <td>{\"rings\": [[[-117.27585404557786, 33.998437154...</td>\n",
       "    </tr>\n",
       "  </tbody>\n",
       "</table>\n",
       "</div>"
      ],
      "text/plain": [
       "  ID  OBJECTID sourceCountry  \\\n",
       "0  0         1            US   \n",
       "1  1         2            US   \n",
       "2  2         3            US   \n",
       "3  3         4            US   \n",
       "4  4         5            US   \n",
       "\n",
       "                                   aggregationMethod  \\\n",
       "0  BlockApportionment:US.BlockGroups;PointsLayer:...   \n",
       "1  BlockApportionment:US.BlockGroups;PointsLayer:...   \n",
       "2  BlockApportionment:US.BlockGroups;PointsLayer:...   \n",
       "3  BlockApportionment:US.BlockGroups;PointsLayer:...   \n",
       "4  BlockApportionment:US.BlockGroups;PointsLayer:...   \n",
       "\n",
       "   populationToPolygonSizeRating  apportionmentConfidence  HasData  TOTPOP  \\\n",
       "0                          2.191                    2.576        1    2863   \n",
       "1                          2.191                    2.576        1    1016   \n",
       "2                          2.191                    2.576        1      32   \n",
       "3                          2.191                    2.576        1    1856   \n",
       "4                          2.191                    2.576        1      32   \n",
       "\n",
       "   SENIORS_CY                                              SHAPE  \n",
       "0         216  {\"rings\": [[[-117.34069735692039, 33.998370806...  \n",
       "1          90  {\"rings\": [[[-117.3244995205204, 34.0061859207...  \n",
       "2           6  {\"rings\": [[[-117.30827571292721, 33.998408258...  \n",
       "3         368  {\"rings\": [[[-117.29207489771376, 34.006219097...  \n",
       "4           6  {\"rings\": [[[-117.27585404557786, 33.998437154...  "
      ]
     },
     "execution_count": 23,
     "metadata": {},
     "output_type": "execute_result"
    }
   ],
   "source": [
    "# We can see TOTPOP and SENIORS_CY\n",
    "enriched_areas.head()"
   ]
  },
  {
   "cell_type": "code",
   "execution_count": 24,
   "metadata": {},
   "outputs": [],
   "source": [
    "# Calculating the percentage of the total population\n",
    "# who are seniors in each analysis area\n",
    "enriched_areas[\"SENIORS_PERCENT\"] = enriched_areas[\"SENIORS_CY\"]  / enriched_areas[\"TOTPOP\"] * 100"
   ]
  },
  {
   "cell_type": "code",
   "execution_count": 25,
   "metadata": {},
   "outputs": [
    {
     "data": {
      "text/html": [
       "<div>\n",
       "<style scoped>\n",
       "    .dataframe tbody tr th:only-of-type {\n",
       "        vertical-align: middle;\n",
       "    }\n",
       "\n",
       "    .dataframe tbody tr th {\n",
       "        vertical-align: top;\n",
       "    }\n",
       "\n",
       "    .dataframe thead th {\n",
       "        text-align: right;\n",
       "    }\n",
       "</style>\n",
       "<table border=\"1\" class=\"dataframe\">\n",
       "  <thead>\n",
       "    <tr style=\"text-align: right;\">\n",
       "      <th></th>\n",
       "      <th>ID</th>\n",
       "      <th>OBJECTID</th>\n",
       "      <th>sourceCountry</th>\n",
       "      <th>aggregationMethod</th>\n",
       "      <th>populationToPolygonSizeRating</th>\n",
       "      <th>apportionmentConfidence</th>\n",
       "      <th>HasData</th>\n",
       "      <th>TOTPOP</th>\n",
       "      <th>SENIORS_CY</th>\n",
       "      <th>SHAPE</th>\n",
       "      <th>SENIORS_PERCENT</th>\n",
       "    </tr>\n",
       "  </thead>\n",
       "  <tbody>\n",
       "    <tr>\n",
       "      <th>0</th>\n",
       "      <td>0</td>\n",
       "      <td>1</td>\n",
       "      <td>US</td>\n",
       "      <td>BlockApportionment:US.BlockGroups;PointsLayer:...</td>\n",
       "      <td>2.191</td>\n",
       "      <td>2.576</td>\n",
       "      <td>1</td>\n",
       "      <td>2863</td>\n",
       "      <td>216</td>\n",
       "      <td>{\"rings\": [[[-117.34069735692039, 33.998370806...</td>\n",
       "      <td>7.544534</td>\n",
       "    </tr>\n",
       "    <tr>\n",
       "      <th>1</th>\n",
       "      <td>1</td>\n",
       "      <td>2</td>\n",
       "      <td>US</td>\n",
       "      <td>BlockApportionment:US.BlockGroups;PointsLayer:...</td>\n",
       "      <td>2.191</td>\n",
       "      <td>2.576</td>\n",
       "      <td>1</td>\n",
       "      <td>1016</td>\n",
       "      <td>90</td>\n",
       "      <td>{\"rings\": [[[-117.3244995205204, 34.0061859207...</td>\n",
       "      <td>8.858268</td>\n",
       "    </tr>\n",
       "    <tr>\n",
       "      <th>2</th>\n",
       "      <td>2</td>\n",
       "      <td>3</td>\n",
       "      <td>US</td>\n",
       "      <td>BlockApportionment:US.BlockGroups;PointsLayer:...</td>\n",
       "      <td>2.191</td>\n",
       "      <td>2.576</td>\n",
       "      <td>1</td>\n",
       "      <td>32</td>\n",
       "      <td>6</td>\n",
       "      <td>{\"rings\": [[[-117.30827571292721, 33.998408258...</td>\n",
       "      <td>18.750000</td>\n",
       "    </tr>\n",
       "    <tr>\n",
       "      <th>3</th>\n",
       "      <td>3</td>\n",
       "      <td>4</td>\n",
       "      <td>US</td>\n",
       "      <td>BlockApportionment:US.BlockGroups;PointsLayer:...</td>\n",
       "      <td>2.191</td>\n",
       "      <td>2.576</td>\n",
       "      <td>1</td>\n",
       "      <td>1856</td>\n",
       "      <td>368</td>\n",
       "      <td>{\"rings\": [[[-117.29207489771376, 34.006219097...</td>\n",
       "      <td>19.827586</td>\n",
       "    </tr>\n",
       "    <tr>\n",
       "      <th>4</th>\n",
       "      <td>4</td>\n",
       "      <td>5</td>\n",
       "      <td>US</td>\n",
       "      <td>BlockApportionment:US.BlockGroups;PointsLayer:...</td>\n",
       "      <td>2.191</td>\n",
       "      <td>2.576</td>\n",
       "      <td>1</td>\n",
       "      <td>32</td>\n",
       "      <td>6</td>\n",
       "      <td>{\"rings\": [[[-117.27585404557786, 33.998437154...</td>\n",
       "      <td>18.750000</td>\n",
       "    </tr>\n",
       "  </tbody>\n",
       "</table>\n",
       "</div>"
      ],
      "text/plain": [
       "  ID  OBJECTID sourceCountry  \\\n",
       "0  0         1            US   \n",
       "1  1         2            US   \n",
       "2  2         3            US   \n",
       "3  3         4            US   \n",
       "4  4         5            US   \n",
       "\n",
       "                                   aggregationMethod  \\\n",
       "0  BlockApportionment:US.BlockGroups;PointsLayer:...   \n",
       "1  BlockApportionment:US.BlockGroups;PointsLayer:...   \n",
       "2  BlockApportionment:US.BlockGroups;PointsLayer:...   \n",
       "3  BlockApportionment:US.BlockGroups;PointsLayer:...   \n",
       "4  BlockApportionment:US.BlockGroups;PointsLayer:...   \n",
       "\n",
       "   populationToPolygonSizeRating  apportionmentConfidence  HasData  TOTPOP  \\\n",
       "0                          2.191                    2.576        1    2863   \n",
       "1                          2.191                    2.576        1    1016   \n",
       "2                          2.191                    2.576        1      32   \n",
       "3                          2.191                    2.576        1    1856   \n",
       "4                          2.191                    2.576        1      32   \n",
       "\n",
       "   SENIORS_CY                                              SHAPE  \\\n",
       "0         216  {\"rings\": [[[-117.34069735692039, 33.998370806...   \n",
       "1          90  {\"rings\": [[[-117.3244995205204, 34.0061859207...   \n",
       "2           6  {\"rings\": [[[-117.30827571292721, 33.998408258...   \n",
       "3         368  {\"rings\": [[[-117.29207489771376, 34.006219097...   \n",
       "4           6  {\"rings\": [[[-117.27585404557786, 33.998437154...   \n",
       "\n",
       "   SENIORS_PERCENT  \n",
       "0         7.544534  \n",
       "1         8.858268  \n",
       "2        18.750000  \n",
       "3        19.827586  \n",
       "4        18.750000  "
      ]
     },
     "execution_count": 25,
     "metadata": {},
     "output_type": "execute_result"
    }
   ],
   "source": [
    "# We can see new column SENIORS_PERCENT\n",
    "enriched_areas.head()"
   ]
  },
  {
   "cell_type": "code",
   "execution_count": 26,
   "metadata": {},
   "outputs": [],
   "source": [
    "# Filtering the analysis areas with more than 25% seniors\n",
    "senior_populated_area = enriched_areas[enriched_areas[\"SENIORS_PERCENT\"] > 25]"
   ]
  },
  {
   "cell_type": "code",
   "execution_count": 27,
   "metadata": {
    "scrolled": true
   },
   "outputs": [
    {
     "data": {
      "text/html": [
       "<div>\n",
       "<style scoped>\n",
       "    .dataframe tbody tr th:only-of-type {\n",
       "        vertical-align: middle;\n",
       "    }\n",
       "\n",
       "    .dataframe tbody tr th {\n",
       "        vertical-align: top;\n",
       "    }\n",
       "\n",
       "    .dataframe thead th {\n",
       "        text-align: right;\n",
       "    }\n",
       "</style>\n",
       "<table border=\"1\" class=\"dataframe\">\n",
       "  <thead>\n",
       "    <tr style=\"text-align: right;\">\n",
       "      <th></th>\n",
       "      <th>ID</th>\n",
       "      <th>OBJECTID</th>\n",
       "      <th>sourceCountry</th>\n",
       "      <th>aggregationMethod</th>\n",
       "      <th>populationToPolygonSizeRating</th>\n",
       "      <th>apportionmentConfidence</th>\n",
       "      <th>HasData</th>\n",
       "      <th>TOTPOP</th>\n",
       "      <th>SENIORS_CY</th>\n",
       "      <th>SHAPE</th>\n",
       "      <th>SENIORS_PERCENT</th>\n",
       "    </tr>\n",
       "  </thead>\n",
       "  <tbody>\n",
       "    <tr>\n",
       "      <th>8</th>\n",
       "      <td>8</td>\n",
       "      <td>9</td>\n",
       "      <td>US</td>\n",
       "      <td>BlockApportionment:US.BlockGroups;PointsLayer:...</td>\n",
       "      <td>2.191</td>\n",
       "      <td>2.576</td>\n",
       "      <td>1</td>\n",
       "      <td>15</td>\n",
       "      <td>4</td>\n",
       "      <td>{\"rings\": [[[-117.21101065877684, 33.998469274...</td>\n",
       "      <td>26.666667</td>\n",
       "    </tr>\n",
       "    <tr>\n",
       "      <th>33</th>\n",
       "      <td>33</td>\n",
       "      <td>34</td>\n",
       "      <td>US</td>\n",
       "      <td>BlockApportionment:US.BlockGroups;PointsLayer:...</td>\n",
       "      <td>2.191</td>\n",
       "      <td>2.576</td>\n",
       "      <td>1</td>\n",
       "      <td>545</td>\n",
       "      <td>159</td>\n",
       "      <td>{\"rings\": [[[-117.16237255451121, 34.021856846...</td>\n",
       "      <td>29.174312</td>\n",
       "    </tr>\n",
       "    <tr>\n",
       "      <th>34</th>\n",
       "      <td>34</td>\n",
       "      <td>35</td>\n",
       "      <td>US</td>\n",
       "      <td>BlockApportionment:US.BlockGroups;PointsLayer:...</td>\n",
       "      <td>2.191</td>\n",
       "      <td>2.576</td>\n",
       "      <td>1</td>\n",
       "      <td>436</td>\n",
       "      <td>124</td>\n",
       "      <td>{\"rings\": [[[-117.1461605858152, 34.0140578056...</td>\n",
       "      <td>28.440367</td>\n",
       "    </tr>\n",
       "    <tr>\n",
       "      <th>35</th>\n",
       "      <td>35</td>\n",
       "      <td>36</td>\n",
       "      <td>US</td>\n",
       "      <td>BlockApportionment:US.BlockGroups;PointsLayer:...</td>\n",
       "      <td>2.191</td>\n",
       "      <td>2.576</td>\n",
       "      <td>1</td>\n",
       "      <td>1442</td>\n",
       "      <td>399</td>\n",
       "      <td>{\"rings\": [[[-117.12994195251805, 34.021847232...</td>\n",
       "      <td>27.669903</td>\n",
       "    </tr>\n",
       "    <tr>\n",
       "      <th>36</th>\n",
       "      <td>36</td>\n",
       "      <td>37</td>\n",
       "      <td>US</td>\n",
       "      <td>BlockApportionment:US.BlockGroups;PointsLayer:...</td>\n",
       "      <td>2.191</td>\n",
       "      <td>2.576</td>\n",
       "      <td>1</td>\n",
       "      <td>503</td>\n",
       "      <td>137</td>\n",
       "      <td>{\"rings\": [[[-117.11373295634729, 34.014043913...</td>\n",
       "      <td>27.236581</td>\n",
       "    </tr>\n",
       "    <tr>\n",
       "      <th>43</th>\n",
       "      <td>43</td>\n",
       "      <td>44</td>\n",
       "      <td>US</td>\n",
       "      <td>BlockApportionment:US.BlockGroups;PointsLayer:...</td>\n",
       "      <td>2.191</td>\n",
       "      <td>2.576</td>\n",
       "      <td>1</td>\n",
       "      <td>750</td>\n",
       "      <td>195</td>\n",
       "      <td>{\"rings\": [[[-117.00021971881849, 34.021723183...</td>\n",
       "      <td>26.000000</td>\n",
       "    </tr>\n",
       "    <tr>\n",
       "      <th>53</th>\n",
       "      <td>53</td>\n",
       "      <td>54</td>\n",
       "      <td>US</td>\n",
       "      <td>BlockApportionment:US.BlockGroups;PointsLayer:...</td>\n",
       "      <td>2.191</td>\n",
       "      <td>2.576</td>\n",
       "      <td>1</td>\n",
       "      <td>2185</td>\n",
       "      <td>734</td>\n",
       "      <td>{\"rings\": [[[-117.1948053960044, 34.0374484789...</td>\n",
       "      <td>33.592677</td>\n",
       "    </tr>\n",
       "    <tr>\n",
       "      <th>54</th>\n",
       "      <td>54</td>\n",
       "      <td>55</td>\n",
       "      <td>US</td>\n",
       "      <td>BlockApportionment:US.BlockGroups;PointsLayer:...</td>\n",
       "      <td>2.191</td>\n",
       "      <td>2.576</td>\n",
       "      <td>1</td>\n",
       "      <td>2035</td>\n",
       "      <td>558</td>\n",
       "      <td>{\"rings\": [[[-117.17858749124095, 34.029653737...</td>\n",
       "      <td>27.420147</td>\n",
       "    </tr>\n",
       "    <tr>\n",
       "      <th>55</th>\n",
       "      <td>55</td>\n",
       "      <td>56</td>\n",
       "      <td>US</td>\n",
       "      <td>BlockApportionment:US.BlockGroups;PointsLayer:...</td>\n",
       "      <td>2.191</td>\n",
       "      <td>2.576</td>\n",
       "      <td>1</td>\n",
       "      <td>2883</td>\n",
       "      <td>856</td>\n",
       "      <td>{\"rings\": [[[-117.16236885435056, 34.037447424...</td>\n",
       "      <td>29.691294</td>\n",
       "    </tr>\n",
       "    <tr>\n",
       "      <th>56</th>\n",
       "      <td>56</td>\n",
       "      <td>57</td>\n",
       "      <td>US</td>\n",
       "      <td>BlockApportionment:US.BlockGroups;PointsLayer:...</td>\n",
       "      <td>2.191</td>\n",
       "      <td>2.576</td>\n",
       "      <td>1</td>\n",
       "      <td>2169</td>\n",
       "      <td>673</td>\n",
       "      <td>{\"rings\": [[[-117.14615391941746, 34.029648402...</td>\n",
       "      <td>31.028124</td>\n",
       "    </tr>\n",
       "    <tr>\n",
       "      <th>57</th>\n",
       "      <td>57</td>\n",
       "      <td>58</td>\n",
       "      <td>US</td>\n",
       "      <td>BlockApportionment:US.BlockGroups;PointsLayer:...</td>\n",
       "      <td>2.191</td>\n",
       "      <td>2.576</td>\n",
       "      <td>1</td>\n",
       "      <td>869</td>\n",
       "      <td>239</td>\n",
       "      <td>{\"rings\": [[[-117.12993231718829, 34.037437808...</td>\n",
       "      <td>27.502877</td>\n",
       "    </tr>\n",
       "    <tr>\n",
       "      <th>65</th>\n",
       "      <td>65</td>\n",
       "      <td>66</td>\n",
       "      <td>US</td>\n",
       "      <td>BlockApportionment:US.BlockGroups;PointsLayer:...</td>\n",
       "      <td>2.191</td>\n",
       "      <td>2.576</td>\n",
       "      <td>1</td>\n",
       "      <td>696</td>\n",
       "      <td>179</td>\n",
       "      <td>{\"rings\": [[[-117.00018634011747, 34.037313737...</td>\n",
       "      <td>25.718391</td>\n",
       "    </tr>\n",
       "  </tbody>\n",
       "</table>\n",
       "</div>"
      ],
      "text/plain": [
       "    ID  OBJECTID sourceCountry  \\\n",
       "8    8         9            US   \n",
       "33  33        34            US   \n",
       "34  34        35            US   \n",
       "35  35        36            US   \n",
       "36  36        37            US   \n",
       "43  43        44            US   \n",
       "53  53        54            US   \n",
       "54  54        55            US   \n",
       "55  55        56            US   \n",
       "56  56        57            US   \n",
       "57  57        58            US   \n",
       "65  65        66            US   \n",
       "\n",
       "                                    aggregationMethod  \\\n",
       "8   BlockApportionment:US.BlockGroups;PointsLayer:...   \n",
       "33  BlockApportionment:US.BlockGroups;PointsLayer:...   \n",
       "34  BlockApportionment:US.BlockGroups;PointsLayer:...   \n",
       "35  BlockApportionment:US.BlockGroups;PointsLayer:...   \n",
       "36  BlockApportionment:US.BlockGroups;PointsLayer:...   \n",
       "43  BlockApportionment:US.BlockGroups;PointsLayer:...   \n",
       "53  BlockApportionment:US.BlockGroups;PointsLayer:...   \n",
       "54  BlockApportionment:US.BlockGroups;PointsLayer:...   \n",
       "55  BlockApportionment:US.BlockGroups;PointsLayer:...   \n",
       "56  BlockApportionment:US.BlockGroups;PointsLayer:...   \n",
       "57  BlockApportionment:US.BlockGroups;PointsLayer:...   \n",
       "65  BlockApportionment:US.BlockGroups;PointsLayer:...   \n",
       "\n",
       "    populationToPolygonSizeRating  apportionmentConfidence  HasData  TOTPOP  \\\n",
       "8                           2.191                    2.576        1      15   \n",
       "33                          2.191                    2.576        1     545   \n",
       "34                          2.191                    2.576        1     436   \n",
       "35                          2.191                    2.576        1    1442   \n",
       "36                          2.191                    2.576        1     503   \n",
       "43                          2.191                    2.576        1     750   \n",
       "53                          2.191                    2.576        1    2185   \n",
       "54                          2.191                    2.576        1    2035   \n",
       "55                          2.191                    2.576        1    2883   \n",
       "56                          2.191                    2.576        1    2169   \n",
       "57                          2.191                    2.576        1     869   \n",
       "65                          2.191                    2.576        1     696   \n",
       "\n",
       "    SENIORS_CY                                              SHAPE  \\\n",
       "8            4  {\"rings\": [[[-117.21101065877684, 33.998469274...   \n",
       "33         159  {\"rings\": [[[-117.16237255451121, 34.021856846...   \n",
       "34         124  {\"rings\": [[[-117.1461605858152, 34.0140578056...   \n",
       "35         399  {\"rings\": [[[-117.12994195251805, 34.021847232...   \n",
       "36         137  {\"rings\": [[[-117.11373295634729, 34.014043913...   \n",
       "43         195  {\"rings\": [[[-117.00021971881849, 34.021723183...   \n",
       "53         734  {\"rings\": [[[-117.1948053960044, 34.0374484789...   \n",
       "54         558  {\"rings\": [[[-117.17858749124095, 34.029653737...   \n",
       "55         856  {\"rings\": [[[-117.16236885435056, 34.037447424...   \n",
       "56         673  {\"rings\": [[[-117.14615391941746, 34.029648402...   \n",
       "57         239  {\"rings\": [[[-117.12993231718829, 34.037437808...   \n",
       "65         179  {\"rings\": [[[-117.00018634011747, 34.037313737...   \n",
       "\n",
       "    SENIORS_PERCENT  \n",
       "8         26.666667  \n",
       "33        29.174312  \n",
       "34        28.440367  \n",
       "35        27.669903  \n",
       "36        27.236581  \n",
       "43        26.000000  \n",
       "53        33.592677  \n",
       "54        27.420147  \n",
       "55        29.691294  \n",
       "56        31.028124  \n",
       "57        27.502877  \n",
       "65        25.718391  "
      ]
     },
     "execution_count": 27,
     "metadata": {},
     "output_type": "execute_result"
    }
   ],
   "source": [
    "# See all these filtered areas\n",
    "senior_populated_area"
   ]
  },
  {
   "cell_type": "code",
   "execution_count": 28,
   "metadata": {},
   "outputs": [
    {
     "data": {
      "text/plain": [
       "12"
      ]
     },
     "execution_count": 28,
     "metadata": {},
     "output_type": "execute_result"
    }
   ],
   "source": [
    "# Amount of these filtered areas\n",
    "senior_populated_area.shape[0]"
   ]
  },
  {
   "cell_type": "code",
   "execution_count": 29,
   "metadata": {},
   "outputs": [
    {
     "data": {
      "application/vnd.jupyter.widget-view+json": {
       "model_id": "d60d8818dd964b8da3e4e555072a8383",
       "version_major": 2,
       "version_minor": 0
      },
      "text/plain": [
       "MapView(layout=Layout(height='400px', width='100%'))"
      ]
     },
     "metadata": {},
     "output_type": "display_data"
    },
    {
     "data": {
      "text/html": [
       "<div class=\"map-static-img-preview-d13e11f1-52b7-4c55-8892-4e3dc1ad0954\"><img src=\"\"></img></div>"
      ],
      "text/plain": [
       "<IPython.core.display.HTML object>"
      ]
     },
     "metadata": {},
     "output_type": "display_data"
    },
    {
     "data": {
      "text/html": [
       "<div class=\"map-html-embed-preview-d13e11f1-52b7-4c55-8892-4e3dc1ad0954\"></div>"
      ],
      "text/plain": [
       "<IPython.core.display.HTML object>"
      ]
     },
     "metadata": {},
     "output_type": "display_data"
    }
   ],
   "source": [
    "# Move all these filtered areas on the map\n",
    "inland_empire_map2 = gis.map('Redlands, CA, USA', zoomlevel=12)\n",
    "inland_empire_map2.basemap = 'openstreetmap'\n",
    "inland_empire_map2.add_layer(FeatureSet.from_dataframe(senior_populated_area.copy()))\n",
    "inland_empire_map2"
   ]
  },
  {
   "cell_type": "code",
   "execution_count": 30,
   "metadata": {},
   "outputs": [
    {
     "name": "stderr",
     "output_type": "stream",
     "text": [
      "c:\\users\\alexw\\desktop\\_my_files\\jupyter\\introduction_with_jupyter_and_arcgis\\venv\\lib\\site-packages\\jupyter_client\\session.py:716: UserWarning: Message serialization failed with:\n",
      "Out of range float values are not JSON compliant\n",
      "Supporting this message is deprecated in jupyter-client 7, please make sure your message is JSON-compliant\n",
      "  content = self.pack(content)\n"
     ]
    },
    {
     "data": {
      "application/vnd.jupyter.widget-view+json": {
       "model_id": "8b12cf73b514452db714d1ee94407132",
       "version_major": 2,
       "version_minor": 0
      },
      "text/plain": [
       "MapView(layout=Layout(height='400px', width='100%'))"
      ]
     },
     "metadata": {},
     "output_type": "display_data"
    },
    {
     "data": {
      "text/html": [
       "<div class=\"map-static-img-preview-02b64520-516a-41fb-98eb-a5551239717e\"><img src=\"\"></img></div>"
      ],
      "text/plain": [
       "<IPython.core.display.HTML object>"
      ]
     },
     "metadata": {},
     "output_type": "display_data"
    },
    {
     "data": {
      "text/html": [
       "<div class=\"map-html-embed-preview-02b64520-516a-41fb-98eb-a5551239717e\"></div>"
      ],
      "text/plain": [
       "<IPython.core.display.HTML object>"
      ]
     },
     "metadata": {},
     "output_type": "display_data"
    }
   ],
   "source": [
    "inland_empire_map3 = gis.map('Redlands, CA, USA', zoomlevel=12)\n",
    "inland_empire_map3.basemap = 'openstreetmap'\n",
    "inland_empire_map3.add_layer(FeatureSet.from_dataframe(senior_populated_area.copy()))\n",
    "\n",
    "# Draw yonger and senior population on the area for each hexagon\n",
    "# (larger symbol size = greater percentage of seniors)\n",
    "inland_empire_map3.add_layer(\n",
    "    FeatureSet.from_dataframe(enriched_areas),\n",
    "    {'renderer':'ClassedSizeRenderer','field_name':'SENIORS_PERCENT', 'opacity':0.5}\n",
    ")\n",
    "\n",
    "inland_empire_map3"
   ]
  },
  {
   "cell_type": "code",
   "execution_count": 31,
   "metadata": {},
   "outputs": [
    {
     "data": {
      "text/html": [
       "<div>\n",
       "<style scoped>\n",
       "    .dataframe tbody tr th:only-of-type {\n",
       "        vertical-align: middle;\n",
       "    }\n",
       "\n",
       "    .dataframe tbody tr th {\n",
       "        vertical-align: top;\n",
       "    }\n",
       "\n",
       "    .dataframe thead th {\n",
       "        text-align: right;\n",
       "    }\n",
       "</style>\n",
       "<table border=\"1\" class=\"dataframe\">\n",
       "  <thead>\n",
       "    <tr style=\"text-align: right;\">\n",
       "      <th></th>\n",
       "      <th>ID</th>\n",
       "      <th>OBJECTID</th>\n",
       "      <th>sourceCountry</th>\n",
       "      <th>aggregationMethod</th>\n",
       "      <th>populationToPolygonSizeRating</th>\n",
       "      <th>apportionmentConfidence</th>\n",
       "      <th>HasData</th>\n",
       "      <th>TOTPOP</th>\n",
       "      <th>SENIORS_CY</th>\n",
       "      <th>SHAPE</th>\n",
       "      <th>SENIORS_PERCENT</th>\n",
       "    </tr>\n",
       "  </thead>\n",
       "  <tbody>\n",
       "    <tr>\n",
       "      <th>53</th>\n",
       "      <td>53</td>\n",
       "      <td>54</td>\n",
       "      <td>US</td>\n",
       "      <td>BlockApportionment:US.BlockGroups;PointsLayer:...</td>\n",
       "      <td>2.191</td>\n",
       "      <td>2.576</td>\n",
       "      <td>1</td>\n",
       "      <td>2185</td>\n",
       "      <td>734</td>\n",
       "      <td>{\"rings\": [[[-117.1948053960044, 34.0374484789...</td>\n",
       "      <td>33.592677</td>\n",
       "    </tr>\n",
       "  </tbody>\n",
       "</table>\n",
       "</div>"
      ],
      "text/plain": [
       "    ID  OBJECTID sourceCountry  \\\n",
       "53  53        54            US   \n",
       "\n",
       "                                    aggregationMethod  \\\n",
       "53  BlockApportionment:US.BlockGroups;PointsLayer:...   \n",
       "\n",
       "    populationToPolygonSizeRating  apportionmentConfidence  HasData  TOTPOP  \\\n",
       "53                          2.191                    2.576        1    2185   \n",
       "\n",
       "    SENIORS_CY                                              SHAPE  \\\n",
       "53         734  {\"rings\": [[[-117.1948053960044, 34.0374484789...   \n",
       "\n",
       "    SENIORS_PERCENT  \n",
       "53        33.592677  "
      ]
     },
     "execution_count": 31,
     "metadata": {},
     "output_type": "execute_result"
    }
   ],
   "source": [
    "# Let's find out most senior area\n",
    "most_senior_area = enriched_areas[enriched_areas.SENIORS_PERCENT == enriched_areas.SENIORS_PERCENT.max()]\n",
    "most_senior_area"
   ]
  },
  {
   "cell_type": "code",
   "execution_count": 32,
   "metadata": {},
   "outputs": [],
   "source": [
    "# Draw into the map the most senior area\n",
    "\n",
    "fill_symbol = {\n",
    "  \"type\": \"esriSFS\",\n",
    "  \"style\": \"esriSFSSolid\",\n",
    "  \"color\": [255,0,0,255],\n",
    "    \"outline\": {\n",
    "     \"type\": \"esriSLS\",\n",
    "     \"style\": \"esriSLSSolid\",\n",
    "     \"color\": [0,0,0,255],\n",
    "     \"width\": 1\n",
    "    }\n",
    "}\n",
    "\n",
    "inland_empire_map3.draw(most_senior_area.iloc[0].SHAPE, symbol = fill_symbol)"
   ]
  },
  {
   "cell_type": "markdown",
   "metadata": {},
   "source": [
    "## Building Report\n",
    "\n",
    "Let's dive into this area (**most senior area**) more deeper and build infographic report."
   ]
  },
  {
   "cell_type": "code",
   "execution_count": 33,
   "metadata": {},
   "outputs": [],
   "source": [
    "most_senior_study_area = {\"geometry\":most_senior_area.iloc[0].SHAPE}\n",
    "\n",
    "# Coronavirus impact planning report\n",
    "report = create_report(\n",
    "    study_areas=[most_senior_study_area],\n",
    "    report={\"itemid\":\"ac36af7d86b74071a1cff5dc11f52ae8\"}, \n",
    "    out_name=\"COVID Impact Planning Profile.pdf\", \n",
    "    out_folder=\"output\"\n",
    ")"
   ]
  },
  {
   "cell_type": "code",
   "execution_count": 34,
   "metadata": {},
   "outputs": [],
   "source": [
    "# Also create_report() allow you to build a report in html-format\n",
    "# Let's build another report: health care & insurace \n",
    "report2 = create_report(\n",
    "    study_areas=[most_senior_study_area], \n",
    "    report={\"itemid\":\"d29fcd15f66f46edad86499675b0ec03\"}, \n",
    "    export_format='html', \n",
    "    out_name=\"Health Care and Insurance.html\", \n",
    "    out_folder=\"output\"\n",
    ")"
   ]
  },
  {
   "cell_type": "code",
   "execution_count": null,
   "metadata": {},
   "outputs": [],
   "source": []
  }
 ],
 "metadata": {
  "kernelspec": {
   "display_name": "Python 3 (ipykernel)",
   "language": "python",
   "name": "python3"
  },
  "language_info": {
   "codemirror_mode": {
    "name": "ipython",
    "version": 3
   },
   "file_extension": ".py",
   "mimetype": "text/x-python",
   "name": "python",
   "nbconvert_exporter": "python",
   "pygments_lexer": "ipython3",
   "version": "3.8.10"
  }
 },
 "nbformat": 4,
 "nbformat_minor": 2
}
